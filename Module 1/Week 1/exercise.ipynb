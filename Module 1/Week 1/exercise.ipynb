{
 "cells": [
  {
   "cell_type": "markdown",
   "metadata": {},
   "source": [
    "# I. CONSTRUCTED-RESPONSE"
   ]
  },
  {
   "cell_type": "markdown",
   "metadata": {},
   "source": [
    "<hr>"
   ]
  },
  {
   "cell_type": "markdown",
   "metadata": {},
   "source": [
    "## 1. Write a function to evaluate a classification model using F1-score"
   ]
  },
  {
   "cell_type": "markdown",
   "metadata": {},
   "source": [
    "- $\\text{Precision} = \\frac{\\text{TP}}{\\text{TP} + \\text{FP}}$\n",
    "\n",
    "- $\\text{Recall} = \\frac{\\text{TP}}{\\text{TP} + \\text{FN}}$\n",
    "\n",
    "- $\\text{F1-score} = 2 * \\frac{\\text{Precision} * \\text{Recall}}{\\text{Precision} + \\text{Recall}}$"
   ]
  },
  {
   "cell_type": "code",
   "execution_count": 20,
   "metadata": {},
   "outputs": [
    {
     "name": "stdout",
     "output_type": "stream",
     "text": [
      "tp must be int\n"
     ]
    }
   ],
   "source": [
    "def is_number(n):\n",
    "    try:\n",
    "        float(n)\n",
    "    except ValueError:\n",
    "        return False\n",
    "    return True\n",
    "\n",
    "def evaluate_classification_model (tp, fp, fn):\n",
    "    # Check if input value are int\n",
    "    if not is_number(tp):\n",
    "        print (\"tp must be int\")\n",
    "        return\n",
    "    if not is_number(fp):\n",
    "        print (\"fp must be int\")\n",
    "        return\n",
    "    if not is_number(fn):\n",
    "        print (\"fn must be int\")\n",
    "        return\n",
    "    \n",
    "    # Check if input value are greate than 0\n",
    "    tp = int(tp)\n",
    "    fp = int(fp)\n",
    "    fn = int(fn)\n",
    "    \n",
    "    if tp <= 0 or fp <= 0 or fn <= 0:\n",
    "        print (\"tp and fp and fn must be greater than zero\")\n",
    "        return\n",
    "    \n",
    "    # Caculate F1-score\n",
    "    precision = tp / (tp + fp)\n",
    "    recall = tp / (tp + fn)\n",
    "    f1_score = 2 * (precision * recall) / (precision + recall)\n",
    "    \n",
    "    print (f'Precision: {precision}')\n",
    "    print (f'Recall: {recall}')\n",
    "    print (f'F1-score: {f1_score}')\n",
    "    \n",
    "tp = input(\"tp: \")\n",
    "fp = input(\"fp: \")\n",
    "fn = input(\"fn: \")\n",
    "\n",
    "evaluate_classification_model (tp, fp, fn)"
   ]
  },
  {
   "cell_type": "markdown",
   "metadata": {},
   "source": [
    "<hr>"
   ]
  },
  {
   "cell_type": "markdown",
   "metadata": {},
   "source": [
    "## 2. Write a function to simulate 3 activation functions"
   ]
  },
  {
   "cell_type": "markdown",
   "metadata": {},
   "source": [
    "- $\\text{Sigmoid}(x) = \\frac{1}{1 + e^{-x}}$\n",
    "\n",
    "- $\\text{RELU}(x) = \n",
    "\\begin{cases} \n",
    "0 & \\text{if } x \\le 0 \\\\\n",
    "x & \\text{if } x > 0 \n",
    "\\end{cases}$\n",
    "\n",
    "- $\\text{ELU}(x) = \n",
    "\\begin{cases} \n",
    "\\alpha (e^x - 1) & \\text{if } x \\le 0 \\\\\n",
    "x & \\text{if } x > 0 \n",
    "\\end{cases}$"
   ]
  },
  {
   "cell_type": "code",
   "execution_count": 24,
   "metadata": {},
   "outputs": [
    {
     "name": "stdout",
     "output_type": "stream",
     "text": [
      "x must be a number\n"
     ]
    }
   ],
   "source": [
    "import math\n",
    "\n",
    "def is_number(n):\n",
    "    try:\n",
    "        float(n)\n",
    "    except ValueError:\n",
    "        return False\n",
    "    return True\n",
    "\n",
    "def sigmoid(x):\n",
    "    result = 1 / (1 + math.exp(-x))\n",
    "    return result\n",
    "\n",
    "def relu(x):\n",
    "    if x > 0:\n",
    "        return x\n",
    "    else:\n",
    "        return 0\n",
    "\n",
    "def elu(x):\n",
    "    if x > 0:\n",
    "        return x\n",
    "    else:\n",
    "        result = 0.01 * (math.exp(x) - 1)\n",
    "        return result\n",
    "\n",
    "def activation_function (x, function_name):\n",
    "    if not is_number(x):\n",
    "        print (\"x must be a number\")\n",
    "        return\n",
    "    x = float(x)\n",
    "    if function_name != 'sigmoid' and function_name != 'relu' and function_name != 'elu':\n",
    "        print (f'{function_name} is not supported')\n",
    "        return\n",
    "    \n",
    "    if function_name == 'sigmoid':\n",
    "        print (f'x: {x}, sigmoid: {sigmoid(x)} ')\n",
    "    elif function_name == 'relu':\n",
    "        print (f'x: {x}, relu: {relu(x)}')\n",
    "    elif function_name == 'elu':\n",
    "        print (f'x: {x}, elu: {elu(x)}')\n",
    "        \n",
    "x = input(\"x: \")\n",
    "function_name = input(\"function_name: \")\n",
    "\n",
    "activation_function(x, function_name)"
   ]
  },
  {
   "cell_type": "markdown",
   "metadata": {},
   "source": [
    "<hr>"
   ]
  },
  {
   "cell_type": "markdown",
   "metadata": {},
   "source": [
    "## 3. Write a function to choose a loss function to caculate loss"
   ]
  },
  {
   "cell_type": "markdown",
   "metadata": {},
   "source": [
    "- $\\text{MAE} = \\frac{1}{n} \\sum_{i=1}^{n} |y_i - \\hat{y}_i|$\n",
    "\n",
    "- $\\text{MSE} = \\frac{1}{n} \\sum_{i=1}^{n} (y_i - \\hat{y}_i)^2$\n",
    "\n",
    "- $\\text{RMSE} = \\sqrt{\\frac{1}{n} \\sum_{i=1}^{n} (y_i - \\hat{y}_i)^2}$"
   ]
  },
  {
   "cell_type": "code",
   "execution_count": 28,
   "metadata": {},
   "outputs": [
    {
     "name": "stdout",
     "output_type": "stream",
     "text": [
      "loss name: MSE, sample: 0, pre: 6.0248758729398375, target: 4.446936673076037, loss: 0.8299640394889374\n",
      "loss name: MSE, sample: 1, pre: 4.930465438313347, target: 2.5055781258500853, loss: 2.7899901988707043\n",
      "loss name: MSE, sample: 2, pre: 1.1867897794857551, target: 6.157580510795016, loss: 11.026243697027391\n"
     ]
    }
   ],
   "source": [
    "import math\n",
    "import random\n",
    "\n",
    "def loss_function(num_samples, loss_name):\n",
    "    if not num_samples.isnumeric():\n",
    "        print (\"number of samples must be an integer number\")\n",
    "        return\n",
    "    \n",
    "    num_samples = int(num_samples)\n",
    "    result = 0\n",
    "    \n",
    "    for i in range (num_samples):\n",
    "        predict = random.uniform(0, 10)\n",
    "        target = random.uniform(0,10)\n",
    "        \n",
    "        if loss_name == 'MAE':\n",
    "            result += math.abs(target - predict) / num_samples\n",
    "        if loss_name == 'MSE':\n",
    "            result += (target - predict) ** 2 / num_samples\n",
    "            \n",
    "        print(f'loss name: {loss_name}, sample: {i}, pre: {predict}, target: {target}, loss: {result}')\n",
    "\n",
    "num_samples = input(\"num_samples: \")\n",
    "loss_name = input(\"loss_name: \")\n",
    "\n",
    "loss_function (num_samples, loss_name)"
   ]
  },
  {
   "cell_type": "markdown",
   "metadata": {},
   "source": [
    "<hr>"
   ]
  },
  {
   "cell_type": "markdown",
   "metadata": {},
   "source": [
    "## 4. Write 4 functions to caculate sin, cos, sinh, and cosh"
   ]
  },
  {
   "cell_type": "markdown",
   "metadata": {},
   "source": [
    "- $\\text{sin(x)} \\approx \\sum_{n=0}^{\\infty} (-1)^{n} \\frac{x^{2n+1}}{(2n+1)!} = \\text{x} - \\frac{x^3}{3!} + \\frac{x^5}{5!} - \\frac{x^7}{7!} + \\frac{x^9}{9!} - ...$\n",
    "\n",
    "- $\\text{cos(x)} \\approx \\sum_{n=0}^{\\infty} (-1)^{n} \\frac{x^{2n}}{(2n)!} = 1 - \\frac{x^2}{2!} + \\frac{x^4}{4!} - \\frac{x^6}{6!} + \\frac{x^8}{8!} - ...$\n",
    "\n",
    "- $\\text{sinh(x)} \\approx \\sum_{n=0}^{\\infty} \\frac{x^{2n+1}}{(2n+1)!} = \\text{x} + \\frac{x^3}{3!} + \\frac{x^5}{5!} + \\frac{x^7}{7!} + \\frac{x^9}{9!} + ...$\n",
    "\n",
    "- $\\text{cosh(x)} \\approx \\sum_{n=0}^{\\infty} \\frac{x^{2n}}{(2n)!} = 1 + \\frac{x^2}{2!} + \\frac{x^4}{4!} + \\frac{x^6}{6!} + \\frac{x^8}{8!} + ...$\n"
   ]
  },
  {
   "cell_type": "code",
   "execution_count": 31,
   "metadata": {},
   "outputs": [
    {
     "name": "stdout",
     "output_type": "stream",
     "text": [
      "sin(3.14) = 0.001592652393160744\n",
      "cos(3.14) = -0.9999987352210833\n",
      "sinh(3.14) = 11.530292029865986\n",
      "cosh(3.14) = 11.573574824666185\n"
     ]
    }
   ],
   "source": [
    "def factorial(x):\n",
    "    result = 1\n",
    "    for i in range (1, x + 1):\n",
    "        result *= i\n",
    "    \n",
    "    return result\n",
    "\n",
    "def sin(x, loop_times):\n",
    "    result = 0\n",
    "    for n in range (loop_times):\n",
    "        result += (-1)**n * x**(2*n+1) / factorial(2*n+1)\n",
    "    return result\n",
    "\n",
    "def cos(x, loop_times):\n",
    "    result = 0\n",
    "    for n in range (loop_times):\n",
    "        result += (-1)**n * x**(2*n) / factorial(2*n)\n",
    "    return result\n",
    "\n",
    "def sinh(x, loop_times):\n",
    "    result = 0\n",
    "    for n in range (loop_times):\n",
    "        result += x**(2*n+1) / factorial(2*n+1)\n",
    "    return result\n",
    "\n",
    "def cosh(x, loop_times):\n",
    "    result = 0\n",
    "    for n in range (loop_times):\n",
    "        result += x**(2*n) / factorial(2*n)\n",
    "    return result\n",
    "\n",
    "x = float(input(\"x: \"))\n",
    "n = int(input(\"n: \"))\n",
    "\n",
    "print(f'sin({x}) = {sin(x,n)}')\n",
    "print(f'cos({x}) = {cos(x,n)}')\n",
    "print(f'sinh({x}) = {sinh(x,n)}')\n",
    "print(f'cosh({x}) = {cosh(x,n)}')"
   ]
  },
  {
   "cell_type": "markdown",
   "metadata": {},
   "source": [
    "<hr>"
   ]
  },
  {
   "cell_type": "markdown",
   "metadata": {},
   "source": [
    "## 5. Write a function to caculate Mean Difference of nth Root Error"
   ]
  },
  {
   "cell_type": "markdown",
   "metadata": {},
   "source": [
    "$ \\text{MD\\_nRE} = \\frac{1}{\\text{m}} \\sum_{i=1}^{m} \\left( \\sqrt[n]{y_i} - \\sqrt[n]{\\hat{y}_i}\\right)^p$"
   ]
  },
  {
   "cell_type": "code",
   "execution_count": 32,
   "metadata": {},
   "outputs": [
    {
     "name": "stdout",
     "output_type": "stream",
     "text": [
      "0.025031328369998107\n"
     ]
    }
   ],
   "source": [
    "def mean_difference (y, y_hat, n, p):\n",
    "    result = (y**(1/n) - y_hat**(1/n))**p\n",
    "    return result\n",
    "\n",
    "y = float(input(\"y: \"))\n",
    "y_hat = float(input(\"y_hat: \"))\n",
    "n = float(input(\"n: \"))\n",
    "p = float(input(\"p: \"))\n",
    "\n",
    "print(mean_difference(y, y_hat, n, p))"
   ]
  }
 ],
 "metadata": {
  "kernelspec": {
   "display_name": "base",
   "language": "python",
   "name": "python3"
  },
  "language_info": {
   "codemirror_mode": {
    "name": "ipython",
    "version": 3
   },
   "file_extension": ".py",
   "mimetype": "text/x-python",
   "name": "python",
   "nbconvert_exporter": "python",
   "pygments_lexer": "ipython3",
   "version": "3.11.7"
  }
 },
 "nbformat": 4,
 "nbformat_minor": 2
}
