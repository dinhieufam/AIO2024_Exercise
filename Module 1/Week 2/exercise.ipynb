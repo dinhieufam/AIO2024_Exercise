{
 "cells": [
  {
   "cell_type": "markdown",
   "metadata": {},
   "source": [
    "## 1. We have a list `num_list` and a sliding window sized **k**. In each movement of the sliding windown to the right, find the maximum number in those **k** numbers"
   ]
  },
  {
   "cell_type": "code",
   "execution_count": 19,
   "metadata": {},
   "outputs": [
    {
     "name": "stdout",
     "output_type": "stream",
     "text": [
      "[5, 5, 5, 5, 10, 12, 33, 33]\n",
      "[5, 5, 5]\n",
      "[5, 5, 5, 5, 10, 12, 33, 33]\n"
     ]
    }
   ],
   "source": [
    "def max_nums(num_list, k):\n",
    "    # Check if k is smaller than 1\n",
    "    if (k < 1):\n",
    "        print (\"k must not be smaller than 1\")\n",
    "        return\n",
    "    \n",
    "    result = []\n",
    "    length = len(num_list)\n",
    "    \n",
    "    # Find the max number in each sliding window\n",
    "    for idx in range (length - k + 1):\n",
    "        max_num = max(num_list[idx : idx + k])\n",
    "        result.append(max_num)\n",
    "        \n",
    "    print(result)\n",
    "\n",
    "# Example\n",
    "max_nums([3,4,5,1,-44,5,10,12,33,1], 3)\n",
    "max_nums([3,4,5,1,-44], 3)\n",
    "max_nums([3,4,5,1,-44,5,10,12,33,1], 3)"
   ]
  },
  {
   "cell_type": "markdown",
   "metadata": {},
   "source": [
    "<hr>"
   ]
  },
  {
   "cell_type": "markdown",
   "metadata": {},
   "source": [
    "## 2. Write a function that returns the number of appearances of characters, with `key` is the character and `value` is the number of appearances"
   ]
  },
  {
   "cell_type": "code",
   "execution_count": 20,
   "metadata": {},
   "outputs": [
    {
     "name": "stdout",
     "output_type": "stream",
     "text": [
      "{'H': 1, 'a': 1, 'e': 1, 'i': 1, 'n': 1, 'p': 2, 's': 2}\n",
      "{'e': 1, 'i': 1, 'l': 1, 'm': 1, 's': 2}\n",
      "{'B': 1, 'a': 1, 'b': 1, 'y': 1}\n"
     ]
    }
   ],
   "source": [
    "def count_chars(word):\n",
    "    result = {}\n",
    "    \n",
    "    # Find the frequency of each character\n",
    "    for char in word:\n",
    "        if char not in result:\n",
    "            result[char] = 1\n",
    "        else:\n",
    "            result[char] += 1\n",
    "    \n",
    "    # Sort the dictionary by keys\n",
    "    result = {key:result[key] for key in sorted(result)}\n",
    "    \n",
    "    print(result)\n",
    "\n",
    "# Example\n",
    "count_chars('Happiness')\n",
    "count_chars('smiles')\n",
    "count_chars('Baby')"
   ]
  },
  {
   "cell_type": "markdown",
   "metadata": {},
   "source": [
    "<hr>"
   ]
  },
  {
   "cell_type": "markdown",
   "metadata": {},
   "source": [
    "## 3. Write a function to read a txt file, count the frequency of words and return a dictionary with `key` is the word and `value` is its frequency"
   ]
  },
  {
   "cell_type": "code",
   "execution_count": 21,
   "metadata": {},
   "outputs": [
    {
     "name": "stdout",
     "output_type": "stream",
     "text": [
      "{'a': 7, 'again': 1, 'and': 1, 'are': 1, 'at': 1, 'be': 1, 'become': 2, 'bricks': 1, 'busy': 1, 'but': 1, 'came': 1, 'can': 3, 'cannot': 1, 'change': 1, 'comes': 2, 'conquers': 1, 'courage': 1, 'day': 1, 'different': 1, 'employed': 1, 'enough': 1, 'everything': 1, 'firm': 1, 'for': 3, 'foundation': 1, 'from': 1, 'get': 2, 'have': 1, 'he': 1, 'help': 1, 'him': 1, 'himself': 1, 'his': 2, 'if': 1, 'in': 4, 'is': 3, 'it': 2, 'just': 2, 'kind': 1, 'lay': 1, 'life': 2, 'looking': 1, 'majority': 1, 'makes': 1, 'man': 6, 'mightiest': 1, 'mistakes': 1, 'morning': 1, 'not': 1, 'of': 4, 'one': 4, 'opportunity': 1, 'other': 1, 'others': 1, 'people': 1, 'positive': 1, 'problems': 1, 'profit': 1, 'rather': 1, 'ready': 1, 'secret': 1, 'small': 1, 'solve': 1, 'success': 3, 'successful': 2, 'the': 5, 'them': 1, 'they': 1, 'thinking': 1, 'those': 1, 'thought': 1, 'thrown': 1, 'to': 3, 'too': 1, 'try': 2, 'up': 1, 'usually': 1, 'value': 1, 'want': 2, 'warrior': 1, 'way': 1, 'we': 3, 'what': 1, 'when': 2, 'who': 3, 'whole': 1, 'will': 2, 'with': 4, 'you': 3, 'your': 1}\n",
      "3\n",
      "6\n"
     ]
    }
   ],
   "source": [
    "def word_count(file_path):\n",
    "    # Open the file\n",
    "    with open(file_path, 'r') as file:\n",
    "        text = file.read()\n",
    "        \n",
    "    # Count the frequency of words\n",
    "    result = {}\n",
    "    words = text.split()\n",
    "    \n",
    "    for word in words:\n",
    "        word = word.lower()\n",
    "        if word not in result:\n",
    "            result[word] = 1\n",
    "        else:\n",
    "            result[word] += 1\n",
    "    \n",
    "    result = {key:result[key] for key in sorted(result)}\n",
    "    \n",
    "    print(result)\n",
    "    print(result['who'])\n",
    "    print(result['man'])\n",
    "    \n",
    "word_count('P1_data.txt')"
   ]
  },
  {
   "cell_type": "markdown",
   "metadata": {},
   "source": [
    "<hr>"
   ]
  },
  {
   "cell_type": "markdown",
   "metadata": {},
   "source": [
    "## 4. Levenshtein distance"
   ]
  },
  {
   "cell_type": "markdown",
   "metadata": {},
   "source": [
    "Write a function to count the minimum steps to change `string S` to `string T` through 3 types of change:\n",
    "- Delete a character\n",
    "- Add a character\n",
    "- Replace a character into another one"
   ]
  },
  {
   "cell_type": "code",
   "execution_count": 22,
   "metadata": {},
   "outputs": [
    {
     "name": "stdout",
     "output_type": "stream",
     "text": [
      "1\n",
      "0 1 2 3 \n",
      "\n",
      "1 0 1 2 \n",
      "\n",
      "2 1 1 1 \n",
      "\n",
      "4\n",
      "0 1 2 3 4 5 \n",
      "\n",
      "1 0 1 2 3 4 \n",
      "\n",
      "2 1 1 2 3 4 \n",
      "\n",
      "3\n",
      "0 1 2 3 4 5 \n",
      "\n",
      "1 0 1 2 3 4 \n",
      "\n",
      "2 1 1 2 3 3 \n",
      "\n",
      "3 2 2 1 2 3 \n",
      "\n",
      "4 3 3 2 2 3 \n",
      "\n"
     ]
    }
   ],
   "source": [
    "def levenshtein_distance(input, aim):\n",
    "    # Create a 2D matrix\n",
    "    input = ' ' + input\n",
    "    aim = ' ' + aim\n",
    "    dp = []\n",
    "    for i in range (len(input)):\n",
    "        row = [float('inf') for i in range (len(aim))]\n",
    "        dp.append(row)\n",
    "    \n",
    "    # dp[i][j] = levenshtein_distance(input[:i], aim[:j])\n",
    "    for i in range (len(dp)):\n",
    "        for j in range (len(dp[i])):\n",
    "            if i == 0 or j == 0:\n",
    "                dp[i][j] = max(i, j)\n",
    "                continue\n",
    "            elif input[i] == aim[j]:\n",
    "                dp[i][j] = dp[i-1][j-1]\n",
    "            else:\n",
    "                dp[i][j] = min(dp[i-1][j], dp[i][j-1], dp[i-1][j-1]) + 1\n",
    "    \n",
    "    # Print the result\n",
    "    print(dp[-1][-1])\n",
    "    \n",
    "    # Check the 2D matrix after modified\n",
    "    for i in range (len(dp)):\n",
    "        for j in range (len(dp[i])):\n",
    "            print(dp[i][j], end = ' ')\n",
    "        print('\\n')\n",
    "    \n",
    "levenshtein_distance('yu', 'you')\n",
    "levenshtein_distance('hi','hello')\n",
    "levenshtein_distance('hola', 'hello')"
   ]
  }
 ],
 "metadata": {
  "kernelspec": {
   "display_name": "base",
   "language": "python",
   "name": "python3"
  },
  "language_info": {
   "codemirror_mode": {
    "name": "ipython",
    "version": 3
   },
   "file_extension": ".py",
   "mimetype": "text/x-python",
   "name": "python",
   "nbconvert_exporter": "python",
   "pygments_lexer": "ipython3",
   "version": "3.11.7"
  }
 },
 "nbformat": 4,
 "nbformat_minor": 2
}
