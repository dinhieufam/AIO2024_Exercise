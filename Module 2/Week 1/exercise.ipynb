{
  "nbformat": 4,
  "nbformat_minor": 0,
  "metadata": {
    "colab": {
      "provenance": []
    },
    "kernelspec": {
      "name": "python3",
      "display_name": "Python 3"
    },
    "language_info": {
      "name": "python"
    }
  },
  "cells": [
    {
      "cell_type": "markdown",
      "source": [
        "# Exercise 2: Color to Grayscale image"
      ],
      "metadata": {
        "id": "WRs5hxREXScO"
      }
    },
    {
      "cell_type": "code",
      "execution_count": 1,
      "metadata": {
        "colab": {
          "base_uri": "https://localhost:8080/"
        },
        "id": "AuMFJp4uXQFC",
        "outputId": "0d347813-9ddc-4b27-abd7-ca693bcd334d"
      },
      "outputs": [
        {
          "output_type": "stream",
          "name": "stdout",
          "text": [
            "Downloading...\n",
            "From: https://drive.google.com/uc?id=1i9dqan21DjQoG5Q_VEvm0LrVwAlXD0vB\n",
            "To: /content/dog.jpeg\n",
            "\r  0% 0.00/33.7k [00:00<?, ?B/s]\r100% 33.7k/33.7k [00:00<00:00, 51.4MB/s]\n"
          ]
        }
      ],
      "source": [
        "! gdown 1i9dqan21DjQoG5Q_VEvm0LrVwAlXD0vB"
      ]
    },
    {
      "cell_type": "code",
      "source": [
        "import numpy as np\n",
        "import matplotlib as plt\n",
        "import matplotlib.image as mpimg"
      ],
      "metadata": {
        "id": "aB5H4T8XbyQm"
      },
      "execution_count": 2,
      "outputs": []
    },
    {
      "cell_type": "markdown",
      "source": [
        "## 1. Lightness:\n",
        "- (max(R,G,B) - min(R,G,B)) / 2"
      ],
      "metadata": {
        "id": "k1_quegCXb-B"
      }
    },
    {
      "cell_type": "code",
      "source": [
        "def color2gray(vec):\n",
        "  return (np.max(vec) + np.min(vec))/2\n",
        "\n",
        "img = mpimg.imread ('/content/dog.jpeg')\n",
        "\n",
        "gray_img_01 = np.apply_along_axis(color2gray, axis=2, arr=img)\n",
        "\n",
        "gray_img_01[0, 0]"
      ],
      "metadata": {
        "colab": {
          "base_uri": "https://localhost:8080/"
        },
        "id": "z-qgseCZaBdz",
        "outputId": "e331e83d-9d4a-46b4-fdec-eb073113b0c1"
      },
      "execution_count": 3,
      "outputs": [
        {
          "output_type": "stream",
          "name": "stderr",
          "text": [
            "<ipython-input-3-7fa1ed35ec0a>:2: RuntimeWarning: overflow encountered in scalar add\n",
            "  return (np.max(vec) + np.min(vec))/2\n"
          ]
        },
        {
          "output_type": "execute_result",
          "data": {
            "text/plain": [
              "102.5"
            ]
          },
          "metadata": {},
          "execution_count": 3
        }
      ]
    },
    {
      "cell_type": "markdown",
      "source": [
        "## 2. Average:\n",
        "- (R+G+B)/3"
      ],
      "metadata": {
        "id": "Y6cvrGc5cEjF"
      }
    },
    {
      "cell_type": "code",
      "source": [
        "def color2gray(vec):\n",
        "  return (np.sum(vec))/3\n",
        "\n",
        "img = mpimg.imread ('/content/dog.jpeg')\n",
        "\n",
        "gray_img_01 = np.apply_along_axis(color2gray, axis=2, arr=img)\n",
        "\n",
        "gray_img_01[0, 0]"
      ],
      "metadata": {
        "colab": {
          "base_uri": "https://localhost:8080/"
        },
        "id": "Lf7Q2LBmcLh3",
        "outputId": "48356558-ef43-4cfc-c0c8-0fe976782a51"
      },
      "execution_count": 10,
      "outputs": [
        {
          "output_type": "execute_result",
          "data": {
            "text/plain": [
              "107.66666666666667"
            ]
          },
          "metadata": {},
          "execution_count": 10
        }
      ]
    },
    {
      "cell_type": "markdown",
      "source": [
        "## 3. Luminosity:\n",
        "- 0.21 * R + 0.72 * G + 0.07 * B"
      ],
      "metadata": {
        "id": "wLcUrxR-cwMT"
      }
    },
    {
      "cell_type": "code",
      "source": [
        "def color2gray(vec):\n",
        "  return 0.21 * vec[0] + 0.72 * vec[1] + 0.07 * vec[2]\n",
        "\n",
        "img = mpimg.imread ('/content/dog.jpeg')\n",
        "\n",
        "gray_img_01 = np.apply_along_axis(color2gray, axis=2, arr=img)\n",
        "\n",
        "gray_img_01[0, 0]"
      ],
      "metadata": {
        "colab": {
          "base_uri": "https://localhost:8080/"
        },
        "id": "Cf4PsBfwcyaR",
        "outputId": "aa9dd5a0-3e36-4809-c575-5175f478280b"
      },
      "execution_count": 6,
      "outputs": [
        {
          "output_type": "execute_result",
          "data": {
            "text/plain": [
              "126.22999999999999"
            ]
          },
          "metadata": {},
          "execution_count": 6
        }
      ]
    },
    {
      "cell_type": "markdown",
      "source": [
        "# Exercise 3: Table Analyst"
      ],
      "metadata": {
        "id": "3SgNEvZfeKu1"
      }
    },
    {
      "cell_type": "code",
      "source": [
        "!gdown 1iA0WmVfW88HyJvTBSQDI5vesf-pgKabq\n",
        "\n",
        "import pandas as pd\n",
        "df = pd.read_csv ('/content/advertising.csv')\n",
        "\n",
        "data = df.to_numpy ()"
      ],
      "metadata": {
        "colab": {
          "base_uri": "https://localhost:8080/"
        },
        "id": "WWmh0XxVeNtj",
        "outputId": "e2d7c79e-9ad0-4026-f48c-810f2d9a17b6"
      },
      "execution_count": 11,
      "outputs": [
        {
          "output_type": "stream",
          "name": "stdout",
          "text": [
            "Downloading...\n",
            "From: https://drive.google.com/uc?id=1iA0WmVfW88HyJvTBSQDI5vesf-pgKabq\n",
            "To: /content/advertising.csv\n",
            "\r  0% 0.00/4.06k [00:00<?, ?B/s]\r100% 4.06k/4.06k [00:00<00:00, 15.9MB/s]\n"
          ]
        }
      ]
    },
    {
      "cell_type": "code",
      "source": [
        "data[:5,:]"
      ],
      "metadata": {
        "colab": {
          "base_uri": "https://localhost:8080/"
        },
        "id": "tUSzWkkUevje",
        "outputId": "809d12ef-77ae-42d8-a7b2-12ae93243cd6"
      },
      "execution_count": 13,
      "outputs": [
        {
          "output_type": "execute_result",
          "data": {
            "text/plain": [
              "array([[230.1,  37.8,  69.2,  22.1],\n",
              "       [ 44.5,  39.3,  45.1,  10.4],\n",
              "       [ 17.2,  45.9,  69.3,  12. ],\n",
              "       [151.5,  41.3,  58.5,  16.5],\n",
              "       [180.8,  10.8,  58.4,  17.9]])"
            ]
          },
          "metadata": {},
          "execution_count": 13
        }
      ]
    },
    {
      "cell_type": "code",
      "source": [
        "sales_data = data[:, 3]\n",
        "\n",
        "sales_val = np.max(sales_data)\n",
        "sales_idx = np.argmax(sales_data)\n",
        "\n",
        "print(f'Max: {sales_val} - Index: {sales_idx}')"
      ],
      "metadata": {
        "colab": {
          "base_uri": "https://localhost:8080/"
        },
        "id": "3p3Ff8UnecWV",
        "outputId": "d54f51a8-2947-420c-86f3-70459ec6d067"
      },
      "execution_count": 14,
      "outputs": [
        {
          "output_type": "stream",
          "name": "stdout",
          "text": [
            "Max: 27.0 - Index: 175\n"
          ]
        }
      ]
    },
    {
      "cell_type": "code",
      "source": [
        "tv_data = data[:, 0]\n",
        "tv_data.mean()"
      ],
      "metadata": {
        "colab": {
          "base_uri": "https://localhost:8080/"
        },
        "id": "dEiiCK_igIX7",
        "outputId": "60457cf8-b65b-4e76-aee0-1f34126bd5d2"
      },
      "execution_count": 15,
      "outputs": [
        {
          "output_type": "execute_result",
          "data": {
            "text/plain": [
              "147.0425"
            ]
          },
          "metadata": {},
          "execution_count": 15
        }
      ]
    },
    {
      "cell_type": "code",
      "source": [
        "sales_sum = np.sum(data[:, 3] >= 20)\n",
        "sales_sum"
      ],
      "metadata": {
        "colab": {
          "base_uri": "https://localhost:8080/"
        },
        "id": "nGLcLRECgWSC",
        "outputId": "a550c69a-f2aa-4828-c66f-3b42866feda2"
      },
      "execution_count": 16,
      "outputs": [
        {
          "output_type": "execute_result",
          "data": {
            "text/plain": [
              "40"
            ]
          },
          "metadata": {},
          "execution_count": 16
        }
      ]
    },
    {
      "cell_type": "code",
      "source": [
        "sales_cond = data[:, 3] >= 15\n",
        "radio_data = data[:, 1]\n",
        "radio_cond = radio_data * sales_cond\n",
        "radio_mean = np.sum(radio_cond) / np.sum(sales_cond)\n",
        "\n",
        "radio_mean"
      ],
      "metadata": {
        "colab": {
          "base_uri": "https://localhost:8080/"
        },
        "id": "LvScd00EksmI",
        "outputId": "4c2be7be-e5dd-42cf-877b-e5b1e8502723"
      },
      "execution_count": 18,
      "outputs": [
        {
          "output_type": "execute_result",
          "data": {
            "text/plain": [
              "26.222935779816517"
            ]
          },
          "metadata": {},
          "execution_count": 18
        }
      ]
    },
    {
      "cell_type": "code",
      "source": [
        "news_mean = np.mean(data[:, 2])\n",
        "news_cond = data[:, 2] > news_mean\n",
        "sales_data = data[:, 3]\n",
        "sales_cond = sales_data * news_cond\n",
        "sales_sum = np.sum(sales_cond)\n",
        "\n",
        "sales_sum"
      ],
      "metadata": {
        "colab": {
          "base_uri": "https://localhost:8080/"
        },
        "id": "eMQOjgeblIB7",
        "outputId": "146b0fc5-fa93-4608-f7fb-6af19e09e5a3"
      },
      "execution_count": 20,
      "outputs": [
        {
          "output_type": "execute_result",
          "data": {
            "text/plain": [
              "1405.1"
            ]
          },
          "metadata": {},
          "execution_count": 20
        }
      ]
    },
    {
      "cell_type": "code",
      "source": [
        "sales_data = data[:, 3]\n",
        "\n",
        "sales_mean = np.mean(sales_data)\n",
        "\n",
        "sales_sub = np.abs(sales_data - sales_mean)\n",
        "sales_idx = np.argmin(sales_sub)\n",
        "sales_comp = sales_data[sales_idx]\n",
        "\n",
        "sales_data = np.where(sales_data > sales_comp, 'Good', np.where(sales_data == sales_comp, 'Average', 'Bad'))\n",
        "\n",
        "sales_data[7:10]"
      ],
      "metadata": {
        "colab": {
          "base_uri": "https://localhost:8080/"
        },
        "id": "d-UbDCjppTkQ",
        "outputId": "bcc50539-468c-4a75-bd20-122bec07bf52"
      },
      "execution_count": 23,
      "outputs": [
        {
          "output_type": "execute_result",
          "data": {
            "text/plain": [
              "array(['Bad', 'Bad', 'Good'], dtype='<U7')"
            ]
          },
          "metadata": {},
          "execution_count": 23
        }
      ]
    }
  ]
}