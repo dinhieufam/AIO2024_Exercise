{
 "cells": [
  {
   "cell_type": "markdown",
   "metadata": {},
   "source": [
    "## 4. PLAY TENNIS CLASSIFIER IMPLEMENTATION"
   ]
  },
  {
   "cell_type": "markdown",
   "metadata": {},
   "source": [
    "### 4.1 Build `create_train_dataset()` function"
   ]
  },
  {
   "cell_type": "code",
   "execution_count": 57,
   "metadata": {},
   "outputs": [],
   "source": [
    "import numpy as np"
   ]
  },
  {
   "cell_type": "code",
   "execution_count": 58,
   "metadata": {},
   "outputs": [],
   "source": [
    "def create_train_dataset():\n",
    "    data=[['Sunny','Hot', 'High', 'Weak', 'no'],\n",
    "        ['Sunny','Hot', 'High', 'Strong', 'no'],\n",
    "        ['Overcast','Hot', 'High', 'Weak', 'yes'],\n",
    "        ['Rain','Mild', 'High', 'Weak', 'yes'],\n",
    "        ['Rain','Cool', 'Normal', 'Weak', 'yes'],\n",
    "        ['Rain','Cool', 'Normal', 'Strong', 'no'],\n",
    "        ['Overcast','Cool', 'Normal', 'Strong', 'yes'],\n",
    "        ['Overcast','Mild', 'High', 'Weak', 'no'],\n",
    "        ['Sunny','Cool', 'Normal', 'Weak', 'yes'],\n",
    "        ['Rain','Mild', 'Normal', 'Weak', 'yes']\n",
    "        ]\n",
    "    return np.array(data)"
   ]
  },
  {
   "cell_type": "code",
   "execution_count": 59,
   "metadata": {},
   "outputs": [
    {
     "name": "stdout",
     "output_type": "stream",
     "text": [
      "[['Sunny' 'Hot' 'High' 'Weak' 'no']\n",
      " ['Sunny' 'Hot' 'High' 'Strong' 'no']\n",
      " ['Overcast' 'Hot' 'High' 'Weak' 'yes']\n",
      " ['Rain' 'Mild' 'High' 'Weak' 'yes']\n",
      " ['Rain' 'Cool' 'Normal' 'Weak' 'yes']\n",
      " ['Rain' 'Cool' 'Normal' 'Strong' 'no']\n",
      " ['Overcast' 'Cool' 'Normal' 'Strong' 'yes']\n",
      " ['Overcast' 'Mild' 'High' 'Weak' 'no']\n",
      " ['Sunny' 'Cool' 'Normal' 'Weak' 'yes']\n",
      " ['Rain' 'Mild' 'Normal' 'Weak' 'yes']]\n"
     ]
    }
   ],
   "source": [
    "train_data = create_train_dataset()\n",
    "print(train_data)"
   ]
  },
  {
   "cell_type": "markdown",
   "metadata": {},
   "source": [
    "### 4.2 Finish `compute_prior_probability` function"
   ]
  },
  {
   "cell_type": "code",
   "execution_count": 60,
   "metadata": {},
   "outputs": [],
   "source": [
    "def compute_prior_probability(train_data):\n",
    "    y_unique = ['no', 'yes']\n",
    "    prior_probability = np.zeros(len(y_unique))\n",
    "    \n",
    "    for i in range (0, len(y_unique)):\n",
    "        prior_probability[i] = len(np.where(train_data[:, 4] == y_unique[i])[0]) / len(train_data)\n",
    "    \n",
    "    return prior_probability"
   ]
  },
  {
   "cell_type": "code",
   "execution_count": 61,
   "metadata": {},
   "outputs": [
    {
     "name": "stdout",
     "output_type": "stream",
     "text": [
      "P(“Play Tennis” = No) 0.4\n",
      "P(“Play Tennis” = Yes) 0.6\n"
     ]
    }
   ],
   "source": [
    "prior_probability = compute_prior_probability(train_data)\n",
    "\n",
    "print(\"P(“Play Tennis” = No)\", prior_probability[0])\n",
    "print(\"P(“Play Tennis” = Yes)\", prior_probability[1])"
   ]
  },
  {
   "cell_type": "markdown",
   "metadata": {},
   "source": [
    "### 4.3 Finish `compute_conditional_probability` function to compute likelihood"
   ]
  },
  {
   "cell_type": "markdown",
   "metadata": {},
   "source": [
    "P(B|A) = P(AB) / P(A)"
   ]
  },
  {
   "cell_type": "code",
   "execution_count": 62,
   "metadata": {},
   "outputs": [],
   "source": [
    "def compute_conditional_probability(train_data):\n",
    "    y_unique = ['no', 'yes']\n",
    "    conditional_probability = []\n",
    "    list_x_name = []\n",
    "    \n",
    "    for i in range (0, train_data.shape[1] - 1):\n",
    "        x_unique = np.unique(train_data[:, i])\n",
    "        list_x_name.append(x_unique)\n",
    "        \n",
    "        x_condition_probability = np.zeros((len(y_unique), len(x_unique)))\n",
    "        \n",
    "        for j in range (0, len(y_unique)):\n",
    "            for k in range (0, len(x_unique)):\n",
    "                p_ab = len(np.where((train_data[:, i] == x_unique[k]) & (train_data[:, 4] == y_unique[j]))[0])\n",
    "                p_a =  len(np.where(train_data[:, 4] == y_unique[j])[0])\n",
    "                x_condition_probability[j][k] = p_ab / p_a\n",
    "                \n",
    "        conditional_probability.append(x_condition_probability)   \n",
    "        \n",
    "    return conditional_probability, list_x_name                       "
   ]
  },
  {
   "cell_type": "code",
   "execution_count": 63,
   "metadata": {},
   "outputs": [
    {
     "name": "stdout",
     "output_type": "stream",
     "text": [
      "x1 =  ['Overcast' 'Rain' 'Sunny']\n",
      "x2 =  ['Cool' 'Hot' 'Mild']\n",
      "x3 =  ['High' 'Normal']\n",
      "x4 =  ['Strong' 'Weak']\n"
     ]
    }
   ],
   "source": [
    "train_data = create_train_dataset()\n",
    "\n",
    "conditional_probability, list_x_name = compute_conditional_probability(train_data)\n",
    "\n",
    "print(\"x1 = \",list_x_name[0])\n",
    "print(\"x2 = \",list_x_name[1])\n",
    "print(\"x3 = \",list_x_name[2])\n",
    "print(\"x4 = \",list_x_name[3])"
   ]
  },
  {
   "cell_type": "markdown",
   "metadata": {},
   "source": [
    "### 4.4 Finish `get_index_from_value` to return index from the feature name"
   ]
  },
  {
   "cell_type": "code",
   "execution_count": 64,
   "metadata": {},
   "outputs": [],
   "source": [
    "def get_index_from_value(feature_name, list_features):\n",
    "    return np.where(list_features == feature_name)[0][0]"
   ]
  },
  {
   "cell_type": "code",
   "execution_count": 65,
   "metadata": {},
   "outputs": [
    {
     "name": "stdout",
     "output_type": "stream",
     "text": [
      "0 1 2\n"
     ]
    }
   ],
   "source": [
    "train_data = create_train_dataset()\n",
    "_, list_x_name  = compute_conditional_probability(train_data)\n",
    "\n",
    "outlook = list_x_name[0]\n",
    "\n",
    "i1 = get_index_from_value(\"Overcast\", outlook)\n",
    "i2 = get_index_from_value(\"Rain\", outlook)\n",
    "i3 = get_index_from_value(\"Sunny\", outlook)\n",
    "\n",
    "print(i1, i2, i3)"
   ]
  },
  {
   "cell_type": "code",
   "execution_count": 66,
   "metadata": {},
   "outputs": [
    {
     "name": "stdout",
     "output_type": "stream",
     "text": [
      "P('Outlook'='Sunny' | 'Play Tennis' = 'Yes') =  0.17\n"
     ]
    }
   ],
   "source": [
    "train_data = create_train_dataset()\n",
    "conditional_probability, list_x_name = compute_conditional_probability(train_data)\n",
    "\n",
    "# Compute P('Outlook'='Sunny' | 'Play Tennis' = 'Yes')\n",
    "x1 = get_index_from_value('Sunny', list_x_name[0])\n",
    "\n",
    "print(\"P('Outlook'='Sunny' | 'Play Tennis' = 'Yes') = \", np.round(conditional_probability[0][1, x1], 2))"
   ]
  },
  {
   "cell_type": "code",
   "execution_count": 67,
   "metadata": {},
   "outputs": [
    {
     "name": "stdout",
     "output_type": "stream",
     "text": [
      "P('Outlook'='Sunny' | 'Play Tennis' = 'No') =  0.5\n"
     ]
    }
   ],
   "source": [
    "print(\"P('Outlook'='Sunny' | 'Play Tennis' = 'No') = \", np.round(conditional_probability[0][0, x1], 2))"
   ]
  },
  {
   "cell_type": "markdown",
   "metadata": {},
   "source": [
    "### 4.5 Finish `train_naive_bayes` function"
   ]
  },
  {
   "cell_type": "code",
   "execution_count": 68,
   "metadata": {},
   "outputs": [],
   "source": [
    "def train_naive_bayes(train_data):\n",
    "    # Caculate Prior Probability\n",
    "    y_unique = ['no', 'yes']\n",
    "    prior_probability = compute_prior_probability(train_data)\n",
    "    \n",
    "    # Caculate Conditional Probability\n",
    "    conditional_probability, list_x_name = compute_conditional_probability(train_data)\n",
    "    \n",
    "    return prior_probability, conditional_probability, list_x_name"
   ]
  },
  {
   "cell_type": "markdown",
   "metadata": {},
   "source": [
    "### 4.6 Finish `prediction_play_tennis` function"
   ]
  },
  {
   "cell_type": "code",
   "execution_count": 69,
   "metadata": {},
   "outputs": [],
   "source": [
    "def prediction_play_tennis(X, list_x_name, prior_probability, conditional_probability):\n",
    "    x1 = get_index_from_value(X[0], list_x_name[0])\n",
    "    x2 = get_index_from_value(X[1], list_x_name[1])\n",
    "    x3 = get_index_from_value(X[2], list_x_name[2])\n",
    "    x4 = get_index_from_value(X[3], list_x_name[3])\n",
    "    \n",
    "    p_no_x = 0\n",
    "    p_yes_x = 0\n",
    "    \n",
    "    p_no = prior_probability[0]\n",
    "    p_yes = prior_probability[1]\n",
    "    \n",
    "    p_x1_no = conditional_probability[0][0, x1]\n",
    "    p_x2_no = conditional_probability[1][0, x2]\n",
    "    p_x3_no = conditional_probability[2][0, x3]\n",
    "    p_x4_no = conditional_probability[3][0, x4]\n",
    "    \n",
    "    p_x1_yes = conditional_probability[0][1, x1]\n",
    "    p_x2_yes = conditional_probability[1][1, x2]\n",
    "    p_x3_yes = conditional_probability[2][1, x3]\n",
    "    p_x4_yes = conditional_probability[3][1, x4]\n",
    "    \n",
    "    p_no_x = (p_x1_no * p_x2_no * p_x3_no * p_x4_no) * p_no\n",
    "    p_yes_x = (p_x1_yes * p_x2_yes * p_x3_no * p_x4_yes) * p_yes\n",
    "    \n",
    "    if p_no_x > p_yes_x:\n",
    "        return 0\n",
    "    else:\n",
    "        return 1"
   ]
  },
  {
   "cell_type": "code",
   "execution_count": 70,
   "metadata": {},
   "outputs": [
    {
     "name": "stdout",
     "output_type": "stream",
     "text": [
      "Ad should not go!\n"
     ]
    }
   ],
   "source": [
    "X = ['Sunny','Cool', 'High', 'Strong']\n",
    "data = create_train_dataset()\n",
    "prior_probability,conditional_probability, list_x_name = train_naive_bayes(data)\n",
    "\n",
    "pred =  prediction_play_tennis(X, list_x_name, prior_probability, conditional_probability)\n",
    "\n",
    "if(pred):\n",
    "  print(\"Ad should go!\")\n",
    "else:\n",
    "  print(\"Ad should not go!\")"
   ]
  },
  {
   "cell_type": "markdown",
   "metadata": {},
   "source": [
    "## 5. IRIS CLASSIFIER IMPLEMENTATION"
   ]
  },
  {
   "cell_type": "code",
   "execution_count": 71,
   "metadata": {},
   "outputs": [],
   "source": [
    "from sklearn import datasets\n",
    "import numpy as np"
   ]
  },
  {
   "cell_type": "code",
   "execution_count": 72,
   "metadata": {},
   "outputs": [],
   "source": [
    "def create_train_dataset_iris():\n",
    "    data = np.loadtxt(\"G:\\CODING SPACE\\AIO_2024\\AIO2024_Exercise\\Module 2\\Week 3\\iris.data.txt\", delimiter=\",\", dtype=str)\n",
    "    return data"
   ]
  },
  {
   "cell_type": "code",
   "execution_count": 73,
   "metadata": {},
   "outputs": [],
   "source": [
    "def compute_prior_probability_iris(train_data):\n",
    "    y_unique = np.unique(train_data[:, 4])\n",
    "    prior_probability = np.zeros(len(y_unique))\n",
    "    \n",
    "    for i in range (len(y_unique)):\n",
    "        prior_probability[i] = len(np.where(train_data[:, 4] == y_unique[i])[0]) / len(train_data[:, 4])\n",
    "        \n",
    "    return prior_probability"
   ]
  },
  {
   "cell_type": "code",
   "execution_count": 100,
   "metadata": {},
   "outputs": [],
   "source": [
    "def compute_conditional_probability_iris(train_data):\n",
    "    y_unique = np.unique(train_data[:, 4])\n",
    "    x_feature = 4\n",
    "    \n",
    "    conditional_probability = []\n",
    "    list_x_name = []\n",
    "    \n",
    "    for i in range (0, train_data.shape[1] - 1):\n",
    "        x_conditional_probability = np.zeros((len(y_unique), 2))\n",
    "        for j in range (0, len(y_unique)):\n",
    "            mean = np.mean((train_data[np.where(train_data[:, 4] == y_unique[j])[0], i]).astype(float))\n",
    "            std = np.std((train_data[np.where(train_data[:, 4] == y_unique[j])[0], i]).astype(float))\n",
    "            var = std * std\n",
    "            \n",
    "            x_conditional_probability[j] = [mean, var]\n",
    "        \n",
    "        conditional_probability.append(x_conditional_probability)\n",
    "    return conditional_probability"
   ]
  },
  {
   "cell_type": "code",
   "execution_count": 102,
   "metadata": {},
   "outputs": [],
   "source": [
    "import math\n",
    "\n",
    "def gauss(x, mean, var):\n",
    "    result = (1.0 / (np.sqrt(2 * math.pi * var))) * (np.exp(-(float(x) - mean) ** 2 / (2 * var)))\n",
    "    return result"
   ]
  },
  {
   "cell_type": "code",
   "execution_count": 120,
   "metadata": {},
   "outputs": [],
   "source": [
    "def train_gaussian_naive_bayes(train_data):\n",
    "    prior_probability = compute_prior_probability_iris(train_data)\n",
    "    conditional_probability = compute_conditional_probability_iris(train_data)\n",
    "    \n",
    "    return prior_probability, conditional_probability"
   ]
  },
  {
   "cell_type": "code",
   "execution_count": 121,
   "metadata": {},
   "outputs": [],
   "source": [
    "def prediction_iris(X, prior_probability, conditional_probability):\n",
    "    p_0 = prior_probability[0]\n",
    "    p_x0_0 = gauss(X[0], conditional_probability[0][0][0], conditional_probability[0][0][1])\n",
    "    p_x1_0 = gauss(X[1], conditional_probability[1][0][0], conditional_probability[1][0][1])\n",
    "    p_x2_0 = gauss(X[2], conditional_probability[2][0][0], conditional_probability[2][0][1])\n",
    "    p_x3_0 = gauss(X[3], conditional_probability[3][0][0], conditional_probability[3][0][1])\n",
    "    \n",
    "    p_0_x = p_x0_0 * p_x1_0 * p_x2_0 * p_x3_0 * p_0\n",
    "    \n",
    "    p_1 = prior_probability[1]\n",
    "    p_x0_1 = gauss(X[0], conditional_probability[0][1][0], conditional_probability[0][1][1])\n",
    "    p_x1_1 = gauss(X[1], conditional_probability[1][1][0], conditional_probability[1][1][1])\n",
    "    p_x2_1 = gauss(X[2], conditional_probability[2][1][0], conditional_probability[2][1][1])\n",
    "    p_x3_1 = gauss(X[3], conditional_probability[3][1][0], conditional_probability[3][1][1])\n",
    "    \n",
    "    p_1_x = p_x0_1 * p_x1_1 * p_x2_1 * p_x3_1 * p_1\n",
    "    \n",
    "    p_2 = prior_probability[2]\n",
    "    p_x0_2 = gauss(X[0], conditional_probability[0][2][0], conditional_probability[0][2][1])\n",
    "    p_x1_2 = gauss(X[1], conditional_probability[1][2][0], conditional_probability[1][2][1])\n",
    "    p_x2_2 = gauss(X[2], conditional_probability[2][2][0], conditional_probability[2][2][1])\n",
    "    p_x3_2 = gauss(X[3], conditional_probability[3][2][0], conditional_probability[3][2][1])\n",
    "    \n",
    "    p_2_x = p_x0_2 * p_x1_2 * p_x2_2 * p_x3_2 * p_2\n",
    "    \n",
    "    list_p = [p_0_x, p_1_x, p_2_x]\n",
    "    \n",
    "    return list_p.index(np.max(list_p))"
   ]
  },
  {
   "cell_type": "code",
   "execution_count": 123,
   "metadata": {},
   "outputs": [
    {
     "name": "stdout",
     "output_type": "stream",
     "text": [
      "Iris-virginica\n"
     ]
    }
   ],
   "source": [
    "X = [6.3, 3.3, 6.0, 2.5]\n",
    "\n",
    "train_data = create_train_dataset_iris()\n",
    "y_unique = np.unique(train_data[:, 4])\n",
    "prior_probability, conditional_probability = train_gaussian_naive_bayes(train_data)\n",
    "\n",
    "pred = y_unique[prediction_iris(X, prior_probability, conditional_probability)]\n",
    "print(pred)"
   ]
  },
  {
   "cell_type": "code",
   "execution_count": 124,
   "metadata": {},
   "outputs": [
    {
     "name": "stdout",
     "output_type": "stream",
     "text": [
      "Iris-versicolor\n"
     ]
    }
   ],
   "source": [
    "X = [5.0, 2.0, 3.5, 1.0]\n",
    "\n",
    "train_data = create_train_dataset_iris()\n",
    "y_unique = np.unique(train_data[:, 4])\n",
    "prior_probability, conditional_probability = train_gaussian_naive_bayes(train_data)\n",
    "\n",
    "pred = y_unique[prediction_iris(X, prior_probability, conditional_probability)]\n",
    "print(pred)"
   ]
  },
  {
   "cell_type": "code",
   "execution_count": 125,
   "metadata": {},
   "outputs": [
    {
     "name": "stdout",
     "output_type": "stream",
     "text": [
      "Iris-setosa\n"
     ]
    }
   ],
   "source": [
    "X = [4.9, 3.1, 1.5, 0.1]\n",
    "\n",
    "train_data = create_train_dataset_iris()\n",
    "y_unique = np.unique(train_data[:, 4])\n",
    "prior_probability, conditional_probability = train_gaussian_naive_bayes(train_data)\n",
    "\n",
    "pred = y_unique[prediction_iris(X, prior_probability, conditional_probability)]\n",
    "print(pred)"
   ]
  }
 ],
 "metadata": {
  "kernelspec": {
   "display_name": "new_env",
   "language": "python",
   "name": "python3"
  },
  "language_info": {
   "codemirror_mode": {
    "name": "ipython",
    "version": 3
   },
   "file_extension": ".py",
   "mimetype": "text/x-python",
   "name": "python",
   "nbconvert_exporter": "python",
   "pygments_lexer": "ipython3",
   "version": "3.8.19"
  }
 },
 "nbformat": 4,
 "nbformat_minor": 2
}
