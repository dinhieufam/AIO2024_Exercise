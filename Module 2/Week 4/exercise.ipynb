{
 "cells": [
  {
   "cell_type": "markdown",
   "metadata": {},
   "source": [
    "## 1. BASIC PROBABILITY"
   ]
  },
  {
   "cell_type": "markdown",
   "metadata": {},
   "source": [
    "### Question 1: Write `compute_mean()` function"
   ]
  },
  {
   "cell_type": "code",
   "execution_count": 2,
   "metadata": {},
   "outputs": [],
   "source": [
    "import numpy as np"
   ]
  },
  {
   "cell_type": "code",
   "execution_count": 3,
   "metadata": {},
   "outputs": [],
   "source": [
    "def compute_mean(X):\n",
    "    return np.mean(X)"
   ]
  },
  {
   "cell_type": "code",
   "execution_count": 4,
   "metadata": {},
   "outputs": [
    {
     "name": "stdout",
     "output_type": "stream",
     "text": [
      "Mean :  1.8\n"
     ]
    }
   ],
   "source": [
    "X = [2, 0, 2, 2, 7, 4, -2, 5, -1, -1]\n",
    "\n",
    "print(\"Mean : \", compute_mean(X))"
   ]
  },
  {
   "cell_type": "markdown",
   "metadata": {},
   "source": [
    "### Question 2: Write `compute_median()` function"
   ]
  },
  {
   "cell_type": "code",
   "execution_count": 5,
   "metadata": {},
   "outputs": [],
   "source": [
    "def compute_median(X):\n",
    "    size = len(X)\n",
    "    X = np.sort(X)\n",
    "    \n",
    "    if size % 2 == 0:\n",
    "        mid1 = int(size/2) - 1\n",
    "        mid2 = int(size/2) + 1 - 1\n",
    "        return (1/2 * (X[mid1] + X[mid2]))\n",
    "    else:\n",
    "        mid = int((size+1)/2) - 1\n",
    "        return (X[mid])"
   ]
  },
  {
   "cell_type": "code",
   "execution_count": 6,
   "metadata": {},
   "outputs": [
    {
     "name": "stdout",
     "output_type": "stream",
     "text": [
      "Median:  4.5\n"
     ]
    }
   ],
   "source": [
    "X = [1, 5, 4, 4, 9, 13]\n",
    "print(\"Median: \", compute_median(X))"
   ]
  },
  {
   "cell_type": "markdown",
   "metadata": {},
   "source": [
    "### Question 3: Write `compute_std` function"
   ]
  },
  {
   "cell_type": "code",
   "execution_count": 7,
   "metadata": {},
   "outputs": [],
   "source": [
    "def compute_std(X):\n",
    "    mean = compute_mean(X)\n",
    "    variance = 0\n",
    "    \n",
    "    for x in X:\n",
    "        variance += pow(x - mean, 2)\n",
    "        \n",
    "    variance /= len(X)\n",
    "    \n",
    "    return np.sqrt(variance)"
   ]
  },
  {
   "cell_type": "code",
   "execution_count": 8,
   "metadata": {},
   "outputs": [
    {
     "name": "stdout",
     "output_type": "stream",
     "text": [
      "8.33\n"
     ]
    }
   ],
   "source": [
    "X = [ 171, 176, 155, 167, 169, 182]\n",
    "\n",
    "print(np.round(compute_std(X),2))"
   ]
  },
  {
   "cell_type": "markdown",
   "metadata": {},
   "source": [
    "### Question 4: Write `compute_correlation_coefficient` function"
   ]
  },
  {
   "cell_type": "code",
   "execution_count": 9,
   "metadata": {},
   "outputs": [],
   "source": [
    "def compute_correlation_coefficient(X, Y):\n",
    "    N = len(X)\n",
    "    \n",
    "    numerator = N * X.dot(Y) - np.sum(X) * np.sum(Y)\n",
    "    denominator = np.sqrt(N * np.sum(np.square(X)) - pow(np.sum(X), 2)) * np.sqrt(N * np.sum(np.square(Y)) - pow(np.sum(Y), 2))\n",
    "    \n",
    "    return np.round(numerator/denominator, 2)"
   ]
  },
  {
   "cell_type": "code",
   "execution_count": 10,
   "metadata": {},
   "outputs": [
    {
     "name": "stdout",
     "output_type": "stream",
     "text": [
      "Correlation:  0.42\n"
     ]
    }
   ],
   "source": [
    "X = np.asarray([-2, -5, -11, 6, 4, 15, 9])\n",
    "Y = np.asarray([4, 25, 121, 36, 16, 225, 81])\n",
    "\n",
    "print(\"Correlation: \", compute_correlation_coefficient(X,Y))"
   ]
  },
  {
   "cell_type": "markdown",
   "metadata": {},
   "source": [
    "## 2. TABULAR DATA ANALYSIS"
   ]
  },
  {
   "cell_type": "markdown",
   "metadata": {},
   "source": [
    "### Question 5:"
   ]
  },
  {
   "cell_type": "code",
   "execution_count": 11,
   "metadata": {},
   "outputs": [
    {
     "name": "stdout",
     "output_type": "stream",
     "text": [
      "0.05\n"
     ]
    }
   ],
   "source": [
    "import pandas as pd\n",
    "\n",
    "data = pd.read_csv('advertising.csv')\n",
    "\n",
    "def correlation(x, y):\n",
    "    N = len(x)\n",
    "    \n",
    "    numerator = N * np.sum(x.dot(y)) - np.sum(x) * np.sum(y)\n",
    "    denominator = np.sqrt(N * np.sum(np.square(x)) - pow(np.sum(x), 2)) * np.sqrt(N * np.sum(np.square(y)) - pow(np.sum(y), 2))\n",
    "    \n",
    "    return numerator / denominator\n",
    "\n",
    "x = data['TV']\n",
    "y = data['Radio']\n",
    "\n",
    "corr_xy = correlation(x, y)\n",
    "print(round(corr_xy, 2))"
   ]
  },
  {
   "cell_type": "markdown",
   "metadata": {},
   "source": [
    "### Question 6:"
   ]
  },
  {
   "cell_type": "code",
   "execution_count": 12,
   "metadata": {},
   "outputs": [
    {
     "name": "stdout",
     "output_type": "stream",
     "text": [
      "TV and TV: 1.0\n",
      "TV and Radio: 0.05\n",
      "TV and Newspaper: 0.06\n",
      "Radio and TV: 0.05\n",
      "Radio and Radio: 1.0\n",
      "Radio and Newspaper: 0.35\n",
      "Newspaper and TV: 0.06\n",
      "Newspaper and Radio: 0.35\n",
      "Newspaper and Newspaper: 1.0\n"
     ]
    }
   ],
   "source": [
    "features = ['TV', 'Radio', 'Newspaper']\n",
    "\n",
    "for feature_1 in features:\n",
    "    for feature_2 in features:\n",
    "        correlation_value = correlation(data[feature_1], data[feature_2])\n",
    "        print(f\"{feature_1} and {feature_2}: {round(correlation_value, 2)}\")"
   ]
  },
  {
   "cell_type": "markdown",
   "metadata": {},
   "source": [
    "### Question 7:"
   ]
  },
  {
   "cell_type": "code",
   "execution_count": 13,
   "metadata": {},
   "outputs": [
    {
     "name": "stdout",
     "output_type": "stream",
     "text": [
      "[[1.         0.35410375]\n",
      " [0.35410375 1.        ]]\n"
     ]
    }
   ],
   "source": [
    "x = data['Radio']\n",
    "y = data['Newspaper']\n",
    "\n",
    "result = np.corrcoef(x, y)\n",
    "print(result)"
   ]
  },
  {
   "cell_type": "markdown",
   "metadata": {},
   "source": [
    "### Question 8:"
   ]
  },
  {
   "cell_type": "code",
   "execution_count": 14,
   "metadata": {},
   "outputs": [
    {
     "data": {
      "text/html": [
       "<div>\n",
       "<style scoped>\n",
       "    .dataframe tbody tr th:only-of-type {\n",
       "        vertical-align: middle;\n",
       "    }\n",
       "\n",
       "    .dataframe tbody tr th {\n",
       "        vertical-align: top;\n",
       "    }\n",
       "\n",
       "    .dataframe thead th {\n",
       "        text-align: right;\n",
       "    }\n",
       "</style>\n",
       "<table border=\"1\" class=\"dataframe\">\n",
       "  <thead>\n",
       "    <tr style=\"text-align: right;\">\n",
       "      <th></th>\n",
       "      <th>TV</th>\n",
       "      <th>Radio</th>\n",
       "      <th>Newspaper</th>\n",
       "      <th>Sales</th>\n",
       "    </tr>\n",
       "  </thead>\n",
       "  <tbody>\n",
       "    <tr>\n",
       "      <th>TV</th>\n",
       "      <td>1.000000</td>\n",
       "      <td>0.054809</td>\n",
       "      <td>0.056648</td>\n",
       "      <td>0.901208</td>\n",
       "    </tr>\n",
       "    <tr>\n",
       "      <th>Radio</th>\n",
       "      <td>0.054809</td>\n",
       "      <td>1.000000</td>\n",
       "      <td>0.354104</td>\n",
       "      <td>0.349631</td>\n",
       "    </tr>\n",
       "    <tr>\n",
       "      <th>Newspaper</th>\n",
       "      <td>0.056648</td>\n",
       "      <td>0.354104</td>\n",
       "      <td>1.000000</td>\n",
       "      <td>0.157960</td>\n",
       "    </tr>\n",
       "    <tr>\n",
       "      <th>Sales</th>\n",
       "      <td>0.901208</td>\n",
       "      <td>0.349631</td>\n",
       "      <td>0.157960</td>\n",
       "      <td>1.000000</td>\n",
       "    </tr>\n",
       "  </tbody>\n",
       "</table>\n",
       "</div>"
      ],
      "text/plain": [
       "                 TV     Radio  Newspaper     Sales\n",
       "TV         1.000000  0.054809   0.056648  0.901208\n",
       "Radio      0.054809  1.000000   0.354104  0.349631\n",
       "Newspaper  0.056648  0.354104   1.000000  0.157960\n",
       "Sales      0.901208  0.349631   0.157960  1.000000"
      ]
     },
     "execution_count": 14,
     "metadata": {},
     "output_type": "execute_result"
    }
   ],
   "source": [
    "# Calculate the correlation matrix\n",
    "data_corr_coef = data.corr()\n",
    "data_corr_coef"
   ]
  },
  {
   "cell_type": "markdown",
   "metadata": {},
   "source": [
    "### Question 9"
   ]
  },
  {
   "cell_type": "code",
   "execution_count": null,
   "metadata": {},
   "outputs": [],
   "source": [
    "import matplotlib as plt\n",
    "import seaborn as sns\n",
    "\n",
    "plt.figure(figsize=(10,8))\n",
    "sns.heatmap(data_corr_coef, annot=True, fmt=\".2f\", linewidth=.5)\n",
    "plt.show()"
   ]
  },
  {
   "cell_type": "markdown",
   "metadata": {},
   "source": [
    "## 3. TEXT RETRIEVAL"
   ]
  },
  {
   "cell_type": "markdown",
   "metadata": {},
   "source": [
    "### Question 10"
   ]
  },
  {
   "cell_type": "code",
   "execution_count": 34,
   "metadata": {},
   "outputs": [],
   "source": [
    "import pandas as pd\n",
    "import numpy as np\n",
    "from sklearn.metrics.pairwise import cosine_similarity\n",
    "from sklearn.feature_extraction.text import TfidfVectorizer"
   ]
  },
  {
   "cell_type": "code",
   "execution_count": 35,
   "metadata": {},
   "outputs": [
    {
     "data": {
      "text/plain": [
       "0.31126580760710637"
      ]
     },
     "execution_count": 35,
     "metadata": {},
     "output_type": "execute_result"
    }
   ],
   "source": [
    "vi_data_df = pd.read_csv(\"vi_text_retrieval.csv\")\n",
    "\n",
    "context = vi_data_df['text']\n",
    "context = [doc.lower() for doc in context ]\n",
    "\n",
    "tfidf_vectorizer = TfidfVectorizer ()\n",
    "context_embedded = tfidf_vectorizer.fit_transform(context)\n",
    "\n",
    "context_embedded.toarray()[7][0]"
   ]
  },
  {
   "cell_type": "markdown",
   "metadata": {},
   "source": [
    "### Question 11:"
   ]
  },
  {
   "cell_type": "code",
   "execution_count": 36,
   "metadata": {},
   "outputs": [],
   "source": [
    "def tfidf_search(question, tfidf_vectorizer, top_d=5):\n",
    "    query_embedded = tfidf_vectorizer.transform([question.lower()])\n",
    "    cosine_scores = cosine_similarity(context_embedded, query_embedded).reshape((-1,))\n",
    "    \n",
    "    results = []\n",
    "    for idx in cosine_scores.argsort()[-top_d:][::-1]:\n",
    "        doc = {\n",
    "            'id': idx,\n",
    "            'cosine_score': cosine_scores[idx]\n",
    "        }\n",
    "        results.append(doc)\n",
    "        \n",
    "    return results"
   ]
  },
  {
   "cell_type": "code",
   "execution_count": 37,
   "metadata": {},
   "outputs": [
    {
     "data": {
      "text/plain": [
       "0.6279910475266974"
      ]
     },
     "execution_count": 37,
     "metadata": {},
     "output_type": "execute_result"
    }
   ],
   "source": [
    "question = vi_data_df.iloc[0]['question']\n",
    "results = tfidf_search(question, tfidf_vectorizer, top_d=5)\n",
    "\n",
    "results[0]['cosine_score']"
   ]
  },
  {
   "cell_type": "markdown",
   "metadata": {},
   "source": [
    "### Question 12:"
   ]
  },
  {
   "cell_type": "code",
   "execution_count": 38,
   "metadata": {},
   "outputs": [],
   "source": [
    "def corr_search(question, tfidf_vectorizer, top_d=5):\n",
    "    query_embedded = tfidf_vectorizer.transform([question.lower()])\n",
    "    corr_scores = np.corrcoef(\n",
    "        query_embedded.toarray()[0],\n",
    "        context_embedded.toarray()\n",
    "    )\n",
    "    corr_scores = corr_scores[0][1:]\n",
    "    results = []\n",
    "    for idx in corr_scores.argsort()[-top_d:][::-1]:\n",
    "        doc = {\n",
    "            'id': idx,\n",
    "            'corr_score':corr_scores[idx]\n",
    "        }\n",
    "        results.append(doc)\n",
    "    return results"
   ]
  },
  {
   "cell_type": "code",
   "execution_count": 39,
   "metadata": {},
   "outputs": [
    {
     "data": {
      "text/plain": [
       "0.2073424647197323"
      ]
     },
     "execution_count": 39,
     "metadata": {},
     "output_type": "execute_result"
    }
   ],
   "source": [
    "question = vi_data_df.iloc[0]['question']\n",
    "results = corr_search(question, tfidf_vectorizer, top_d=5)\n",
    "\n",
    "results[1]['corr_score']"
   ]
  }
 ],
 "metadata": {
  "kernelspec": {
   "display_name": "new_env",
   "language": "python",
   "name": "python3"
  },
  "language_info": {
   "codemirror_mode": {
    "name": "ipython",
    "version": 3
   },
   "file_extension": ".py",
   "mimetype": "text/x-python",
   "name": "python",
   "nbconvert_exporter": "python",
   "pygments_lexer": "ipython3",
   "version": "3.8.19"
  }
 },
 "nbformat": 4,
 "nbformat_minor": 2
}
