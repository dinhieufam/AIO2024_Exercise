{
  "nbformat": 4,
  "nbformat_minor": 0,
  "metadata": {
    "colab": {
      "provenance": []
    },
    "kernelspec": {
      "name": "python3",
      "display_name": "Python 3"
    },
    "language_info": {
      "name": "python"
    }
  },
  "cells": [
    {
      "cell_type": "markdown",
      "source": [
        "## Decision Tree Classifier from Scratch"
      ],
      "metadata": {
        "id": "lg4UEY2WBZUK"
      }
    },
    {
      "cell_type": "code",
      "execution_count": 2,
      "metadata": {
        "id": "uFbA13tv4Tej"
      },
      "outputs": [],
      "source": [
        "import numpy as np\n",
        "import pandas as pd"
      ]
    },
    {
      "cell_type": "code",
      "source": [
        "!gdown 1xzLHBaHrghH9AIGBot_0lyiWE2qz7GOU"
      ],
      "metadata": {
        "colab": {
          "base_uri": "https://localhost:8080/"
        },
        "id": "pyNPYqa4y_YE",
        "outputId": "2947914f-7baa-48b3-e64a-94c2d9b4b0ad"
      },
      "execution_count": 3,
      "outputs": [
        {
          "output_type": "stream",
          "name": "stdout",
          "text": [
            "Downloading...\n",
            "From: https://drive.google.com/uc?id=1xzLHBaHrghH9AIGBot_0lyiWE2qz7GOU\n",
            "To: /content/iris.csv\n",
            "\r  0% 0.00/2.73k [00:00<?, ?B/s]\r100% 2.73k/2.73k [00:00<00:00, 2.12MB/s]\n"
          ]
        }
      ]
    },
    {
      "cell_type": "code",
      "source": [
        "col_names = ['sepal_length', 'sepal_width', 'petal_length', 'petal_width', 'type']\n",
        "data = pd.read_csv('iris.csv', skiprows=1, header=None, names=col_names)\n",
        "data.head(10)"
      ],
      "metadata": {
        "colab": {
          "base_uri": "https://localhost:8080/",
          "height": 363
        },
        "id": "JYcl24pW3FrM",
        "outputId": "2179a4cd-2939-43b2-e3d4-2536cf7a670a"
      },
      "execution_count": 4,
      "outputs": [
        {
          "output_type": "execute_result",
          "data": {
            "text/plain": [
              "   sepal_length  sepal_width  petal_length  petal_width  type\n",
              "0           5.1          3.5           1.4          0.2     0\n",
              "1           4.9          3.0           1.4          0.2     0\n",
              "2           4.7          3.2           1.3          0.2     0\n",
              "3           4.6          3.1           1.5          0.2     0\n",
              "4           5.0          3.6           1.4          0.2     0\n",
              "5           5.4          3.9           1.7          0.4     0\n",
              "6           4.6          3.4           1.4          0.3     0\n",
              "7           5.0          3.4           1.5          0.2     0\n",
              "8           4.4          2.9           1.4          0.2     0\n",
              "9           4.9          3.1           1.5          0.1     0"
            ],
            "text/html": [
              "\n",
              "  <div id=\"df-d70d2875-9406-453c-8094-551eef97c7ff\" class=\"colab-df-container\">\n",
              "    <div>\n",
              "<style scoped>\n",
              "    .dataframe tbody tr th:only-of-type {\n",
              "        vertical-align: middle;\n",
              "    }\n",
              "\n",
              "    .dataframe tbody tr th {\n",
              "        vertical-align: top;\n",
              "    }\n",
              "\n",
              "    .dataframe thead th {\n",
              "        text-align: right;\n",
              "    }\n",
              "</style>\n",
              "<table border=\"1\" class=\"dataframe\">\n",
              "  <thead>\n",
              "    <tr style=\"text-align: right;\">\n",
              "      <th></th>\n",
              "      <th>sepal_length</th>\n",
              "      <th>sepal_width</th>\n",
              "      <th>petal_length</th>\n",
              "      <th>petal_width</th>\n",
              "      <th>type</th>\n",
              "    </tr>\n",
              "  </thead>\n",
              "  <tbody>\n",
              "    <tr>\n",
              "      <th>0</th>\n",
              "      <td>5.1</td>\n",
              "      <td>3.5</td>\n",
              "      <td>1.4</td>\n",
              "      <td>0.2</td>\n",
              "      <td>0</td>\n",
              "    </tr>\n",
              "    <tr>\n",
              "      <th>1</th>\n",
              "      <td>4.9</td>\n",
              "      <td>3.0</td>\n",
              "      <td>1.4</td>\n",
              "      <td>0.2</td>\n",
              "      <td>0</td>\n",
              "    </tr>\n",
              "    <tr>\n",
              "      <th>2</th>\n",
              "      <td>4.7</td>\n",
              "      <td>3.2</td>\n",
              "      <td>1.3</td>\n",
              "      <td>0.2</td>\n",
              "      <td>0</td>\n",
              "    </tr>\n",
              "    <tr>\n",
              "      <th>3</th>\n",
              "      <td>4.6</td>\n",
              "      <td>3.1</td>\n",
              "      <td>1.5</td>\n",
              "      <td>0.2</td>\n",
              "      <td>0</td>\n",
              "    </tr>\n",
              "    <tr>\n",
              "      <th>4</th>\n",
              "      <td>5.0</td>\n",
              "      <td>3.6</td>\n",
              "      <td>1.4</td>\n",
              "      <td>0.2</td>\n",
              "      <td>0</td>\n",
              "    </tr>\n",
              "    <tr>\n",
              "      <th>5</th>\n",
              "      <td>5.4</td>\n",
              "      <td>3.9</td>\n",
              "      <td>1.7</td>\n",
              "      <td>0.4</td>\n",
              "      <td>0</td>\n",
              "    </tr>\n",
              "    <tr>\n",
              "      <th>6</th>\n",
              "      <td>4.6</td>\n",
              "      <td>3.4</td>\n",
              "      <td>1.4</td>\n",
              "      <td>0.3</td>\n",
              "      <td>0</td>\n",
              "    </tr>\n",
              "    <tr>\n",
              "      <th>7</th>\n",
              "      <td>5.0</td>\n",
              "      <td>3.4</td>\n",
              "      <td>1.5</td>\n",
              "      <td>0.2</td>\n",
              "      <td>0</td>\n",
              "    </tr>\n",
              "    <tr>\n",
              "      <th>8</th>\n",
              "      <td>4.4</td>\n",
              "      <td>2.9</td>\n",
              "      <td>1.4</td>\n",
              "      <td>0.2</td>\n",
              "      <td>0</td>\n",
              "    </tr>\n",
              "    <tr>\n",
              "      <th>9</th>\n",
              "      <td>4.9</td>\n",
              "      <td>3.1</td>\n",
              "      <td>1.5</td>\n",
              "      <td>0.1</td>\n",
              "      <td>0</td>\n",
              "    </tr>\n",
              "  </tbody>\n",
              "</table>\n",
              "</div>\n",
              "    <div class=\"colab-df-buttons\">\n",
              "\n",
              "  <div class=\"colab-df-container\">\n",
              "    <button class=\"colab-df-convert\" onclick=\"convertToInteractive('df-d70d2875-9406-453c-8094-551eef97c7ff')\"\n",
              "            title=\"Convert this dataframe to an interactive table.\"\n",
              "            style=\"display:none;\">\n",
              "\n",
              "  <svg xmlns=\"http://www.w3.org/2000/svg\" height=\"24px\" viewBox=\"0 -960 960 960\">\n",
              "    <path d=\"M120-120v-720h720v720H120Zm60-500h600v-160H180v160Zm220 220h160v-160H400v160Zm0 220h160v-160H400v160ZM180-400h160v-160H180v160Zm440 0h160v-160H620v160ZM180-180h160v-160H180v160Zm440 0h160v-160H620v160Z\"/>\n",
              "  </svg>\n",
              "    </button>\n",
              "\n",
              "  <style>\n",
              "    .colab-df-container {\n",
              "      display:flex;\n",
              "      gap: 12px;\n",
              "    }\n",
              "\n",
              "    .colab-df-convert {\n",
              "      background-color: #E8F0FE;\n",
              "      border: none;\n",
              "      border-radius: 50%;\n",
              "      cursor: pointer;\n",
              "      display: none;\n",
              "      fill: #1967D2;\n",
              "      height: 32px;\n",
              "      padding: 0 0 0 0;\n",
              "      width: 32px;\n",
              "    }\n",
              "\n",
              "    .colab-df-convert:hover {\n",
              "      background-color: #E2EBFA;\n",
              "      box-shadow: 0px 1px 2px rgba(60, 64, 67, 0.3), 0px 1px 3px 1px rgba(60, 64, 67, 0.15);\n",
              "      fill: #174EA6;\n",
              "    }\n",
              "\n",
              "    .colab-df-buttons div {\n",
              "      margin-bottom: 4px;\n",
              "    }\n",
              "\n",
              "    [theme=dark] .colab-df-convert {\n",
              "      background-color: #3B4455;\n",
              "      fill: #D2E3FC;\n",
              "    }\n",
              "\n",
              "    [theme=dark] .colab-df-convert:hover {\n",
              "      background-color: #434B5C;\n",
              "      box-shadow: 0px 1px 3px 1px rgba(0, 0, 0, 0.15);\n",
              "      filter: drop-shadow(0px 1px 2px rgba(0, 0, 0, 0.3));\n",
              "      fill: #FFFFFF;\n",
              "    }\n",
              "  </style>\n",
              "\n",
              "    <script>\n",
              "      const buttonEl =\n",
              "        document.querySelector('#df-d70d2875-9406-453c-8094-551eef97c7ff button.colab-df-convert');\n",
              "      buttonEl.style.display =\n",
              "        google.colab.kernel.accessAllowed ? 'block' : 'none';\n",
              "\n",
              "      async function convertToInteractive(key) {\n",
              "        const element = document.querySelector('#df-d70d2875-9406-453c-8094-551eef97c7ff');\n",
              "        const dataTable =\n",
              "          await google.colab.kernel.invokeFunction('convertToInteractive',\n",
              "                                                    [key], {});\n",
              "        if (!dataTable) return;\n",
              "\n",
              "        const docLinkHtml = 'Like what you see? Visit the ' +\n",
              "          '<a target=\"_blank\" href=https://colab.research.google.com/notebooks/data_table.ipynb>data table notebook</a>'\n",
              "          + ' to learn more about interactive tables.';\n",
              "        element.innerHTML = '';\n",
              "        dataTable['output_type'] = 'display_data';\n",
              "        await google.colab.output.renderOutput(dataTable, element);\n",
              "        const docLink = document.createElement('div');\n",
              "        docLink.innerHTML = docLinkHtml;\n",
              "        element.appendChild(docLink);\n",
              "      }\n",
              "    </script>\n",
              "  </div>\n",
              "\n",
              "\n",
              "<div id=\"df-ec738468-2abf-42cf-af18-43a307620118\">\n",
              "  <button class=\"colab-df-quickchart\" onclick=\"quickchart('df-ec738468-2abf-42cf-af18-43a307620118')\"\n",
              "            title=\"Suggest charts\"\n",
              "            style=\"display:none;\">\n",
              "\n",
              "<svg xmlns=\"http://www.w3.org/2000/svg\" height=\"24px\"viewBox=\"0 0 24 24\"\n",
              "     width=\"24px\">\n",
              "    <g>\n",
              "        <path d=\"M19 3H5c-1.1 0-2 .9-2 2v14c0 1.1.9 2 2 2h14c1.1 0 2-.9 2-2V5c0-1.1-.9-2-2-2zM9 17H7v-7h2v7zm4 0h-2V7h2v10zm4 0h-2v-4h2v4z\"/>\n",
              "    </g>\n",
              "</svg>\n",
              "  </button>\n",
              "\n",
              "<style>\n",
              "  .colab-df-quickchart {\n",
              "      --bg-color: #E8F0FE;\n",
              "      --fill-color: #1967D2;\n",
              "      --hover-bg-color: #E2EBFA;\n",
              "      --hover-fill-color: #174EA6;\n",
              "      --disabled-fill-color: #AAA;\n",
              "      --disabled-bg-color: #DDD;\n",
              "  }\n",
              "\n",
              "  [theme=dark] .colab-df-quickchart {\n",
              "      --bg-color: #3B4455;\n",
              "      --fill-color: #D2E3FC;\n",
              "      --hover-bg-color: #434B5C;\n",
              "      --hover-fill-color: #FFFFFF;\n",
              "      --disabled-bg-color: #3B4455;\n",
              "      --disabled-fill-color: #666;\n",
              "  }\n",
              "\n",
              "  .colab-df-quickchart {\n",
              "    background-color: var(--bg-color);\n",
              "    border: none;\n",
              "    border-radius: 50%;\n",
              "    cursor: pointer;\n",
              "    display: none;\n",
              "    fill: var(--fill-color);\n",
              "    height: 32px;\n",
              "    padding: 0;\n",
              "    width: 32px;\n",
              "  }\n",
              "\n",
              "  .colab-df-quickchart:hover {\n",
              "    background-color: var(--hover-bg-color);\n",
              "    box-shadow: 0 1px 2px rgba(60, 64, 67, 0.3), 0 1px 3px 1px rgba(60, 64, 67, 0.15);\n",
              "    fill: var(--button-hover-fill-color);\n",
              "  }\n",
              "\n",
              "  .colab-df-quickchart-complete:disabled,\n",
              "  .colab-df-quickchart-complete:disabled:hover {\n",
              "    background-color: var(--disabled-bg-color);\n",
              "    fill: var(--disabled-fill-color);\n",
              "    box-shadow: none;\n",
              "  }\n",
              "\n",
              "  .colab-df-spinner {\n",
              "    border: 2px solid var(--fill-color);\n",
              "    border-color: transparent;\n",
              "    border-bottom-color: var(--fill-color);\n",
              "    animation:\n",
              "      spin 1s steps(1) infinite;\n",
              "  }\n",
              "\n",
              "  @keyframes spin {\n",
              "    0% {\n",
              "      border-color: transparent;\n",
              "      border-bottom-color: var(--fill-color);\n",
              "      border-left-color: var(--fill-color);\n",
              "    }\n",
              "    20% {\n",
              "      border-color: transparent;\n",
              "      border-left-color: var(--fill-color);\n",
              "      border-top-color: var(--fill-color);\n",
              "    }\n",
              "    30% {\n",
              "      border-color: transparent;\n",
              "      border-left-color: var(--fill-color);\n",
              "      border-top-color: var(--fill-color);\n",
              "      border-right-color: var(--fill-color);\n",
              "    }\n",
              "    40% {\n",
              "      border-color: transparent;\n",
              "      border-right-color: var(--fill-color);\n",
              "      border-top-color: var(--fill-color);\n",
              "    }\n",
              "    60% {\n",
              "      border-color: transparent;\n",
              "      border-right-color: var(--fill-color);\n",
              "    }\n",
              "    80% {\n",
              "      border-color: transparent;\n",
              "      border-right-color: var(--fill-color);\n",
              "      border-bottom-color: var(--fill-color);\n",
              "    }\n",
              "    90% {\n",
              "      border-color: transparent;\n",
              "      border-bottom-color: var(--fill-color);\n",
              "    }\n",
              "  }\n",
              "</style>\n",
              "\n",
              "  <script>\n",
              "    async function quickchart(key) {\n",
              "      const quickchartButtonEl =\n",
              "        document.querySelector('#' + key + ' button');\n",
              "      quickchartButtonEl.disabled = true;  // To prevent multiple clicks.\n",
              "      quickchartButtonEl.classList.add('colab-df-spinner');\n",
              "      try {\n",
              "        const charts = await google.colab.kernel.invokeFunction(\n",
              "            'suggestCharts', [key], {});\n",
              "      } catch (error) {\n",
              "        console.error('Error during call to suggestCharts:', error);\n",
              "      }\n",
              "      quickchartButtonEl.classList.remove('colab-df-spinner');\n",
              "      quickchartButtonEl.classList.add('colab-df-quickchart-complete');\n",
              "    }\n",
              "    (() => {\n",
              "      let quickchartButtonEl =\n",
              "        document.querySelector('#df-ec738468-2abf-42cf-af18-43a307620118 button');\n",
              "      quickchartButtonEl.style.display =\n",
              "        google.colab.kernel.accessAllowed ? 'block' : 'none';\n",
              "    })();\n",
              "  </script>\n",
              "</div>\n",
              "\n",
              "    </div>\n",
              "  </div>\n"
            ],
            "application/vnd.google.colaboratory.intrinsic+json": {
              "type": "dataframe",
              "variable_name": "data",
              "summary": "{\n  \"name\": \"data\",\n  \"rows\": 150,\n  \"fields\": [\n    {\n      \"column\": \"sepal_length\",\n      \"properties\": {\n        \"dtype\": \"number\",\n        \"std\": 0.8280661279778629,\n        \"min\": 4.3,\n        \"max\": 7.9,\n        \"num_unique_values\": 35,\n        \"samples\": [\n          6.2,\n          4.5,\n          5.6\n        ],\n        \"semantic_type\": \"\",\n        \"description\": \"\"\n      }\n    },\n    {\n      \"column\": \"sepal_width\",\n      \"properties\": {\n        \"dtype\": \"number\",\n        \"std\": 0.435866284936698,\n        \"min\": 2.0,\n        \"max\": 4.4,\n        \"num_unique_values\": 23,\n        \"samples\": [\n          2.3,\n          4.0,\n          3.5\n        ],\n        \"semantic_type\": \"\",\n        \"description\": \"\"\n      }\n    },\n    {\n      \"column\": \"petal_length\",\n      \"properties\": {\n        \"dtype\": \"number\",\n        \"std\": 1.7652982332594667,\n        \"min\": 1.0,\n        \"max\": 6.9,\n        \"num_unique_values\": 43,\n        \"samples\": [\n          6.7,\n          3.8,\n          3.7\n        ],\n        \"semantic_type\": \"\",\n        \"description\": \"\"\n      }\n    },\n    {\n      \"column\": \"petal_width\",\n      \"properties\": {\n        \"dtype\": \"number\",\n        \"std\": 0.7622376689603465,\n        \"min\": 0.1,\n        \"max\": 2.5,\n        \"num_unique_values\": 22,\n        \"samples\": [\n          0.2,\n          1.2,\n          1.3\n        ],\n        \"semantic_type\": \"\",\n        \"description\": \"\"\n      }\n    },\n    {\n      \"column\": \"type\",\n      \"properties\": {\n        \"dtype\": \"number\",\n        \"std\": 0,\n        \"min\": 0,\n        \"max\": 2,\n        \"num_unique_values\": 3,\n        \"samples\": [\n          0,\n          1,\n          2\n        ],\n        \"semantic_type\": \"\",\n        \"description\": \"\"\n      }\n    }\n  ]\n}"
            }
          },
          "metadata": {},
          "execution_count": 4
        }
      ]
    },
    {
      "cell_type": "code",
      "source": [
        "class Node():\n",
        "  def __init__(self, feature_index=None, threshold=None, left=None, right=None, info_gain=None, value=None):\n",
        "    '''constructor'''\n",
        "\n",
        "    # for decision node\n",
        "    self.feature_index = feature_index\n",
        "    self.threshold = threshold\n",
        "    self.left = left\n",
        "    self.right = right\n",
        "    self.info_gain = info_gain\n",
        "\n",
        "    # for leaf node\n",
        "    self.value = value"
      ],
      "metadata": {
        "id": "n7vbGbIZ7QnM"
      },
      "execution_count": 5,
      "outputs": []
    },
    {
      "cell_type": "code",
      "source": [
        "class DecisionTreeClassifier():\n",
        "  def __init__(self, min_samples_split=2, max_depth=2):\n",
        "    '''constructor'''\n",
        "\n",
        "    # initialize the root of the tree\n",
        "    self.root = None\n",
        "\n",
        "    # stopping conditions\n",
        "    self.min_samples_split = min_samples_split # the minimum num of samples in a leaf to be splited\n",
        "    self.max_depth = max_depth # the maximum depth of the tree\n",
        "\n",
        "  def build_tree(self, dataset, curr_depth=0):\n",
        "    '''recursive function to build the tree'''\n",
        "\n",
        "    X, Y = dataset[:, :-1], dataset[:, -1]\n",
        "    num_samples, num_features = np.shape(X)\n",
        "\n",
        "    # split until stopping conditions are met\n",
        "    if num_samples >= self.min_samples_split and curr_depth <= self.max_depth:\n",
        "      # find the best split\n",
        "      best_split = self.get_best_split(dataset, num_samples, num_features)\n",
        "      # check if information gain is positive\n",
        "      if best_split['info_gain'] > 0:\n",
        "        # recur left\n",
        "        left_subtree = self.build_tree(best_split['dataset_left'], curr_depth+1)\n",
        "        # recur right\n",
        "        right_subtree = self.build_tree(best_split['dataset_right'], curr_depth+1)\n",
        "        # return decision node\n",
        "        return Node(best_split['feature_index'], best_split['threshold'], left_subtree, right_subtree, best_split['info_gain'])\n",
        "\n",
        "    # compute leaf node\n",
        "    leaf_value = self.calculate_leaf_value(Y)\n",
        "    # return leaf node\n",
        "    return Node(value=leaf_value)\n",
        "\n",
        "  def get_best_split(self, dataset, num_samples, num_features):\n",
        "    '''function to find the best split'''\n",
        "\n",
        "    # dictionary to store the best split\n",
        "    best_split = {}\n",
        "    max_info_gain = -float('inf')\n",
        "\n",
        "    # loop over all features\n",
        "    for feature_index in range(num_features):\n",
        "      feature_values = dataset[:, feature_index]\n",
        "      possible_threshold = np.unique(feature_values)\n",
        "      # loop over all features present in the data\n",
        "      for threshold in possible_threshold:\n",
        "        # get current split\n",
        "        dataset_left, dataset_right = self.split(dataset, feature_index, threshold)\n",
        "        # check if childs are not null\n",
        "        if len(dataset_left) > 0 and len(dataset_right) > 0:\n",
        "          y, left_y, right_y = dataset[:, -1], dataset_left[:, -1], dataset_right[:, -1]\n",
        "          # compute information gain\n",
        "          curr_info_gain = self.information_gain(y, left_y, right_y, 'gini')\n",
        "          # update the best split if needed\n",
        "          if curr_info_gain > max_info_gain:\n",
        "            best_split['feature_index'] = feature_index\n",
        "            best_split['threshold'] = threshold\n",
        "            best_split['dataset_left'] = dataset_left\n",
        "            best_split['dataset_right'] = dataset_right\n",
        "            best_split['info_gain'] = curr_info_gain\n",
        "            max_info_gain = curr_info_gain\n",
        "\n",
        "    # return best split\n",
        "    return best_split\n",
        "\n",
        "  def split(self, dataset, feature_index, threshold):\n",
        "    '''function to split data'''\n",
        "    dataset_left = np.array([row for row in dataset if row[feature_index]<=threshold])\n",
        "    dataset_right = np.array([row for row in dataset if row[feature_index]>threshold])\n",
        "\n",
        "    return dataset_left, dataset_right\n",
        "\n",
        "  def information_gain(self, parent, l_child, r_child, mode='entropy'):\n",
        "    '''function to compute information gain'''\n",
        "\n",
        "    weight_l = len(l_child)/len(parent)\n",
        "    weight_r = len(r_child)/len(parent)\n",
        "\n",
        "    if mode=='gini':\n",
        "      gain = self.gini_index(parent) - (weight_l * self.gini_index(l_child) + weight_r * self.gini_index(r_child))\n",
        "    else:\n",
        "      gain = self.entropy(parent) - (weight_l * self.entropy(l_child) + weight_r * self.entropy(r_child))\n",
        "\n",
        "    return gain\n",
        "\n",
        "  def entropy(self, y):\n",
        "    '''function to compute entropy'''\n",
        "\n",
        "    class_labels = np.unique(y)\n",
        "    entropy = 0\n",
        "\n",
        "    for cls in class_labels:\n",
        "      p_cls = len(y[y==cls])/len(y)\n",
        "      entropy += -p_cls * np.log2(p_cls)\n",
        "\n",
        "    return entropy\n",
        "\n",
        "  def gini_index(self, y):\n",
        "    '''function to compute gini index'''\n",
        "\n",
        "    class_labels = np.unique(y)\n",
        "    gini = 0\n",
        "    for cls in class_labels:\n",
        "      p_cls = len(y[y==cls])/len(y)\n",
        "      gini += p_cls ** 2\n",
        "\n",
        "    return 1 - gini\n",
        "\n",
        "  def calculate_leaf_value(self, Y):\n",
        "    '''function to compute leaf node'''\n",
        "\n",
        "    Y = list(Y)\n",
        "\n",
        "    return max(Y, key=Y.count)\n",
        "\n",
        "  def print_tree(self, tree=None, indent=\" \"):\n",
        "    '''function to print the tree'''\n",
        "\n",
        "    if not tree:\n",
        "      tree = self.root\n",
        "\n",
        "    if tree.value is not None:\n",
        "      print(tree.value)\n",
        "    else:\n",
        "      print(f'X_{tree.feature_index}<={tree.threshold}? {tree.info_gain}')\n",
        "      print('%sleft:' % (indent), end='')\n",
        "      self.print_tree(tree.left, indent+indent)\n",
        "      print('%sright:' % (indent), end='')\n",
        "      self.print_tree(tree.right, indent+indent)\n",
        "\n",
        "  def fit(self, X, Y):\n",
        "    '''function to train the tree'''\n",
        "\n",
        "    dataset = np.concatenate((X, Y), axis=1)\n",
        "    self.root = self.build_tree(dataset)\n",
        "\n",
        "  def predict(self, X):\n",
        "    '''function to predict new dataset'''\n",
        "\n",
        "    predictions = [self.make_prediction(x, self.root) for x in X]\n",
        "\n",
        "    return predictions\n",
        "\n",
        "  def make_prediction(self, x, tree):\n",
        "    '''function to predict a single data point'''\n",
        "\n",
        "    if tree.value != None:\n",
        "      return tree.value\n",
        "\n",
        "    feature_val = x[tree.feature_index]\n",
        "    if feature_val <= tree.threshold:\n",
        "      return self.make_prediction(x, tree.left)\n",
        "    else:\n",
        "      return self.make_prediction(x, tree.right)"
      ],
      "metadata": {
        "id": "-XHQduU47o8G"
      },
      "execution_count": 6,
      "outputs": []
    },
    {
      "cell_type": "code",
      "source": [
        "X = data.iloc[:, :-1].values\n",
        "Y = data.iloc[:, -1].values.reshape(-1, 1)\n",
        "\n",
        "from sklearn.model_selection import train_test_split\n",
        "X_train, X_test, Y_train, Y_test = train_test_split(X, Y, test_size=.2, random_state=41)"
      ],
      "metadata": {
        "id": "5oIezvKokYjX"
      },
      "execution_count": 7,
      "outputs": []
    },
    {
      "cell_type": "code",
      "source": [
        "classifier = DecisionTreeClassifier(min_samples_split=3, max_depth=3)\n",
        "classifier.fit(X_train, Y_train)\n",
        "classifier.print_tree()"
      ],
      "metadata": {
        "colab": {
          "base_uri": "https://localhost:8080/"
        },
        "id": "4RvWP1splPfI",
        "outputId": "a6905ccb-77e7-436a-da39-eff68827fea8"
      },
      "execution_count": 8,
      "outputs": [
        {
          "output_type": "stream",
          "name": "stdout",
          "text": [
            "X_2<=1.9? 0.33741385372714494\n",
            " left:0.0\n",
            " right:X_3<=1.5? 0.427106638180289\n",
            "  left:X_2<=4.9? 0.05124653739612173\n",
            "    left:1.0\n",
            "    right:2.0\n",
            "  right:X_2<=5.0? 0.019631171921475288\n",
            "    left:X_1<=2.8? 0.20833333333333334\n",
            "        left:2.0\n",
            "        right:1.0\n",
            "    right:2.0\n"
          ]
        }
      ]
    },
    {
      "cell_type": "code",
      "source": [
        "Y_pred = classifier.predict(X_test)\n",
        "\n",
        "from sklearn.metrics import accuracy_score\n",
        "accuracy_score(Y_test, Y_pred)"
      ],
      "metadata": {
        "colab": {
          "base_uri": "https://localhost:8080/"
        },
        "id": "avKjEXRvqvLz",
        "outputId": "9957c56d-b071-4879-fe2e-cfe19ddfdb03"
      },
      "execution_count": 9,
      "outputs": [
        {
          "output_type": "execute_result",
          "data": {
            "text/plain": [
              "0.9333333333333333"
            ]
          },
          "metadata": {},
          "execution_count": 9
        }
      ]
    },
    {
      "cell_type": "markdown",
      "source": [
        "## Homework"
      ],
      "metadata": {
        "id": "u447vhyfspdh"
      }
    },
    {
      "cell_type": "markdown",
      "source": [
        "### Question 2"
      ],
      "metadata": {
        "id": "WEIeWtoETqcf"
      }
    },
    {
      "cell_type": "code",
      "source": [
        "def gini_index(y):\n",
        "    '''function to compute gini index'''\n",
        "\n",
        "    class_labels = np.unique(y)\n",
        "    gini = 0\n",
        "    for cls in class_labels:\n",
        "      p_cls = len(y[y==cls])/len(y)\n",
        "      gini += p_cls ** 2\n",
        "\n",
        "    return 1 - gini"
      ],
      "metadata": {
        "id": "UZgyNW7Vtnfr"
      },
      "execution_count": 10,
      "outputs": []
    },
    {
      "cell_type": "code",
      "source": [
        "hihi = pd.DataFrame([[23, 0, 0, 0], [25, 1, 1, 0], [27, 1, 0, 1], [29, 0, 1, 1], [29, 0, 0, 0]], columns=['Age', 'Likes English', 'Likes AI', 'Raise Salary'])\n",
        "\n",
        "gini_index(np.array(hihi)[:, 1])"
      ],
      "metadata": {
        "colab": {
          "base_uri": "https://localhost:8080/"
        },
        "id": "HA-dbekGsttt",
        "outputId": "679f7b07-5e38-4d9e-fe89-9980b1d7bcef"
      },
      "execution_count": 11,
      "outputs": [
        {
          "output_type": "execute_result",
          "data": {
            "text/plain": [
              "0.48"
            ]
          },
          "metadata": {},
          "execution_count": 11
        }
      ]
    },
    {
      "cell_type": "code",
      "source": [
        "hihi"
      ],
      "metadata": {
        "colab": {
          "base_uri": "https://localhost:8080/",
          "height": 206
        },
        "id": "ZC46aC05QXQx",
        "outputId": "e9366244-688a-461b-8ff8-b7a7372ea23d"
      },
      "execution_count": 12,
      "outputs": [
        {
          "output_type": "execute_result",
          "data": {
            "text/plain": [
              "   Age  Likes English  Likes AI  Raise Salary\n",
              "0   23              0         0             0\n",
              "1   25              1         1             0\n",
              "2   27              1         0             1\n",
              "3   29              0         1             1\n",
              "4   29              0         0             0"
            ],
            "text/html": [
              "\n",
              "  <div id=\"df-df813d4c-8981-402c-b1f4-62df20ef7ca9\" class=\"colab-df-container\">\n",
              "    <div>\n",
              "<style scoped>\n",
              "    .dataframe tbody tr th:only-of-type {\n",
              "        vertical-align: middle;\n",
              "    }\n",
              "\n",
              "    .dataframe tbody tr th {\n",
              "        vertical-align: top;\n",
              "    }\n",
              "\n",
              "    .dataframe thead th {\n",
              "        text-align: right;\n",
              "    }\n",
              "</style>\n",
              "<table border=\"1\" class=\"dataframe\">\n",
              "  <thead>\n",
              "    <tr style=\"text-align: right;\">\n",
              "      <th></th>\n",
              "      <th>Age</th>\n",
              "      <th>Likes English</th>\n",
              "      <th>Likes AI</th>\n",
              "      <th>Raise Salary</th>\n",
              "    </tr>\n",
              "  </thead>\n",
              "  <tbody>\n",
              "    <tr>\n",
              "      <th>0</th>\n",
              "      <td>23</td>\n",
              "      <td>0</td>\n",
              "      <td>0</td>\n",
              "      <td>0</td>\n",
              "    </tr>\n",
              "    <tr>\n",
              "      <th>1</th>\n",
              "      <td>25</td>\n",
              "      <td>1</td>\n",
              "      <td>1</td>\n",
              "      <td>0</td>\n",
              "    </tr>\n",
              "    <tr>\n",
              "      <th>2</th>\n",
              "      <td>27</td>\n",
              "      <td>1</td>\n",
              "      <td>0</td>\n",
              "      <td>1</td>\n",
              "    </tr>\n",
              "    <tr>\n",
              "      <th>3</th>\n",
              "      <td>29</td>\n",
              "      <td>0</td>\n",
              "      <td>1</td>\n",
              "      <td>1</td>\n",
              "    </tr>\n",
              "    <tr>\n",
              "      <th>4</th>\n",
              "      <td>29</td>\n",
              "      <td>0</td>\n",
              "      <td>0</td>\n",
              "      <td>0</td>\n",
              "    </tr>\n",
              "  </tbody>\n",
              "</table>\n",
              "</div>\n",
              "    <div class=\"colab-df-buttons\">\n",
              "\n",
              "  <div class=\"colab-df-container\">\n",
              "    <button class=\"colab-df-convert\" onclick=\"convertToInteractive('df-df813d4c-8981-402c-b1f4-62df20ef7ca9')\"\n",
              "            title=\"Convert this dataframe to an interactive table.\"\n",
              "            style=\"display:none;\">\n",
              "\n",
              "  <svg xmlns=\"http://www.w3.org/2000/svg\" height=\"24px\" viewBox=\"0 -960 960 960\">\n",
              "    <path d=\"M120-120v-720h720v720H120Zm60-500h600v-160H180v160Zm220 220h160v-160H400v160Zm0 220h160v-160H400v160ZM180-400h160v-160H180v160Zm440 0h160v-160H620v160ZM180-180h160v-160H180v160Zm440 0h160v-160H620v160Z\"/>\n",
              "  </svg>\n",
              "    </button>\n",
              "\n",
              "  <style>\n",
              "    .colab-df-container {\n",
              "      display:flex;\n",
              "      gap: 12px;\n",
              "    }\n",
              "\n",
              "    .colab-df-convert {\n",
              "      background-color: #E8F0FE;\n",
              "      border: none;\n",
              "      border-radius: 50%;\n",
              "      cursor: pointer;\n",
              "      display: none;\n",
              "      fill: #1967D2;\n",
              "      height: 32px;\n",
              "      padding: 0 0 0 0;\n",
              "      width: 32px;\n",
              "    }\n",
              "\n",
              "    .colab-df-convert:hover {\n",
              "      background-color: #E2EBFA;\n",
              "      box-shadow: 0px 1px 2px rgba(60, 64, 67, 0.3), 0px 1px 3px 1px rgba(60, 64, 67, 0.15);\n",
              "      fill: #174EA6;\n",
              "    }\n",
              "\n",
              "    .colab-df-buttons div {\n",
              "      margin-bottom: 4px;\n",
              "    }\n",
              "\n",
              "    [theme=dark] .colab-df-convert {\n",
              "      background-color: #3B4455;\n",
              "      fill: #D2E3FC;\n",
              "    }\n",
              "\n",
              "    [theme=dark] .colab-df-convert:hover {\n",
              "      background-color: #434B5C;\n",
              "      box-shadow: 0px 1px 3px 1px rgba(0, 0, 0, 0.15);\n",
              "      filter: drop-shadow(0px 1px 2px rgba(0, 0, 0, 0.3));\n",
              "      fill: #FFFFFF;\n",
              "    }\n",
              "  </style>\n",
              "\n",
              "    <script>\n",
              "      const buttonEl =\n",
              "        document.querySelector('#df-df813d4c-8981-402c-b1f4-62df20ef7ca9 button.colab-df-convert');\n",
              "      buttonEl.style.display =\n",
              "        google.colab.kernel.accessAllowed ? 'block' : 'none';\n",
              "\n",
              "      async function convertToInteractive(key) {\n",
              "        const element = document.querySelector('#df-df813d4c-8981-402c-b1f4-62df20ef7ca9');\n",
              "        const dataTable =\n",
              "          await google.colab.kernel.invokeFunction('convertToInteractive',\n",
              "                                                    [key], {});\n",
              "        if (!dataTable) return;\n",
              "\n",
              "        const docLinkHtml = 'Like what you see? Visit the ' +\n",
              "          '<a target=\"_blank\" href=https://colab.research.google.com/notebooks/data_table.ipynb>data table notebook</a>'\n",
              "          + ' to learn more about interactive tables.';\n",
              "        element.innerHTML = '';\n",
              "        dataTable['output_type'] = 'display_data';\n",
              "        await google.colab.output.renderOutput(dataTable, element);\n",
              "        const docLink = document.createElement('div');\n",
              "        docLink.innerHTML = docLinkHtml;\n",
              "        element.appendChild(docLink);\n",
              "      }\n",
              "    </script>\n",
              "  </div>\n",
              "\n",
              "\n",
              "<div id=\"df-d0397a0f-05cd-4a24-a398-f73c0e42bff1\">\n",
              "  <button class=\"colab-df-quickchart\" onclick=\"quickchart('df-d0397a0f-05cd-4a24-a398-f73c0e42bff1')\"\n",
              "            title=\"Suggest charts\"\n",
              "            style=\"display:none;\">\n",
              "\n",
              "<svg xmlns=\"http://www.w3.org/2000/svg\" height=\"24px\"viewBox=\"0 0 24 24\"\n",
              "     width=\"24px\">\n",
              "    <g>\n",
              "        <path d=\"M19 3H5c-1.1 0-2 .9-2 2v14c0 1.1.9 2 2 2h14c1.1 0 2-.9 2-2V5c0-1.1-.9-2-2-2zM9 17H7v-7h2v7zm4 0h-2V7h2v10zm4 0h-2v-4h2v4z\"/>\n",
              "    </g>\n",
              "</svg>\n",
              "  </button>\n",
              "\n",
              "<style>\n",
              "  .colab-df-quickchart {\n",
              "      --bg-color: #E8F0FE;\n",
              "      --fill-color: #1967D2;\n",
              "      --hover-bg-color: #E2EBFA;\n",
              "      --hover-fill-color: #174EA6;\n",
              "      --disabled-fill-color: #AAA;\n",
              "      --disabled-bg-color: #DDD;\n",
              "  }\n",
              "\n",
              "  [theme=dark] .colab-df-quickchart {\n",
              "      --bg-color: #3B4455;\n",
              "      --fill-color: #D2E3FC;\n",
              "      --hover-bg-color: #434B5C;\n",
              "      --hover-fill-color: #FFFFFF;\n",
              "      --disabled-bg-color: #3B4455;\n",
              "      --disabled-fill-color: #666;\n",
              "  }\n",
              "\n",
              "  .colab-df-quickchart {\n",
              "    background-color: var(--bg-color);\n",
              "    border: none;\n",
              "    border-radius: 50%;\n",
              "    cursor: pointer;\n",
              "    display: none;\n",
              "    fill: var(--fill-color);\n",
              "    height: 32px;\n",
              "    padding: 0;\n",
              "    width: 32px;\n",
              "  }\n",
              "\n",
              "  .colab-df-quickchart:hover {\n",
              "    background-color: var(--hover-bg-color);\n",
              "    box-shadow: 0 1px 2px rgba(60, 64, 67, 0.3), 0 1px 3px 1px rgba(60, 64, 67, 0.15);\n",
              "    fill: var(--button-hover-fill-color);\n",
              "  }\n",
              "\n",
              "  .colab-df-quickchart-complete:disabled,\n",
              "  .colab-df-quickchart-complete:disabled:hover {\n",
              "    background-color: var(--disabled-bg-color);\n",
              "    fill: var(--disabled-fill-color);\n",
              "    box-shadow: none;\n",
              "  }\n",
              "\n",
              "  .colab-df-spinner {\n",
              "    border: 2px solid var(--fill-color);\n",
              "    border-color: transparent;\n",
              "    border-bottom-color: var(--fill-color);\n",
              "    animation:\n",
              "      spin 1s steps(1) infinite;\n",
              "  }\n",
              "\n",
              "  @keyframes spin {\n",
              "    0% {\n",
              "      border-color: transparent;\n",
              "      border-bottom-color: var(--fill-color);\n",
              "      border-left-color: var(--fill-color);\n",
              "    }\n",
              "    20% {\n",
              "      border-color: transparent;\n",
              "      border-left-color: var(--fill-color);\n",
              "      border-top-color: var(--fill-color);\n",
              "    }\n",
              "    30% {\n",
              "      border-color: transparent;\n",
              "      border-left-color: var(--fill-color);\n",
              "      border-top-color: var(--fill-color);\n",
              "      border-right-color: var(--fill-color);\n",
              "    }\n",
              "    40% {\n",
              "      border-color: transparent;\n",
              "      border-right-color: var(--fill-color);\n",
              "      border-top-color: var(--fill-color);\n",
              "    }\n",
              "    60% {\n",
              "      border-color: transparent;\n",
              "      border-right-color: var(--fill-color);\n",
              "    }\n",
              "    80% {\n",
              "      border-color: transparent;\n",
              "      border-right-color: var(--fill-color);\n",
              "      border-bottom-color: var(--fill-color);\n",
              "    }\n",
              "    90% {\n",
              "      border-color: transparent;\n",
              "      border-bottom-color: var(--fill-color);\n",
              "    }\n",
              "  }\n",
              "</style>\n",
              "\n",
              "  <script>\n",
              "    async function quickchart(key) {\n",
              "      const quickchartButtonEl =\n",
              "        document.querySelector('#' + key + ' button');\n",
              "      quickchartButtonEl.disabled = true;  // To prevent multiple clicks.\n",
              "      quickchartButtonEl.classList.add('colab-df-spinner');\n",
              "      try {\n",
              "        const charts = await google.colab.kernel.invokeFunction(\n",
              "            'suggestCharts', [key], {});\n",
              "      } catch (error) {\n",
              "        console.error('Error during call to suggestCharts:', error);\n",
              "      }\n",
              "      quickchartButtonEl.classList.remove('colab-df-spinner');\n",
              "      quickchartButtonEl.classList.add('colab-df-quickchart-complete');\n",
              "    }\n",
              "    (() => {\n",
              "      let quickchartButtonEl =\n",
              "        document.querySelector('#df-d0397a0f-05cd-4a24-a398-f73c0e42bff1 button');\n",
              "      quickchartButtonEl.style.display =\n",
              "        google.colab.kernel.accessAllowed ? 'block' : 'none';\n",
              "    })();\n",
              "  </script>\n",
              "</div>\n",
              "\n",
              "  <div id=\"id_ce4944f2-f58d-4b48-ba01-3fc57a5f9faf\">\n",
              "    <style>\n",
              "      .colab-df-generate {\n",
              "        background-color: #E8F0FE;\n",
              "        border: none;\n",
              "        border-radius: 50%;\n",
              "        cursor: pointer;\n",
              "        display: none;\n",
              "        fill: #1967D2;\n",
              "        height: 32px;\n",
              "        padding: 0 0 0 0;\n",
              "        width: 32px;\n",
              "      }\n",
              "\n",
              "      .colab-df-generate:hover {\n",
              "        background-color: #E2EBFA;\n",
              "        box-shadow: 0px 1px 2px rgba(60, 64, 67, 0.3), 0px 1px 3px 1px rgba(60, 64, 67, 0.15);\n",
              "        fill: #174EA6;\n",
              "      }\n",
              "\n",
              "      [theme=dark] .colab-df-generate {\n",
              "        background-color: #3B4455;\n",
              "        fill: #D2E3FC;\n",
              "      }\n",
              "\n",
              "      [theme=dark] .colab-df-generate:hover {\n",
              "        background-color: #434B5C;\n",
              "        box-shadow: 0px 1px 3px 1px rgba(0, 0, 0, 0.15);\n",
              "        filter: drop-shadow(0px 1px 2px rgba(0, 0, 0, 0.3));\n",
              "        fill: #FFFFFF;\n",
              "      }\n",
              "    </style>\n",
              "    <button class=\"colab-df-generate\" onclick=\"generateWithVariable('hihi')\"\n",
              "            title=\"Generate code using this dataframe.\"\n",
              "            style=\"display:none;\">\n",
              "\n",
              "  <svg xmlns=\"http://www.w3.org/2000/svg\" height=\"24px\"viewBox=\"0 0 24 24\"\n",
              "       width=\"24px\">\n",
              "    <path d=\"M7,19H8.4L18.45,9,17,7.55,7,17.6ZM5,21V16.75L18.45,3.32a2,2,0,0,1,2.83,0l1.4,1.43a1.91,1.91,0,0,1,.58,1.4,1.91,1.91,0,0,1-.58,1.4L9.25,21ZM18.45,9,17,7.55Zm-12,3A5.31,5.31,0,0,0,4.9,8.1,5.31,5.31,0,0,0,1,6.5,5.31,5.31,0,0,0,4.9,4.9,5.31,5.31,0,0,0,6.5,1,5.31,5.31,0,0,0,8.1,4.9,5.31,5.31,0,0,0,12,6.5,5.46,5.46,0,0,0,6.5,12Z\"/>\n",
              "  </svg>\n",
              "    </button>\n",
              "    <script>\n",
              "      (() => {\n",
              "      const buttonEl =\n",
              "        document.querySelector('#id_ce4944f2-f58d-4b48-ba01-3fc57a5f9faf button.colab-df-generate');\n",
              "      buttonEl.style.display =\n",
              "        google.colab.kernel.accessAllowed ? 'block' : 'none';\n",
              "\n",
              "      buttonEl.onclick = () => {\n",
              "        google.colab.notebook.generateWithVariable('hihi');\n",
              "      }\n",
              "      })();\n",
              "    </script>\n",
              "  </div>\n",
              "\n",
              "    </div>\n",
              "  </div>\n"
            ],
            "application/vnd.google.colaboratory.intrinsic+json": {
              "type": "dataframe",
              "variable_name": "hihi",
              "summary": "{\n  \"name\": \"hihi\",\n  \"rows\": 5,\n  \"fields\": [\n    {\n      \"column\": \"Age\",\n      \"properties\": {\n        \"dtype\": \"number\",\n        \"std\": 2,\n        \"min\": 23,\n        \"max\": 29,\n        \"num_unique_values\": 4,\n        \"samples\": [\n          25,\n          29,\n          23\n        ],\n        \"semantic_type\": \"\",\n        \"description\": \"\"\n      }\n    },\n    {\n      \"column\": \"Likes English\",\n      \"properties\": {\n        \"dtype\": \"number\",\n        \"std\": 0,\n        \"min\": 0,\n        \"max\": 1,\n        \"num_unique_values\": 2,\n        \"samples\": [\n          1,\n          0\n        ],\n        \"semantic_type\": \"\",\n        \"description\": \"\"\n      }\n    },\n    {\n      \"column\": \"Likes AI\",\n      \"properties\": {\n        \"dtype\": \"number\",\n        \"std\": 0,\n        \"min\": 0,\n        \"max\": 1,\n        \"num_unique_values\": 2,\n        \"samples\": [\n          1,\n          0\n        ],\n        \"semantic_type\": \"\",\n        \"description\": \"\"\n      }\n    },\n    {\n      \"column\": \"Raise Salary\",\n      \"properties\": {\n        \"dtype\": \"number\",\n        \"std\": 0,\n        \"min\": 0,\n        \"max\": 1,\n        \"num_unique_values\": 2,\n        \"samples\": [\n          1,\n          0\n        ],\n        \"semantic_type\": \"\",\n        \"description\": \"\"\n      }\n    }\n  ]\n}"
            }
          },
          "metadata": {},
          "execution_count": 12
        }
      ]
    },
    {
      "cell_type": "markdown",
      "source": [
        "### Question 3"
      ],
      "metadata": {
        "id": "SlC_Cw2WTttN"
      }
    },
    {
      "cell_type": "code",
      "source": [
        "haha = np.array(hihi)\n",
        "\n",
        "parent = np.array(haha)[:, -1]\n",
        "haha_l = np.array([row[-1] for row in haha if row[1]==0])\n",
        "haha_r = np.array([row[-1] for row in haha if row[1]==1])\n",
        "\n",
        "gini = len(haha_l) / len(parent) * gini_index(haha_l) + len(haha_r) / len(parent) * gini_index(haha_r)\n",
        "gini"
      ],
      "metadata": {
        "colab": {
          "base_uri": "https://localhost:8080/"
        },
        "id": "F2QF6ZLpTbC5",
        "outputId": "6059c141-24be-43df-817f-c7b30aae887e"
      },
      "execution_count": 13,
      "outputs": [
        {
          "output_type": "execute_result",
          "data": {
            "text/plain": [
              "0.4666666666666667"
            ]
          },
          "metadata": {},
          "execution_count": 13
        }
      ]
    },
    {
      "cell_type": "markdown",
      "source": [
        "### Question 4"
      ],
      "metadata": {
        "id": "BfIf9Kf-Twi4"
      }
    },
    {
      "cell_type": "code",
      "source": [
        "haha = np.array(hihi)\n",
        "\n",
        "parent = np.array(haha)[:, -1]\n",
        "haha_l = np.array([row[-1] for row in haha if row[0]<=26])\n",
        "haha_r = np.array([row[-1] for row in haha if row[0]>26])\n",
        "\n",
        "gini = len(haha_l) / len(parent) * gini_index(haha_l) + len(haha_r) / len(parent) * gini_index(haha_r)\n",
        "gini"
      ],
      "metadata": {
        "colab": {
          "base_uri": "https://localhost:8080/"
        },
        "id": "dS_ZW8-_K6l3",
        "outputId": "9f3fe400-5b8a-4c2a-8b18-c7d30bdd69ff"
      },
      "execution_count": 14,
      "outputs": [
        {
          "output_type": "execute_result",
          "data": {
            "text/plain": [
              "0.26666666666666666"
            ]
          },
          "metadata": {},
          "execution_count": 14
        }
      ]
    },
    {
      "cell_type": "markdown",
      "source": [
        "### Question 5"
      ],
      "metadata": {
        "id": "iDA29_PAUAwG"
      }
    },
    {
      "cell_type": "code",
      "source": [
        "def entropy(y):\n",
        "  '''function to compute entropy'''\n",
        "\n",
        "  class_labels = np.unique(y)\n",
        "  entropy = 0\n",
        "\n",
        "  for cls in class_labels:\n",
        "    p_cls = len(y[y==cls])/len(y)\n",
        "    entropy += -p_cls * np.log2(p_cls)\n",
        "\n",
        "  return entropy"
      ],
      "metadata": {
        "id": "vtniLYbCUCVZ"
      },
      "execution_count": 15,
      "outputs": []
    },
    {
      "cell_type": "code",
      "source": [
        "entropy(np.array(haha[:, -1]))"
      ],
      "metadata": {
        "colab": {
          "base_uri": "https://localhost:8080/"
        },
        "id": "Z_nUy9CJUGmX",
        "outputId": "0ad03e49-075e-4a2f-d271-e7fb6c48efbb"
      },
      "execution_count": 16,
      "outputs": [
        {
          "output_type": "execute_result",
          "data": {
            "text/plain": [
              "0.9709505944546686"
            ]
          },
          "metadata": {},
          "execution_count": 16
        }
      ]
    },
    {
      "cell_type": "markdown",
      "source": [
        "### Question 6"
      ],
      "metadata": {
        "id": "SHS0c_1pgP6b"
      }
    },
    {
      "cell_type": "code",
      "source": [
        "haha = np.array(hihi)\n",
        "\n",
        "parent = np.array(haha)[:, -1]\n",
        "haha_l = np.array([row[-1] for row in haha if row[1]==0])\n",
        "haha_r = np.array([row[-1] for row in haha if row[1]==1])\n",
        "\n",
        "weight_l = len(haha_l) / len(parent)\n",
        "weight_r = len(haha_r) / len(parent)\n",
        "\n",
        "gain = 1 - (weight_l * entropy(haha_l) + weight_r * entropy(haha_r))\n",
        "gain"
      ],
      "metadata": {
        "colab": {
          "base_uri": "https://localhost:8080/"
        },
        "id": "lVtVRy6HgRsU",
        "outputId": "3d5fdcc7-d632-44fe-9f66-5dbc46177c0b"
      },
      "execution_count": 17,
      "outputs": [
        {
          "output_type": "execute_result",
          "data": {
            "text/plain": [
              "0.04902249956730631"
            ]
          },
          "metadata": {},
          "execution_count": 17
        }
      ]
    },
    {
      "cell_type": "markdown",
      "source": [
        "## Decision Tree Regression from Scratch"
      ],
      "metadata": {
        "id": "807n3Fe3r1iU"
      }
    },
    {
      "cell_type": "markdown",
      "source": [
        "### Import tools"
      ],
      "metadata": {
        "id": "gFAidPMVsUtl"
      }
    },
    {
      "cell_type": "code",
      "source": [
        "import numpy as np\n",
        "import pandas as pd"
      ],
      "metadata": {
        "id": "6kaX-2iHr4di"
      },
      "execution_count": 18,
      "outputs": []
    },
    {
      "cell_type": "markdown",
      "source": [
        "### Download data"
      ],
      "metadata": {
        "id": "jTPCPb0Zs4Qn"
      }
    },
    {
      "cell_type": "code",
      "source": [
        "!gdown 1q5iSqD8Y7Kuoks5T1FxxZW7135zqu9op"
      ],
      "metadata": {
        "colab": {
          "base_uri": "https://localhost:8080/"
        },
        "id": "Y_MR9nqTsmMC",
        "outputId": "3e5bd987-0fa4-4ba5-f286-956c08db2640"
      },
      "execution_count": 19,
      "outputs": [
        {
          "output_type": "stream",
          "name": "stdout",
          "text": [
            "Downloading...\n",
            "From: https://drive.google.com/uc?id=1q5iSqD8Y7Kuoks5T1FxxZW7135zqu9op\n",
            "To: /content/airfoil_noise_data.csv\n",
            "\r  0% 0.00/59.9k [00:00<?, ?B/s]\r100% 59.9k/59.9k [00:00<00:00, 4.34MB/s]\n"
          ]
        }
      ]
    },
    {
      "cell_type": "code",
      "source": [
        "data = pd.read_csv('airfoil_noise_data.csv')\n",
        "data.head(5)"
      ],
      "metadata": {
        "colab": {
          "base_uri": "https://localhost:8080/",
          "height": 206
        },
        "id": "njn3NXH8ssz8",
        "outputId": "26c931f0-4792-4d86-e190-ba310dca8519"
      },
      "execution_count": 20,
      "outputs": [
        {
          "output_type": "execute_result",
          "data": {
            "text/plain": [
              "     x0   x1      x2    x3        x4        y\n",
              "0   800  0.0  0.3048  71.3  0.002663  126.201\n",
              "1  1000  0.0  0.3048  71.3  0.002663  125.201\n",
              "2  1250  0.0  0.3048  71.3  0.002663  125.951\n",
              "3  1600  0.0  0.3048  71.3  0.002663  127.591\n",
              "4  2000  0.0  0.3048  71.3  0.002663  127.461"
            ],
            "text/html": [
              "\n",
              "  <div id=\"df-d15d4697-1335-48d3-a733-11e35494ee35\" class=\"colab-df-container\">\n",
              "    <div>\n",
              "<style scoped>\n",
              "    .dataframe tbody tr th:only-of-type {\n",
              "        vertical-align: middle;\n",
              "    }\n",
              "\n",
              "    .dataframe tbody tr th {\n",
              "        vertical-align: top;\n",
              "    }\n",
              "\n",
              "    .dataframe thead th {\n",
              "        text-align: right;\n",
              "    }\n",
              "</style>\n",
              "<table border=\"1\" class=\"dataframe\">\n",
              "  <thead>\n",
              "    <tr style=\"text-align: right;\">\n",
              "      <th></th>\n",
              "      <th>x0</th>\n",
              "      <th>x1</th>\n",
              "      <th>x2</th>\n",
              "      <th>x3</th>\n",
              "      <th>x4</th>\n",
              "      <th>y</th>\n",
              "    </tr>\n",
              "  </thead>\n",
              "  <tbody>\n",
              "    <tr>\n",
              "      <th>0</th>\n",
              "      <td>800</td>\n",
              "      <td>0.0</td>\n",
              "      <td>0.3048</td>\n",
              "      <td>71.3</td>\n",
              "      <td>0.002663</td>\n",
              "      <td>126.201</td>\n",
              "    </tr>\n",
              "    <tr>\n",
              "      <th>1</th>\n",
              "      <td>1000</td>\n",
              "      <td>0.0</td>\n",
              "      <td>0.3048</td>\n",
              "      <td>71.3</td>\n",
              "      <td>0.002663</td>\n",
              "      <td>125.201</td>\n",
              "    </tr>\n",
              "    <tr>\n",
              "      <th>2</th>\n",
              "      <td>1250</td>\n",
              "      <td>0.0</td>\n",
              "      <td>0.3048</td>\n",
              "      <td>71.3</td>\n",
              "      <td>0.002663</td>\n",
              "      <td>125.951</td>\n",
              "    </tr>\n",
              "    <tr>\n",
              "      <th>3</th>\n",
              "      <td>1600</td>\n",
              "      <td>0.0</td>\n",
              "      <td>0.3048</td>\n",
              "      <td>71.3</td>\n",
              "      <td>0.002663</td>\n",
              "      <td>127.591</td>\n",
              "    </tr>\n",
              "    <tr>\n",
              "      <th>4</th>\n",
              "      <td>2000</td>\n",
              "      <td>0.0</td>\n",
              "      <td>0.3048</td>\n",
              "      <td>71.3</td>\n",
              "      <td>0.002663</td>\n",
              "      <td>127.461</td>\n",
              "    </tr>\n",
              "  </tbody>\n",
              "</table>\n",
              "</div>\n",
              "    <div class=\"colab-df-buttons\">\n",
              "\n",
              "  <div class=\"colab-df-container\">\n",
              "    <button class=\"colab-df-convert\" onclick=\"convertToInteractive('df-d15d4697-1335-48d3-a733-11e35494ee35')\"\n",
              "            title=\"Convert this dataframe to an interactive table.\"\n",
              "            style=\"display:none;\">\n",
              "\n",
              "  <svg xmlns=\"http://www.w3.org/2000/svg\" height=\"24px\" viewBox=\"0 -960 960 960\">\n",
              "    <path d=\"M120-120v-720h720v720H120Zm60-500h600v-160H180v160Zm220 220h160v-160H400v160Zm0 220h160v-160H400v160ZM180-400h160v-160H180v160Zm440 0h160v-160H620v160ZM180-180h160v-160H180v160Zm440 0h160v-160H620v160Z\"/>\n",
              "  </svg>\n",
              "    </button>\n",
              "\n",
              "  <style>\n",
              "    .colab-df-container {\n",
              "      display:flex;\n",
              "      gap: 12px;\n",
              "    }\n",
              "\n",
              "    .colab-df-convert {\n",
              "      background-color: #E8F0FE;\n",
              "      border: none;\n",
              "      border-radius: 50%;\n",
              "      cursor: pointer;\n",
              "      display: none;\n",
              "      fill: #1967D2;\n",
              "      height: 32px;\n",
              "      padding: 0 0 0 0;\n",
              "      width: 32px;\n",
              "    }\n",
              "\n",
              "    .colab-df-convert:hover {\n",
              "      background-color: #E2EBFA;\n",
              "      box-shadow: 0px 1px 2px rgba(60, 64, 67, 0.3), 0px 1px 3px 1px rgba(60, 64, 67, 0.15);\n",
              "      fill: #174EA6;\n",
              "    }\n",
              "\n",
              "    .colab-df-buttons div {\n",
              "      margin-bottom: 4px;\n",
              "    }\n",
              "\n",
              "    [theme=dark] .colab-df-convert {\n",
              "      background-color: #3B4455;\n",
              "      fill: #D2E3FC;\n",
              "    }\n",
              "\n",
              "    [theme=dark] .colab-df-convert:hover {\n",
              "      background-color: #434B5C;\n",
              "      box-shadow: 0px 1px 3px 1px rgba(0, 0, 0, 0.15);\n",
              "      filter: drop-shadow(0px 1px 2px rgba(0, 0, 0, 0.3));\n",
              "      fill: #FFFFFF;\n",
              "    }\n",
              "  </style>\n",
              "\n",
              "    <script>\n",
              "      const buttonEl =\n",
              "        document.querySelector('#df-d15d4697-1335-48d3-a733-11e35494ee35 button.colab-df-convert');\n",
              "      buttonEl.style.display =\n",
              "        google.colab.kernel.accessAllowed ? 'block' : 'none';\n",
              "\n",
              "      async function convertToInteractive(key) {\n",
              "        const element = document.querySelector('#df-d15d4697-1335-48d3-a733-11e35494ee35');\n",
              "        const dataTable =\n",
              "          await google.colab.kernel.invokeFunction('convertToInteractive',\n",
              "                                                    [key], {});\n",
              "        if (!dataTable) return;\n",
              "\n",
              "        const docLinkHtml = 'Like what you see? Visit the ' +\n",
              "          '<a target=\"_blank\" href=https://colab.research.google.com/notebooks/data_table.ipynb>data table notebook</a>'\n",
              "          + ' to learn more about interactive tables.';\n",
              "        element.innerHTML = '';\n",
              "        dataTable['output_type'] = 'display_data';\n",
              "        await google.colab.output.renderOutput(dataTable, element);\n",
              "        const docLink = document.createElement('div');\n",
              "        docLink.innerHTML = docLinkHtml;\n",
              "        element.appendChild(docLink);\n",
              "      }\n",
              "    </script>\n",
              "  </div>\n",
              "\n",
              "\n",
              "<div id=\"df-da5753cf-ee3f-4a94-80f1-af85e5e83f9c\">\n",
              "  <button class=\"colab-df-quickchart\" onclick=\"quickchart('df-da5753cf-ee3f-4a94-80f1-af85e5e83f9c')\"\n",
              "            title=\"Suggest charts\"\n",
              "            style=\"display:none;\">\n",
              "\n",
              "<svg xmlns=\"http://www.w3.org/2000/svg\" height=\"24px\"viewBox=\"0 0 24 24\"\n",
              "     width=\"24px\">\n",
              "    <g>\n",
              "        <path d=\"M19 3H5c-1.1 0-2 .9-2 2v14c0 1.1.9 2 2 2h14c1.1 0 2-.9 2-2V5c0-1.1-.9-2-2-2zM9 17H7v-7h2v7zm4 0h-2V7h2v10zm4 0h-2v-4h2v4z\"/>\n",
              "    </g>\n",
              "</svg>\n",
              "  </button>\n",
              "\n",
              "<style>\n",
              "  .colab-df-quickchart {\n",
              "      --bg-color: #E8F0FE;\n",
              "      --fill-color: #1967D2;\n",
              "      --hover-bg-color: #E2EBFA;\n",
              "      --hover-fill-color: #174EA6;\n",
              "      --disabled-fill-color: #AAA;\n",
              "      --disabled-bg-color: #DDD;\n",
              "  }\n",
              "\n",
              "  [theme=dark] .colab-df-quickchart {\n",
              "      --bg-color: #3B4455;\n",
              "      --fill-color: #D2E3FC;\n",
              "      --hover-bg-color: #434B5C;\n",
              "      --hover-fill-color: #FFFFFF;\n",
              "      --disabled-bg-color: #3B4455;\n",
              "      --disabled-fill-color: #666;\n",
              "  }\n",
              "\n",
              "  .colab-df-quickchart {\n",
              "    background-color: var(--bg-color);\n",
              "    border: none;\n",
              "    border-radius: 50%;\n",
              "    cursor: pointer;\n",
              "    display: none;\n",
              "    fill: var(--fill-color);\n",
              "    height: 32px;\n",
              "    padding: 0;\n",
              "    width: 32px;\n",
              "  }\n",
              "\n",
              "  .colab-df-quickchart:hover {\n",
              "    background-color: var(--hover-bg-color);\n",
              "    box-shadow: 0 1px 2px rgba(60, 64, 67, 0.3), 0 1px 3px 1px rgba(60, 64, 67, 0.15);\n",
              "    fill: var(--button-hover-fill-color);\n",
              "  }\n",
              "\n",
              "  .colab-df-quickchart-complete:disabled,\n",
              "  .colab-df-quickchart-complete:disabled:hover {\n",
              "    background-color: var(--disabled-bg-color);\n",
              "    fill: var(--disabled-fill-color);\n",
              "    box-shadow: none;\n",
              "  }\n",
              "\n",
              "  .colab-df-spinner {\n",
              "    border: 2px solid var(--fill-color);\n",
              "    border-color: transparent;\n",
              "    border-bottom-color: var(--fill-color);\n",
              "    animation:\n",
              "      spin 1s steps(1) infinite;\n",
              "  }\n",
              "\n",
              "  @keyframes spin {\n",
              "    0% {\n",
              "      border-color: transparent;\n",
              "      border-bottom-color: var(--fill-color);\n",
              "      border-left-color: var(--fill-color);\n",
              "    }\n",
              "    20% {\n",
              "      border-color: transparent;\n",
              "      border-left-color: var(--fill-color);\n",
              "      border-top-color: var(--fill-color);\n",
              "    }\n",
              "    30% {\n",
              "      border-color: transparent;\n",
              "      border-left-color: var(--fill-color);\n",
              "      border-top-color: var(--fill-color);\n",
              "      border-right-color: var(--fill-color);\n",
              "    }\n",
              "    40% {\n",
              "      border-color: transparent;\n",
              "      border-right-color: var(--fill-color);\n",
              "      border-top-color: var(--fill-color);\n",
              "    }\n",
              "    60% {\n",
              "      border-color: transparent;\n",
              "      border-right-color: var(--fill-color);\n",
              "    }\n",
              "    80% {\n",
              "      border-color: transparent;\n",
              "      border-right-color: var(--fill-color);\n",
              "      border-bottom-color: var(--fill-color);\n",
              "    }\n",
              "    90% {\n",
              "      border-color: transparent;\n",
              "      border-bottom-color: var(--fill-color);\n",
              "    }\n",
              "  }\n",
              "</style>\n",
              "\n",
              "  <script>\n",
              "    async function quickchart(key) {\n",
              "      const quickchartButtonEl =\n",
              "        document.querySelector('#' + key + ' button');\n",
              "      quickchartButtonEl.disabled = true;  // To prevent multiple clicks.\n",
              "      quickchartButtonEl.classList.add('colab-df-spinner');\n",
              "      try {\n",
              "        const charts = await google.colab.kernel.invokeFunction(\n",
              "            'suggestCharts', [key], {});\n",
              "      } catch (error) {\n",
              "        console.error('Error during call to suggestCharts:', error);\n",
              "      }\n",
              "      quickchartButtonEl.classList.remove('colab-df-spinner');\n",
              "      quickchartButtonEl.classList.add('colab-df-quickchart-complete');\n",
              "    }\n",
              "    (() => {\n",
              "      let quickchartButtonEl =\n",
              "        document.querySelector('#df-da5753cf-ee3f-4a94-80f1-af85e5e83f9c button');\n",
              "      quickchartButtonEl.style.display =\n",
              "        google.colab.kernel.accessAllowed ? 'block' : 'none';\n",
              "    })();\n",
              "  </script>\n",
              "</div>\n",
              "\n",
              "    </div>\n",
              "  </div>\n"
            ],
            "application/vnd.google.colaboratory.intrinsic+json": {
              "type": "dataframe",
              "variable_name": "data",
              "summary": "{\n  \"name\": \"data\",\n  \"rows\": 1503,\n  \"fields\": [\n    {\n      \"column\": \"x0\",\n      \"properties\": {\n        \"dtype\": \"number\",\n        \"std\": 3152,\n        \"min\": 200,\n        \"max\": 20000,\n        \"num_unique_values\": 21,\n        \"samples\": [\n          800,\n          250,\n          630\n        ],\n        \"semantic_type\": \"\",\n        \"description\": \"\"\n      }\n    },\n    {\n      \"column\": \"x1\",\n      \"properties\": {\n        \"dtype\": \"number\",\n        \"std\": 5.918128124886445,\n        \"min\": 0.0,\n        \"max\": 22.2,\n        \"num_unique_values\": 27,\n        \"samples\": [\n          5.4,\n          8.4,\n          7.2\n        ],\n        \"semantic_type\": \"\",\n        \"description\": \"\"\n      }\n    },\n    {\n      \"column\": \"x2\",\n      \"properties\": {\n        \"dtype\": \"number\",\n        \"std\": 0.09354072837396651,\n        \"min\": 0.0254,\n        \"max\": 0.3048,\n        \"num_unique_values\": 6,\n        \"samples\": [\n          0.3048,\n          0.2286,\n          0.1016\n        ],\n        \"semantic_type\": \"\",\n        \"description\": \"\"\n      }\n    },\n    {\n      \"column\": \"x3\",\n      \"properties\": {\n        \"dtype\": \"number\",\n        \"std\": 15.572784395385765,\n        \"min\": 31.7,\n        \"max\": 71.3,\n        \"num_unique_values\": 4,\n        \"samples\": [\n          55.5,\n          31.7,\n          71.3\n        ],\n        \"semantic_type\": \"\",\n        \"description\": \"\"\n      }\n    },\n    {\n      \"column\": \"x4\",\n      \"properties\": {\n        \"dtype\": \"number\",\n        \"std\": 0.013150234266814782,\n        \"min\": 0.000400682,\n        \"max\": 0.0584113,\n        \"num_unique_values\": 105,\n        \"samples\": [\n          0.0015988,\n          0.000400682,\n          0.036484\n        ],\n        \"semantic_type\": \"\",\n        \"description\": \"\"\n      }\n    },\n    {\n      \"column\": \"y\",\n      \"properties\": {\n        \"dtype\": \"number\",\n        \"std\": 6.898656621628728,\n        \"min\": 103.38,\n        \"max\": 140.987,\n        \"num_unique_values\": 1456,\n        \"samples\": [\n          124.207,\n          128.704,\n          113.144\n        ],\n        \"semantic_type\": \"\",\n        \"description\": \"\"\n      }\n    }\n  ]\n}"
            }
          },
          "metadata": {},
          "execution_count": 20
        }
      ]
    },
    {
      "cell_type": "markdown",
      "source": [
        "### Node class"
      ],
      "metadata": {
        "id": "LJseAqW7s6ks"
      }
    },
    {
      "cell_type": "code",
      "source": [
        "class Node():\n",
        "  def __init__(self, feature_index=None, threshold=None, left=None, right=None, var_red=None, value=None):\n",
        "    '''constructor'''\n",
        "\n",
        "    # for decision node\n",
        "    self.feature_index = feature_index\n",
        "    self.threshold = threshold\n",
        "    self.left = left\n",
        "    self.right = right\n",
        "    self.var_red = var_red\n",
        "\n",
        "    # for leaf node\n",
        "    self.value = value"
      ],
      "metadata": {
        "id": "DrBHpQWKsz0y"
      },
      "execution_count": 21,
      "outputs": []
    },
    {
      "cell_type": "markdown",
      "source": [
        "### Tree class"
      ],
      "metadata": {
        "id": "z-cvEaDjtfYq"
      }
    },
    {
      "cell_type": "code",
      "source": [
        "class DecisionTreeRegressor():\n",
        "  def __init__(self, min_samples_split=2, max_depth=2):\n",
        "    '''constructor'''\n",
        "\n",
        "    # initialize the root of the tree\n",
        "    self.root = None\n",
        "\n",
        "    # stopping conditions\n",
        "    self.min_samples_split = min_samples_split\n",
        "    self.max_depth = max_depth\n",
        "\n",
        "  def build_tree(self, dataset, curr_depth=0):\n",
        "    '''recursive function to build the tree'''\n",
        "\n",
        "    X, Y = dataset[:, :-1], dataset[:, -1]\n",
        "    num_samples, num_features = np.shape(X)\n",
        "    best_split = {}\n",
        "\n",
        "    # split until stopping conditions are met\n",
        "    if num_samples >= self.min_samples_split and curr_depth <= self.max_depth:\n",
        "      # find the best split\n",
        "      best_split = self.get_best_split(dataset, num_samples, num_features)\n",
        "\n",
        "      # check if information gain is positive\n",
        "      if best_split['var_red'] > 0:\n",
        "        # recur left\n",
        "        left_subtree = self.build_tree(best_split['dataset_left'], curr_depth+1)\n",
        "\n",
        "        # recur right\n",
        "        right_subtree = self.build_tree(best_split['dataset_right'], curr_depth+1)\n",
        "\n",
        "        # return decision node\n",
        "        return Node(best_split['feature_index'], best_split['threshold'], left_subtree, right_subtree, best_split['var_red'])\n",
        "\n",
        "    # compute leaf value\n",
        "    leaf_value = self.calculate_leaf_value(Y)\n",
        "\n",
        "    # return leaf node\n",
        "    return Node(value=leaf_value)\n",
        "\n",
        "  def get_best_split(self, dataset, num_samples, num_features):\n",
        "    '''function to find the best split'''\n",
        "\n",
        "    # dictionary to store the best split\n",
        "    best_split = {}\n",
        "    max_var_red = -float('inf')\n",
        "\n",
        "    # loop over all the features\n",
        "    for feature_index in range(num_features):\n",
        "      feature_values = dataset[:, feature_index]\n",
        "      possible_thresholds = np.unique(feature_values)\n",
        "\n",
        "      # loop over all the feature values present in the data\n",
        "      for threshold in possible_thresholds:\n",
        "        # get current split\n",
        "        dataset_left, dataset_right = self.split(dataset, feature_index, threshold)\n",
        "\n",
        "        # check if childs are not null\n",
        "        if len(dataset_left) > 0 and len(dataset_right) > 0:\n",
        "          y, left_y, right_y = dataset[:, -1], dataset_left[:, -1], dataset_right[:, -1]\n",
        "\n",
        "          # compute information gain\n",
        "          curr_var_red = self.variance_reduction(y, left_y, right_y)\n",
        "\n",
        "          # update the best split if needed\n",
        "          if curr_var_red > max_var_red:\n",
        "            best_split['feature_index'] = feature_index\n",
        "            best_split['threshold'] = threshold\n",
        "            best_split['dataset_left'] = dataset_left\n",
        "            best_split['dataset_right'] = dataset_right\n",
        "            best_split['var_red'] = curr_var_red\n",
        "            max_var_red = curr_var_red\n",
        "\n",
        "    # return the best split\n",
        "    return best_split\n",
        "\n",
        "  def split(self, dataset, feature_index, threshold):\n",
        "    '''function to split the data'''\n",
        "\n",
        "    dataset_left = np.array([row for row in dataset if row[feature_index]<=threshold])\n",
        "    dataset_right = np.array([row for row in dataset if row[feature_index]>threshold])\n",
        "\n",
        "    return dataset_left, dataset_right\n",
        "\n",
        "  def variance_reduction(self, parent, l_child, r_child):\n",
        "    '''function to compute variance reduction'''\n",
        "\n",
        "    weight_l = len(l_child) / len(parent)\n",
        "    weight_r = len(r_child) / len(parent)\n",
        "\n",
        "    reduction = np.var(parent) - (weight_l * np.var(l_child) + weight_r * np.var(r_child))\n",
        "\n",
        "    return reduction\n",
        "\n",
        "  def calculate_leaf_value(self, Y):\n",
        "    '''function to compute leaf node'''\n",
        "\n",
        "    val = np.mean(Y)\n",
        "\n",
        "    return val\n",
        "\n",
        "  def print_tree(self, tree=None, indent=\" \"):\n",
        "    '''function to print the tree'''\n",
        "\n",
        "    if not tree:\n",
        "      tree = self.root\n",
        "\n",
        "    if tree.value is not None:\n",
        "      print(tree.value)\n",
        "    else:\n",
        "      print(f'X_{tree.feature_index} <= {tree.threshold} ? {tree.var_red}')\n",
        "      print(f'{indent}left: ', end='')\n",
        "      self.print_tree(tree.left, indent+indent)\n",
        "      print(f'{indent}right: ', end='')\n",
        "      self.print_tree(tree.right, indent+indent)\n",
        "\n",
        "  def fit(self, X, Y):\n",
        "    '''function to train the tree'''\n",
        "\n",
        "    dataset = np.concatenate((X, Y), axis=1)\n",
        "    self.root = self.build_tree(dataset)\n",
        "\n",
        "  def make_prediction(self, x, tree):\n",
        "    '''function to predict a single data point'''\n",
        "\n",
        "    if tree.value != None:\n",
        "      return tree.value\n",
        "\n",
        "    feature_val = x[tree.feature_index]\n",
        "    if feature_val <= tree.threshold:\n",
        "      return self.make_prediction(x, tree.left)\n",
        "    else:\n",
        "      return self.make_prediction(x, tree.right)\n",
        "\n",
        "  def predict(self, X):\n",
        "    '''function to predict a new dataset'''\n",
        "\n",
        "    predictions = [self.make_prediction(x, self.root) for x in X]\n",
        "\n",
        "    return predictions"
      ],
      "metadata": {
        "id": "Z6RN0l8MthG0"
      },
      "execution_count": 33,
      "outputs": []
    },
    {
      "cell_type": "markdown",
      "source": [
        "### Train-Test split"
      ],
      "metadata": {
        "id": "wgLBQbDNoJ_e"
      }
    },
    {
      "cell_type": "code",
      "source": [
        "X = data.iloc[:, :-1].values\n",
        "Y = data.iloc[:, -1].values.reshape(-1, 1)\n",
        "\n",
        "from sklearn.model_selection import train_test_split\n",
        "X_train, X_test, Y_train, Y_test = train_test_split(X, Y, test_size=.2, random_state=41)"
      ],
      "metadata": {
        "id": "FAIAZEByoMJ1"
      },
      "execution_count": 24,
      "outputs": []
    },
    {
      "cell_type": "markdown",
      "source": [
        "### Fit the model"
      ],
      "metadata": {
        "id": "nh8f7uKroyaB"
      }
    },
    {
      "cell_type": "code",
      "source": [
        "regressor = DecisionTreeRegressor(min_samples_split=3, max_depth=3)\n",
        "regressor.fit(X_train, Y_train)\n",
        "\n",
        "regressor.print_tree()"
      ],
      "metadata": {
        "colab": {
          "base_uri": "https://localhost:8080/"
        },
        "id": "XofxcHtqozre",
        "outputId": "8809bfd2-90f6-4efd-a7df-96e3a7739578"
      },
      "execution_count": 34,
      "outputs": [
        {
          "output_type": "stream",
          "name": "stdout",
          "text": [
            "X_0 <= 3150.0 ? 7.132048702017748\n",
            " left: X_4 <= 0.0337792 ? 3.590330569067664\n",
            "  left: X_3 <= 55.5 ? 1.17898999813184\n",
            "    left: X_4 <= 0.00251435 ? 1.614396721819876\n",
            "        left: 128.9919833333333\n",
            "        right: 125.90953579676673\n",
            "    right: X_1 <= 15.4 ? 2.2342245360792994\n",
            "        left: 129.39160280373832\n",
            "        right: 123.80422222222222\n",
            "  right: X_0 <= 1250.0 ? 9.970884020498868\n",
            "    left: X_4 <= 0.0483159 ? 6.35527515982486\n",
            "        left: 124.38024528301887\n",
            "        right: 118.30039999999998\n",
            "    right: X_3 <= 39.6 ? 5.036286657241031\n",
            "        left: 113.58091666666667\n",
            "        right: 118.07284615384616\n",
            " right: X_4 <= 0.00146332 ? 29.08299210506528\n",
            "  left: X_0 <= 8000.0 ? 11.886497073996964\n",
            "    left: X_2 <= 0.0508 ? 7.608945827689519\n",
            "        left: 134.04247500000002\n",
            "        right: 127.33581818181818\n",
            "    right: X_4 <= 0.00076193 ? 10.6229193224008\n",
            "        left: 128.94078571428574\n",
            "        right: 122.40768750000001\n",
            "  right: X_4 <= 0.0229028 ? 5.638575922510643\n",
            "    left: X_0 <= 6300.0 ? 5.985051045988914\n",
            "        left: 120.04740816326529\n",
            "        right: 114.67370491803278\n",
            "    right: X_4 <= 0.0368233 ? 8.638744793046438\n",
            "        left: 113.83169565217393\n",
            "        right: 107.6395833333333\n"
          ]
        }
      ]
    },
    {
      "cell_type": "markdown",
      "source": [
        "### Test the model"
      ],
      "metadata": {
        "id": "I2VSl8HDriG0"
      }
    },
    {
      "cell_type": "code",
      "source": [
        "Y_pred = regressor.predict(X_test)\n",
        "\n",
        "from sklearn.metrics import mean_squared_error\n",
        "np.sqrt(mean_squared_error(Y_test, Y_pred))"
      ],
      "metadata": {
        "colab": {
          "base_uri": "https://localhost:8080/"
        },
        "id": "M5YkbXEUrjcz",
        "outputId": "68c8e25b-9004-4aa4-980d-c0b4ea5b7ba9"
      },
      "execution_count": 35,
      "outputs": [
        {
          "output_type": "execute_result",
          "data": {
            "text/plain": [
              "4.851358097184457"
            ]
          },
          "metadata": {},
          "execution_count": 35
        }
      ]
    },
    {
      "cell_type": "markdown",
      "source": [
        "## Homework"
      ],
      "metadata": {
        "id": "ga7hckHpsdAS"
      }
    },
    {
      "cell_type": "markdown",
      "source": [
        "### Question 9"
      ],
      "metadata": {
        "id": "b-emT_UisfM5"
      }
    },
    {
      "cell_type": "code",
      "source": [
        "def sse(parent, l_child, r_child):\n",
        "  '''function to compute variance reduction'''\n",
        "\n",
        "  weight_l = len(l_child) / len(parent)\n",
        "  weight_r = len(r_child) / len(parent)\n",
        "\n",
        "  reduction = np.var(l_child)  + np.var(r_child)\n",
        "\n",
        "  return reduction"
      ],
      "metadata": {
        "id": "g7LLe0sfseqh"
      },
      "execution_count": 40,
      "outputs": []
    },
    {
      "cell_type": "code",
      "source": [
        "hehe = np.array([[23, 0, 0, 200], [25, 1, 1, 400], [27, 1, 0, 300], [29, 0, 1, 500], [29, 0, 0, 400]])\n",
        "hehe"
      ],
      "metadata": {
        "colab": {
          "base_uri": "https://localhost:8080/"
        },
        "id": "Dt82jLgQsu3R",
        "outputId": "bcc71220-b75b-4db8-e9cf-2cd9acebcc1c"
      },
      "execution_count": 37,
      "outputs": [
        {
          "output_type": "execute_result",
          "data": {
            "text/plain": [
              "array([[ 23,   0,   0, 200],\n",
              "       [ 25,   1,   1, 400],\n",
              "       [ 27,   1,   0, 300],\n",
              "       [ 29,   0,   1, 500],\n",
              "       [ 29,   0,   0, 400]])"
            ]
          },
          "metadata": {},
          "execution_count": 37
        }
      ]
    },
    {
      "cell_type": "code",
      "source": [
        "hehe_l = np.array([row[-1] for row in hehe if row[0]<=24])\n",
        "hehe_r = np.array([row[-1] for row in hehe if row[0]>24])\n",
        "\n",
        "sse(hehe, hehe_l, hehe_r)"
      ],
      "metadata": {
        "colab": {
          "base_uri": "https://localhost:8080/"
        },
        "id": "iF_ap5_ftIvy",
        "outputId": "7e31c2a6-6d62-4386-e631-be518fae10f7"
      },
      "execution_count": 45,
      "outputs": [
        {
          "output_type": "execute_result",
          "data": {
            "text/plain": [
              "5000.0"
            ]
          },
          "metadata": {},
          "execution_count": 45
        }
      ]
    }
  ]
}