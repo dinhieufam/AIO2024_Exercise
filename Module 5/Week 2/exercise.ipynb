{
  "nbformat": 4,
  "nbformat_minor": 0,
  "metadata": {
    "colab": {
      "provenance": [],
      "gpuType": "T4"
    },
    "kernelspec": {
      "name": "python3",
      "display_name": "Python 3"
    },
    "language_info": {
      "name": "python"
    },
    "accelerator": "GPU"
  },
  "cells": [
    {
      "cell_type": "markdown",
      "source": [
        "# Credit Card Fraud Detection"
      ],
      "metadata": {
        "id": "PrYYIz5LMFPA"
      }
    },
    {
      "cell_type": "markdown",
      "source": [
        "## Download dataset"
      ],
      "metadata": {
        "id": "jchLLRAKMMzf"
      }
    },
    {
      "cell_type": "code",
      "execution_count": 1,
      "metadata": {
        "colab": {
          "base_uri": "https://localhost:8080/"
        },
        "id": "rAtYIphwLmgy",
        "outputId": "ca096de7-fe42-40e5-f1ee-8b7b1cdd2387"
      },
      "outputs": [
        {
          "output_type": "stream",
          "name": "stdout",
          "text": [
            "Downloading...\n",
            "From (original): https://drive.google.com/uc?id=1NwikiUU_Yzom-l4Kwy24Cn-bG46gMmG4\n",
            "From (redirected): https://drive.google.com/uc?id=1NwikiUU_Yzom-l4Kwy24Cn-bG46gMmG4&confirm=t&uuid=bd1df754-16c7-4beb-9451-0d9bf684bc94\n",
            "To: /content/creditcard.csv\n",
            "100% 151M/151M [00:04<00:00, 31.9MB/s]\n"
          ]
        }
      ],
      "source": [
        "!gdown 1NwikiUU_Yzom-l4Kwy24Cn-bG46gMmG4"
      ]
    },
    {
      "cell_type": "markdown",
      "source": [
        "## Import libraries"
      ],
      "metadata": {
        "id": "11nXVbL7Meqd"
      }
    },
    {
      "cell_type": "code",
      "source": [
        "import numpy as np\n",
        "import pandas as pd\n",
        "import matplotlib.pyplot as plt\n",
        "\n",
        "from sklearn.model_selection import train_test_split\n",
        "from sklearn.preprocessing import StandardScaler"
      ],
      "metadata": {
        "id": "U856kdFkMgee"
      },
      "execution_count": 2,
      "outputs": []
    },
    {
      "cell_type": "markdown",
      "source": [
        "## Read dataset"
      ],
      "metadata": {
        "id": "7cJzvIrhMsM0"
      }
    },
    {
      "cell_type": "code",
      "source": [
        "dataset_path = '/content/creditcard.csv'\n",
        "df = pd.read_csv(dataset_path)\n",
        "\n",
        "df.head()"
      ],
      "metadata": {
        "colab": {
          "base_uri": "https://localhost:8080/",
          "height": 255
        },
        "id": "ssLtZWC7MtjU",
        "outputId": "cb77bbe5-852d-4a02-f745-080aa786751d"
      },
      "execution_count": 3,
      "outputs": [
        {
          "output_type": "execute_result",
          "data": {
            "text/plain": [
              "   Time        V1        V2        V3        V4        V5        V6        V7  \\\n",
              "0   0.0 -1.359807 -0.072781  2.536347  1.378155 -0.338321  0.462388  0.239599   \n",
              "1   0.0  1.191857  0.266151  0.166480  0.448154  0.060018 -0.082361 -0.078803   \n",
              "2   1.0 -1.358354 -1.340163  1.773209  0.379780 -0.503198  1.800499  0.791461   \n",
              "3   1.0 -0.966272 -0.185226  1.792993 -0.863291 -0.010309  1.247203  0.237609   \n",
              "4   2.0 -1.158233  0.877737  1.548718  0.403034 -0.407193  0.095921  0.592941   \n",
              "\n",
              "         V8        V9  ...       V21       V22       V23       V24       V25  \\\n",
              "0  0.098698  0.363787  ... -0.018307  0.277838 -0.110474  0.066928  0.128539   \n",
              "1  0.085102 -0.255425  ... -0.225775 -0.638672  0.101288 -0.339846  0.167170   \n",
              "2  0.247676 -1.514654  ...  0.247998  0.771679  0.909412 -0.689281 -0.327642   \n",
              "3  0.377436 -1.387024  ... -0.108300  0.005274 -0.190321 -1.175575  0.647376   \n",
              "4 -0.270533  0.817739  ... -0.009431  0.798278 -0.137458  0.141267 -0.206010   \n",
              "\n",
              "        V26       V27       V28  Amount  Class  \n",
              "0 -0.189115  0.133558 -0.021053  149.62      0  \n",
              "1  0.125895 -0.008983  0.014724    2.69      0  \n",
              "2 -0.139097 -0.055353 -0.059752  378.66      0  \n",
              "3 -0.221929  0.062723  0.061458  123.50      0  \n",
              "4  0.502292  0.219422  0.215153   69.99      0  \n",
              "\n",
              "[5 rows x 31 columns]"
            ],
            "text/html": [
              "\n",
              "  <div id=\"df-a7724b67-cae7-46a0-990c-78eab05874e7\" class=\"colab-df-container\">\n",
              "    <div>\n",
              "<style scoped>\n",
              "    .dataframe tbody tr th:only-of-type {\n",
              "        vertical-align: middle;\n",
              "    }\n",
              "\n",
              "    .dataframe tbody tr th {\n",
              "        vertical-align: top;\n",
              "    }\n",
              "\n",
              "    .dataframe thead th {\n",
              "        text-align: right;\n",
              "    }\n",
              "</style>\n",
              "<table border=\"1\" class=\"dataframe\">\n",
              "  <thead>\n",
              "    <tr style=\"text-align: right;\">\n",
              "      <th></th>\n",
              "      <th>Time</th>\n",
              "      <th>V1</th>\n",
              "      <th>V2</th>\n",
              "      <th>V3</th>\n",
              "      <th>V4</th>\n",
              "      <th>V5</th>\n",
              "      <th>V6</th>\n",
              "      <th>V7</th>\n",
              "      <th>V8</th>\n",
              "      <th>V9</th>\n",
              "      <th>...</th>\n",
              "      <th>V21</th>\n",
              "      <th>V22</th>\n",
              "      <th>V23</th>\n",
              "      <th>V24</th>\n",
              "      <th>V25</th>\n",
              "      <th>V26</th>\n",
              "      <th>V27</th>\n",
              "      <th>V28</th>\n",
              "      <th>Amount</th>\n",
              "      <th>Class</th>\n",
              "    </tr>\n",
              "  </thead>\n",
              "  <tbody>\n",
              "    <tr>\n",
              "      <th>0</th>\n",
              "      <td>0.0</td>\n",
              "      <td>-1.359807</td>\n",
              "      <td>-0.072781</td>\n",
              "      <td>2.536347</td>\n",
              "      <td>1.378155</td>\n",
              "      <td>-0.338321</td>\n",
              "      <td>0.462388</td>\n",
              "      <td>0.239599</td>\n",
              "      <td>0.098698</td>\n",
              "      <td>0.363787</td>\n",
              "      <td>...</td>\n",
              "      <td>-0.018307</td>\n",
              "      <td>0.277838</td>\n",
              "      <td>-0.110474</td>\n",
              "      <td>0.066928</td>\n",
              "      <td>0.128539</td>\n",
              "      <td>-0.189115</td>\n",
              "      <td>0.133558</td>\n",
              "      <td>-0.021053</td>\n",
              "      <td>149.62</td>\n",
              "      <td>0</td>\n",
              "    </tr>\n",
              "    <tr>\n",
              "      <th>1</th>\n",
              "      <td>0.0</td>\n",
              "      <td>1.191857</td>\n",
              "      <td>0.266151</td>\n",
              "      <td>0.166480</td>\n",
              "      <td>0.448154</td>\n",
              "      <td>0.060018</td>\n",
              "      <td>-0.082361</td>\n",
              "      <td>-0.078803</td>\n",
              "      <td>0.085102</td>\n",
              "      <td>-0.255425</td>\n",
              "      <td>...</td>\n",
              "      <td>-0.225775</td>\n",
              "      <td>-0.638672</td>\n",
              "      <td>0.101288</td>\n",
              "      <td>-0.339846</td>\n",
              "      <td>0.167170</td>\n",
              "      <td>0.125895</td>\n",
              "      <td>-0.008983</td>\n",
              "      <td>0.014724</td>\n",
              "      <td>2.69</td>\n",
              "      <td>0</td>\n",
              "    </tr>\n",
              "    <tr>\n",
              "      <th>2</th>\n",
              "      <td>1.0</td>\n",
              "      <td>-1.358354</td>\n",
              "      <td>-1.340163</td>\n",
              "      <td>1.773209</td>\n",
              "      <td>0.379780</td>\n",
              "      <td>-0.503198</td>\n",
              "      <td>1.800499</td>\n",
              "      <td>0.791461</td>\n",
              "      <td>0.247676</td>\n",
              "      <td>-1.514654</td>\n",
              "      <td>...</td>\n",
              "      <td>0.247998</td>\n",
              "      <td>0.771679</td>\n",
              "      <td>0.909412</td>\n",
              "      <td>-0.689281</td>\n",
              "      <td>-0.327642</td>\n",
              "      <td>-0.139097</td>\n",
              "      <td>-0.055353</td>\n",
              "      <td>-0.059752</td>\n",
              "      <td>378.66</td>\n",
              "      <td>0</td>\n",
              "    </tr>\n",
              "    <tr>\n",
              "      <th>3</th>\n",
              "      <td>1.0</td>\n",
              "      <td>-0.966272</td>\n",
              "      <td>-0.185226</td>\n",
              "      <td>1.792993</td>\n",
              "      <td>-0.863291</td>\n",
              "      <td>-0.010309</td>\n",
              "      <td>1.247203</td>\n",
              "      <td>0.237609</td>\n",
              "      <td>0.377436</td>\n",
              "      <td>-1.387024</td>\n",
              "      <td>...</td>\n",
              "      <td>-0.108300</td>\n",
              "      <td>0.005274</td>\n",
              "      <td>-0.190321</td>\n",
              "      <td>-1.175575</td>\n",
              "      <td>0.647376</td>\n",
              "      <td>-0.221929</td>\n",
              "      <td>0.062723</td>\n",
              "      <td>0.061458</td>\n",
              "      <td>123.50</td>\n",
              "      <td>0</td>\n",
              "    </tr>\n",
              "    <tr>\n",
              "      <th>4</th>\n",
              "      <td>2.0</td>\n",
              "      <td>-1.158233</td>\n",
              "      <td>0.877737</td>\n",
              "      <td>1.548718</td>\n",
              "      <td>0.403034</td>\n",
              "      <td>-0.407193</td>\n",
              "      <td>0.095921</td>\n",
              "      <td>0.592941</td>\n",
              "      <td>-0.270533</td>\n",
              "      <td>0.817739</td>\n",
              "      <td>...</td>\n",
              "      <td>-0.009431</td>\n",
              "      <td>0.798278</td>\n",
              "      <td>-0.137458</td>\n",
              "      <td>0.141267</td>\n",
              "      <td>-0.206010</td>\n",
              "      <td>0.502292</td>\n",
              "      <td>0.219422</td>\n",
              "      <td>0.215153</td>\n",
              "      <td>69.99</td>\n",
              "      <td>0</td>\n",
              "    </tr>\n",
              "  </tbody>\n",
              "</table>\n",
              "<p>5 rows × 31 columns</p>\n",
              "</div>\n",
              "    <div class=\"colab-df-buttons\">\n",
              "\n",
              "  <div class=\"colab-df-container\">\n",
              "    <button class=\"colab-df-convert\" onclick=\"convertToInteractive('df-a7724b67-cae7-46a0-990c-78eab05874e7')\"\n",
              "            title=\"Convert this dataframe to an interactive table.\"\n",
              "            style=\"display:none;\">\n",
              "\n",
              "  <svg xmlns=\"http://www.w3.org/2000/svg\" height=\"24px\" viewBox=\"0 -960 960 960\">\n",
              "    <path d=\"M120-120v-720h720v720H120Zm60-500h600v-160H180v160Zm220 220h160v-160H400v160Zm0 220h160v-160H400v160ZM180-400h160v-160H180v160Zm440 0h160v-160H620v160ZM180-180h160v-160H180v160Zm440 0h160v-160H620v160Z\"/>\n",
              "  </svg>\n",
              "    </button>\n",
              "\n",
              "  <style>\n",
              "    .colab-df-container {\n",
              "      display:flex;\n",
              "      gap: 12px;\n",
              "    }\n",
              "\n",
              "    .colab-df-convert {\n",
              "      background-color: #E8F0FE;\n",
              "      border: none;\n",
              "      border-radius: 50%;\n",
              "      cursor: pointer;\n",
              "      display: none;\n",
              "      fill: #1967D2;\n",
              "      height: 32px;\n",
              "      padding: 0 0 0 0;\n",
              "      width: 32px;\n",
              "    }\n",
              "\n",
              "    .colab-df-convert:hover {\n",
              "      background-color: #E2EBFA;\n",
              "      box-shadow: 0px 1px 2px rgba(60, 64, 67, 0.3), 0px 1px 3px 1px rgba(60, 64, 67, 0.15);\n",
              "      fill: #174EA6;\n",
              "    }\n",
              "\n",
              "    .colab-df-buttons div {\n",
              "      margin-bottom: 4px;\n",
              "    }\n",
              "\n",
              "    [theme=dark] .colab-df-convert {\n",
              "      background-color: #3B4455;\n",
              "      fill: #D2E3FC;\n",
              "    }\n",
              "\n",
              "    [theme=dark] .colab-df-convert:hover {\n",
              "      background-color: #434B5C;\n",
              "      box-shadow: 0px 1px 3px 1px rgba(0, 0, 0, 0.15);\n",
              "      filter: drop-shadow(0px 1px 2px rgba(0, 0, 0, 0.3));\n",
              "      fill: #FFFFFF;\n",
              "    }\n",
              "  </style>\n",
              "\n",
              "    <script>\n",
              "      const buttonEl =\n",
              "        document.querySelector('#df-a7724b67-cae7-46a0-990c-78eab05874e7 button.colab-df-convert');\n",
              "      buttonEl.style.display =\n",
              "        google.colab.kernel.accessAllowed ? 'block' : 'none';\n",
              "\n",
              "      async function convertToInteractive(key) {\n",
              "        const element = document.querySelector('#df-a7724b67-cae7-46a0-990c-78eab05874e7');\n",
              "        const dataTable =\n",
              "          await google.colab.kernel.invokeFunction('convertToInteractive',\n",
              "                                                    [key], {});\n",
              "        if (!dataTable) return;\n",
              "\n",
              "        const docLinkHtml = 'Like what you see? Visit the ' +\n",
              "          '<a target=\"_blank\" href=https://colab.research.google.com/notebooks/data_table.ipynb>data table notebook</a>'\n",
              "          + ' to learn more about interactive tables.';\n",
              "        element.innerHTML = '';\n",
              "        dataTable['output_type'] = 'display_data';\n",
              "        await google.colab.output.renderOutput(dataTable, element);\n",
              "        const docLink = document.createElement('div');\n",
              "        docLink.innerHTML = docLinkHtml;\n",
              "        element.appendChild(docLink);\n",
              "      }\n",
              "    </script>\n",
              "  </div>\n",
              "\n",
              "\n",
              "<div id=\"df-3ee9ca76-c5f2-476b-8574-a4d360a0d969\">\n",
              "  <button class=\"colab-df-quickchart\" onclick=\"quickchart('df-3ee9ca76-c5f2-476b-8574-a4d360a0d969')\"\n",
              "            title=\"Suggest charts\"\n",
              "            style=\"display:none;\">\n",
              "\n",
              "<svg xmlns=\"http://www.w3.org/2000/svg\" height=\"24px\"viewBox=\"0 0 24 24\"\n",
              "     width=\"24px\">\n",
              "    <g>\n",
              "        <path d=\"M19 3H5c-1.1 0-2 .9-2 2v14c0 1.1.9 2 2 2h14c1.1 0 2-.9 2-2V5c0-1.1-.9-2-2-2zM9 17H7v-7h2v7zm4 0h-2V7h2v10zm4 0h-2v-4h2v4z\"/>\n",
              "    </g>\n",
              "</svg>\n",
              "  </button>\n",
              "\n",
              "<style>\n",
              "  .colab-df-quickchart {\n",
              "      --bg-color: #E8F0FE;\n",
              "      --fill-color: #1967D2;\n",
              "      --hover-bg-color: #E2EBFA;\n",
              "      --hover-fill-color: #174EA6;\n",
              "      --disabled-fill-color: #AAA;\n",
              "      --disabled-bg-color: #DDD;\n",
              "  }\n",
              "\n",
              "  [theme=dark] .colab-df-quickchart {\n",
              "      --bg-color: #3B4455;\n",
              "      --fill-color: #D2E3FC;\n",
              "      --hover-bg-color: #434B5C;\n",
              "      --hover-fill-color: #FFFFFF;\n",
              "      --disabled-bg-color: #3B4455;\n",
              "      --disabled-fill-color: #666;\n",
              "  }\n",
              "\n",
              "  .colab-df-quickchart {\n",
              "    background-color: var(--bg-color);\n",
              "    border: none;\n",
              "    border-radius: 50%;\n",
              "    cursor: pointer;\n",
              "    display: none;\n",
              "    fill: var(--fill-color);\n",
              "    height: 32px;\n",
              "    padding: 0;\n",
              "    width: 32px;\n",
              "  }\n",
              "\n",
              "  .colab-df-quickchart:hover {\n",
              "    background-color: var(--hover-bg-color);\n",
              "    box-shadow: 0 1px 2px rgba(60, 64, 67, 0.3), 0 1px 3px 1px rgba(60, 64, 67, 0.15);\n",
              "    fill: var(--button-hover-fill-color);\n",
              "  }\n",
              "\n",
              "  .colab-df-quickchart-complete:disabled,\n",
              "  .colab-df-quickchart-complete:disabled:hover {\n",
              "    background-color: var(--disabled-bg-color);\n",
              "    fill: var(--disabled-fill-color);\n",
              "    box-shadow: none;\n",
              "  }\n",
              "\n",
              "  .colab-df-spinner {\n",
              "    border: 2px solid var(--fill-color);\n",
              "    border-color: transparent;\n",
              "    border-bottom-color: var(--fill-color);\n",
              "    animation:\n",
              "      spin 1s steps(1) infinite;\n",
              "  }\n",
              "\n",
              "  @keyframes spin {\n",
              "    0% {\n",
              "      border-color: transparent;\n",
              "      border-bottom-color: var(--fill-color);\n",
              "      border-left-color: var(--fill-color);\n",
              "    }\n",
              "    20% {\n",
              "      border-color: transparent;\n",
              "      border-left-color: var(--fill-color);\n",
              "      border-top-color: var(--fill-color);\n",
              "    }\n",
              "    30% {\n",
              "      border-color: transparent;\n",
              "      border-left-color: var(--fill-color);\n",
              "      border-top-color: var(--fill-color);\n",
              "      border-right-color: var(--fill-color);\n",
              "    }\n",
              "    40% {\n",
              "      border-color: transparent;\n",
              "      border-right-color: var(--fill-color);\n",
              "      border-top-color: var(--fill-color);\n",
              "    }\n",
              "    60% {\n",
              "      border-color: transparent;\n",
              "      border-right-color: var(--fill-color);\n",
              "    }\n",
              "    80% {\n",
              "      border-color: transparent;\n",
              "      border-right-color: var(--fill-color);\n",
              "      border-bottom-color: var(--fill-color);\n",
              "    }\n",
              "    90% {\n",
              "      border-color: transparent;\n",
              "      border-bottom-color: var(--fill-color);\n",
              "    }\n",
              "  }\n",
              "</style>\n",
              "\n",
              "  <script>\n",
              "    async function quickchart(key) {\n",
              "      const quickchartButtonEl =\n",
              "        document.querySelector('#' + key + ' button');\n",
              "      quickchartButtonEl.disabled = true;  // To prevent multiple clicks.\n",
              "      quickchartButtonEl.classList.add('colab-df-spinner');\n",
              "      try {\n",
              "        const charts = await google.colab.kernel.invokeFunction(\n",
              "            'suggestCharts', [key], {});\n",
              "      } catch (error) {\n",
              "        console.error('Error during call to suggestCharts:', error);\n",
              "      }\n",
              "      quickchartButtonEl.classList.remove('colab-df-spinner');\n",
              "      quickchartButtonEl.classList.add('colab-df-quickchart-complete');\n",
              "    }\n",
              "    (() => {\n",
              "      let quickchartButtonEl =\n",
              "        document.querySelector('#df-3ee9ca76-c5f2-476b-8574-a4d360a0d969 button');\n",
              "      quickchartButtonEl.style.display =\n",
              "        google.colab.kernel.accessAllowed ? 'block' : 'none';\n",
              "    })();\n",
              "  </script>\n",
              "</div>\n",
              "\n",
              "    </div>\n",
              "  </div>\n"
            ],
            "application/vnd.google.colaboratory.intrinsic+json": {
              "type": "dataframe",
              "variable_name": "df"
            }
          },
          "metadata": {},
          "execution_count": 3
        }
      ]
    },
    {
      "cell_type": "markdown",
      "source": [
        "## Split to X, y"
      ],
      "metadata": {
        "id": "P8tiHnS7M9ZE"
      }
    },
    {
      "cell_type": "code",
      "source": [
        "dataset_arr = df.to_numpy()\n",
        "X, y = dataset_arr[:, :-1].astype(np.float64), dataset_arr[:, -1].astype(np.uint8)"
      ],
      "metadata": {
        "id": "vuEEYXcZM_mK"
      },
      "execution_count": 4,
      "outputs": []
    },
    {
      "cell_type": "markdown",
      "source": [
        "## Add bias to X"
      ],
      "metadata": {
        "id": "h6C74z6KNQSR"
      }
    },
    {
      "cell_type": "code",
      "source": [
        "intercept = np.ones((X.shape[0], 1))\n",
        "\n",
        "X_b = np.concatenate((intercept, X), axis=1)"
      ],
      "metadata": {
        "id": "9g1XTcSqNS8u"
      },
      "execution_count": 5,
      "outputs": []
    },
    {
      "cell_type": "markdown",
      "source": [
        "## One-hot encoding label"
      ],
      "metadata": {
        "id": "iY0cJxG2NfOW"
      }
    },
    {
      "cell_type": "code",
      "source": [
        "n_classes = np.unique(y, axis=0).shape[0]\n",
        "n_samples = y.shape[0]\n",
        "\n",
        "y_encoded = np.array([np.zeros(n_classes) for _ in range(n_samples)])\n",
        "\n",
        "y_encoded[np.arange(n_samples), y] = 1"
      ],
      "metadata": {
        "id": "c_REfNx4Nhs-"
      },
      "execution_count": 6,
      "outputs": []
    },
    {
      "cell_type": "markdown",
      "source": [
        "## Split to train, val, test"
      ],
      "metadata": {
        "id": "nYFvsvP4Rq3f"
      }
    },
    {
      "cell_type": "code",
      "source": [
        "val_size = 0.2\n",
        "test_size = 0.125\n",
        "random_state = 2\n",
        "is_shuffle = True\n",
        "\n",
        "X_train, X_val, y_train, y_val = train_test_split(\n",
        "    X_b, y_encoded,\n",
        "    test_size = val_size,\n",
        "    random_state = random_state,\n",
        "    shuffle = is_shuffle\n",
        ")\n",
        "\n",
        "X_train, X_test, y_train, y_test = train_test_split(\n",
        "    X_train, y_train,\n",
        "    test_size = test_size,\n",
        "    random_state = random_state,\n",
        "    shuffle = is_shuffle\n",
        ")"
      ],
      "metadata": {
        "id": "N28Ha3otRs9H"
      },
      "execution_count": 7,
      "outputs": []
    },
    {
      "cell_type": "markdown",
      "source": [
        "## Normalize data"
      ],
      "metadata": {
        "id": "_Tcde8zFSfzc"
      }
    },
    {
      "cell_type": "code",
      "source": [
        "normalizer = StandardScaler()\n",
        "X_train[:, 1:] = normalizer.fit_transform(X_train[:, 1:])\n",
        "X_val[:, 1:] = normalizer.transform(X_val[:, 1:])\n",
        "X_test[:, 1:] = normalizer.transform(X_test[:, 1:])"
      ],
      "metadata": {
        "id": "XxNNHYuAShop"
      },
      "execution_count": 8,
      "outputs": []
    },
    {
      "cell_type": "markdown",
      "source": [
        "## Define functions"
      ],
      "metadata": {
        "id": "fsYhA0OVTANW"
      }
    },
    {
      "cell_type": "code",
      "source": [
        "def softmax(z):\n",
        "  exp_z = np.exp(z)\n",
        "\n",
        "  return exp_z / exp_z.sum(axis=1)[:, None]\n",
        "\n",
        "\n",
        "def predict(X, theta):\n",
        "  z = np.dot(X, theta)\n",
        "  y_hat = softmax(z)\n",
        "\n",
        "  return y_hat\n",
        "\n",
        "\n",
        "def compute_loss(y_hat, y):\n",
        "  n = y.size\n",
        "\n",
        "  return (-1/n) * np.sum(y * np.log(y_hat))\n",
        "\n",
        "\n",
        "def compute_gradient(X, y, y_hat):\n",
        "  n = y.size\n",
        "\n",
        "  return np.dot(X.T, (y_hat - y)) / n\n",
        "\n",
        "\n",
        "def update_theta(theta, gradient, lr):\n",
        "  return theta - lr * gradient\n",
        "\n",
        "\n",
        "def compute_accuracy(X, y, theta):\n",
        "  y_hat = predict(X, theta)\n",
        "\n",
        "  acc = (np.argmax(y_hat, axis=1) == np.argmax(y, axis=1)).mean()\n",
        "\n",
        "  return acc"
      ],
      "metadata": {
        "id": "XruQb7BzTp-m"
      },
      "execution_count": 14,
      "outputs": []
    },
    {
      "cell_type": "markdown",
      "source": [
        "## Declare hyperparameters and initialize weights"
      ],
      "metadata": {
        "id": "CSbneK4GZ3UW"
      }
    },
    {
      "cell_type": "code",
      "source": [
        "lr = 0.01\n",
        "epochs = 30\n",
        "batch_size = 1024\n",
        "n_features = X_train.shape[1]\n",
        "\n",
        "np.random.seed(random_state)\n",
        "theta = np.random.uniform(size=(n_features, n_classes))"
      ],
      "metadata": {
        "id": "HOYLG8gUZ7jG"
      },
      "execution_count": 15,
      "outputs": []
    },
    {
      "cell_type": "markdown",
      "source": [
        "## Train model"
      ],
      "metadata": {
        "id": "AZT8xiTxaRgM"
      }
    },
    {
      "cell_type": "code",
      "source": [
        "train_accs = []\n",
        "train_losses = []\n",
        "val_accs = []\n",
        "val_losses = []\n",
        "\n",
        "for epoch in range(epochs):\n",
        "  train_batch_accs = []\n",
        "  train_batch_losses = []\n",
        "  val_batch_accs = []\n",
        "  val_batch_losses = []\n",
        "\n",
        "  for i in range(0, X_train.shape[0], batch_size):\n",
        "    X_i = X_train[i:i+batch_size]\n",
        "    y_i = y_train[i:i+batch_size]\n",
        "\n",
        "    y_hat = predict(X_i, theta)\n",
        "\n",
        "    train_loss = compute_loss(y_hat, y_i)\n",
        "    train_batch_losses.append(train_loss)\n",
        "\n",
        "    gradient = compute_gradient(X_i, y_i, y_hat)\n",
        "\n",
        "    theta = update_theta(theta, gradient, lr)\n",
        "\n",
        "    train_acc = compute_accuracy(X_train, y_train, theta)\n",
        "    train_batch_accs.append(train_acc)\n",
        "\n",
        "    y_val_hat = predict(X_val, theta)\n",
        "    val_loss = compute_loss(y_val_hat, y_val)\n",
        "    val_batch_losses.append(val_loss)\n",
        "\n",
        "    val_acc = compute_accuracy(X_val, y_val, theta)\n",
        "    val_batch_accs.append(val_acc)\n",
        "\n",
        "  train_batch_loss = sum(train_batch_losses) / len(train_batch_losses)\n",
        "  val_batch_loss = sum(val_batch_losses) / len(val_batch_losses)\n",
        "  train_batch_acc = sum(train_batch_accs) / len(train_batch_accs)\n",
        "  val_batch_acc = sum(val_batch_accs) / len(val_batch_accs)\n",
        "\n",
        "  train_losses.append(train_batch_loss)\n",
        "  val_losses.append(val_batch_loss)\n",
        "  train_accs.append(train_batch_acc)\n",
        "  val_accs.append(val_batch_acc)\n",
        "\n",
        "  print (f'\\nEPOCH {epoch + 1}:\\tTraining loss: {train_batch_loss:.3f}\\tValidation loss: {val_batch_loss:.3f}')"
      ],
      "metadata": {
        "colab": {
          "base_uri": "https://localhost:8080/"
        },
        "id": "Q7Z5UsAdaSuA",
        "outputId": "397591d5-3ea2-4803-8604-bf07267f67c0"
      },
      "execution_count": 16,
      "outputs": [
        {
          "output_type": "stream",
          "name": "stdout",
          "text": [
            "\n",
            "EPOCH 1:\tTraining loss: 0.300\tValidation loss: 0.297\n",
            "\n",
            "EPOCH 2:\tTraining loss: 0.176\tValidation loss: 0.174\n",
            "\n",
            "EPOCH 3:\tTraining loss: 0.115\tValidation loss: 0.113\n",
            "\n",
            "EPOCH 4:\tTraining loss: 0.081\tValidation loss: 0.080\n",
            "\n",
            "EPOCH 5:\tTraining loss: 0.062\tValidation loss: 0.061\n",
            "\n",
            "EPOCH 6:\tTraining loss: 0.049\tValidation loss: 0.049\n",
            "\n",
            "EPOCH 7:\tTraining loss: 0.041\tValidation loss: 0.041\n",
            "\n",
            "EPOCH 8:\tTraining loss: 0.035\tValidation loss: 0.035\n",
            "\n",
            "EPOCH 9:\tTraining loss: 0.031\tValidation loss: 0.031\n",
            "\n",
            "EPOCH 10:\tTraining loss: 0.028\tValidation loss: 0.027\n",
            "\n",
            "EPOCH 11:\tTraining loss: 0.025\tValidation loss: 0.025\n",
            "\n",
            "EPOCH 12:\tTraining loss: 0.023\tValidation loss: 0.023\n",
            "\n",
            "EPOCH 13:\tTraining loss: 0.021\tValidation loss: 0.021\n",
            "\n",
            "EPOCH 14:\tTraining loss: 0.020\tValidation loss: 0.020\n",
            "\n",
            "EPOCH 15:\tTraining loss: 0.019\tValidation loss: 0.018\n",
            "\n",
            "EPOCH 16:\tTraining loss: 0.017\tValidation loss: 0.017\n",
            "\n",
            "EPOCH 17:\tTraining loss: 0.017\tValidation loss: 0.016\n",
            "\n",
            "EPOCH 18:\tTraining loss: 0.016\tValidation loss: 0.015\n",
            "\n",
            "EPOCH 19:\tTraining loss: 0.015\tValidation loss: 0.015\n",
            "\n",
            "EPOCH 20:\tTraining loss: 0.014\tValidation loss: 0.014\n",
            "\n",
            "EPOCH 21:\tTraining loss: 0.014\tValidation loss: 0.013\n",
            "\n",
            "EPOCH 22:\tTraining loss: 0.013\tValidation loss: 0.013\n",
            "\n",
            "EPOCH 23:\tTraining loss: 0.013\tValidation loss: 0.012\n",
            "\n",
            "EPOCH 24:\tTraining loss: 0.012\tValidation loss: 0.012\n",
            "\n",
            "EPOCH 25:\tTraining loss: 0.012\tValidation loss: 0.011\n",
            "\n",
            "EPOCH 26:\tTraining loss: 0.011\tValidation loss: 0.011\n",
            "\n",
            "EPOCH 27:\tTraining loss: 0.011\tValidation loss: 0.011\n",
            "\n",
            "EPOCH 28:\tTraining loss: 0.011\tValidation loss: 0.010\n",
            "\n",
            "EPOCH 29:\tTraining loss: 0.010\tValidation loss: 0.010\n",
            "\n",
            "EPOCH 30:\tTraining loss: 0.010\tValidation loss: 0.010\n"
          ]
        }
      ]
    },
    {
      "cell_type": "code",
      "source": [
        "fig, ax = plt.subplots(2, 2, figsize=(12, 10))\n",
        "\n",
        "ax[0, 0].plot(train_losses)\n",
        "ax[0, 0].set(xlabel='Epoch', ylabel='Loss')\n",
        "ax[0, 0].set_title('Training Loss')\n",
        "\n",
        "ax[0, 1].plot(val_losses, 'orange')\n",
        "ax[0, 1].set(xlabel='Epoch', ylabel='Loss')\n",
        "ax[0, 1].set_title('Validation Loss')\n",
        "\n",
        "ax[1, 0].plot(train_accs)\n",
        "ax[1, 0].set(xlabel='Epoch', ylabel='Accuracy')\n",
        "ax[1, 0].set_title('Training Accuracy')\n",
        "\n",
        "ax[1, 1].plot(val_accs, 'orange')\n",
        "ax[1, 1].set(xlabel='Epoch', ylabel='Accuracy')\n",
        "ax[1, 1].set_title('Validation Accuracy')\n",
        "\n",
        "plt.show()"
      ],
      "metadata": {
        "colab": {
          "base_uri": "https://localhost:8080/",
          "height": 872
        },
        "id": "9L192yqacLXE",
        "outputId": "c8d03183-1ac1-47af-916a-7ecd4c6b30c1"
      },
      "execution_count": 17,
      "outputs": [
        {
          "output_type": "display_data",
          "data": {
            "text/plain": [
              "<Figure size 1200x1000 with 4 Axes>"
            ],
            "image/png": "[encoded data removed]"
          },
          "metadata": {}
        }
      ]
    },
    {
      "cell_type": "markdown",
      "source": [
        "## Validate model"
      ],
      "metadata": {
        "id": "gGIq9M1icOPE"
      }
    },
    {
      "cell_type": "code",
      "source": [
        "val_set_acc = compute_accuracy(X_val, y_val, theta)\n",
        "test_set_acc = compute_accuracy(X_test, y_test, theta)\n",
        "print('Evaluation on validation and test set :')\n",
        "print(f'Accuracy: {val_set_acc}')\n",
        "print(f'Accuracy: {test_set_acc}')"
      ],
      "metadata": {
        "colab": {
          "base_uri": "https://localhost:8080/"
        },
        "id": "Ngzy3iNpcQok",
        "outputId": "9999acfc-3bad-4be8-e053-26d315900bf1"
      },
      "execution_count": 18,
      "outputs": [
        {
          "output_type": "stream",
          "name": "stdout",
          "text": [
            "Evaluation on validation and test set :\n",
            "Accuracy: 0.9993153330290369\n",
            "Accuracy: 0.9992275552122467\n"
          ]
        }
      ]
    },
    {
      "cell_type": "markdown",
      "source": [
        "# Twitter Sentiment Analysis"
      ],
      "metadata": {
        "id": "uMKN1o_cckNU"
      }
    },
    {
      "cell_type": "markdown",
      "source": [
        "## Download dataset"
      ],
      "metadata": {
        "id": "og7NB2WScmoy"
      }
    },
    {
      "cell_type": "code",
      "source": [
        "!gdown 1GR3IwbvKNuiVXN5E5eMGyEQtT4pP7kCt"
      ],
      "metadata": {
        "colab": {
          "base_uri": "https://localhost:8080/"
        },
        "id": "r-Cl3NVjcn8j",
        "outputId": "44b940e1-5080-4671-e07d-1bcef5e7a88b"
      },
      "execution_count": 1,
      "outputs": [
        {
          "output_type": "stream",
          "name": "stdout",
          "text": [
            "Downloading...\n",
            "From: https://drive.google.com/uc?id=1GR3IwbvKNuiVXN5E5eMGyEQtT4pP7kCt\n",
            "To: /content/Twitter_Data.csv\n",
            "100% 20.9M/20.9M [00:00<00:00, 29.5MB/s]\n"
          ]
        }
      ]
    },
    {
      "cell_type": "markdown",
      "source": [
        "## Import libraries"
      ],
      "metadata": {
        "id": "gI6icnVVc76z"
      }
    },
    {
      "cell_type": "code",
      "source": [
        "import numpy as np\n",
        "import pandas as pd\n",
        "import matplotlib.pyplot as plt\n",
        "import re\n",
        "import nltk\n",
        "nltk.download('stopwords')\n",
        "\n",
        "from sklearn.model_selection import train_test_split\n",
        "from sklearn.feature_extraction.text import TfidfVectorizer\n",
        "from nltk.corpus import stopwords\n",
        "from nltk.stem import SnowballStemmer"
      ],
      "metadata": {
        "colab": {
          "base_uri": "https://localhost:8080/"
        },
        "id": "EC-l0_OHc9p7",
        "outputId": "ba6ae0eb-aeec-4c0f-fd31-fd31fee6ed90"
      },
      "execution_count": 2,
      "outputs": [
        {
          "output_type": "stream",
          "name": "stderr",
          "text": [
            "[nltk_data] Downloading package stopwords to /root/nltk_data...\n",
            "[nltk_data]   Unzipping corpora/stopwords.zip.\n"
          ]
        }
      ]
    },
    {
      "cell_type": "markdown",
      "source": [
        "## Read dataset"
      ],
      "metadata": {
        "id": "UwM7w7fGeB_o"
      }
    },
    {
      "cell_type": "code",
      "source": [
        "dataset_path = '/content/Twitter_Data.csv'\n",
        "df = pd.read_csv(dataset_path)\n",
        "\n",
        "df.head()"
      ],
      "metadata": {
        "colab": {
          "base_uri": "https://localhost:8080/",
          "height": 206
        },
        "id": "GDsl2rfpeDs0",
        "outputId": "874f9688-7ec8-4e95-d7dc-b808c1cfd20e"
      },
      "execution_count": 3,
      "outputs": [
        {
          "output_type": "execute_result",
          "data": {
            "text/plain": [
              "                                          clean_text  category\n",
              "0  when modi promised “minimum government maximum...      -1.0\n",
              "1  talk all the nonsense and continue all the dra...       0.0\n",
              "2  what did just say vote for modi  welcome bjp t...       1.0\n",
              "3  asking his supporters prefix chowkidar their n...       1.0\n",
              "4  answer who among these the most powerful world...       1.0"
            ],
            "text/html": [
              "\n",
              "  <div id=\"df-52964d1c-9deb-4a37-94c0-21ef89b794d4\" class=\"colab-df-container\">\n",
              "    <div>\n",
              "<style scoped>\n",
              "    .dataframe tbody tr th:only-of-type {\n",
              "        vertical-align: middle;\n",
              "    }\n",
              "\n",
              "    .dataframe tbody tr th {\n",
              "        vertical-align: top;\n",
              "    }\n",
              "\n",
              "    .dataframe thead th {\n",
              "        text-align: right;\n",
              "    }\n",
              "</style>\n",
              "<table border=\"1\" class=\"dataframe\">\n",
              "  <thead>\n",
              "    <tr style=\"text-align: right;\">\n",
              "      <th></th>\n",
              "      <th>clean_text</th>\n",
              "      <th>category</th>\n",
              "    </tr>\n",
              "  </thead>\n",
              "  <tbody>\n",
              "    <tr>\n",
              "      <th>0</th>\n",
              "      <td>when modi promised “minimum government maximum...</td>\n",
              "      <td>-1.0</td>\n",
              "    </tr>\n",
              "    <tr>\n",
              "      <th>1</th>\n",
              "      <td>talk all the nonsense and continue all the dra...</td>\n",
              "      <td>0.0</td>\n",
              "    </tr>\n",
              "    <tr>\n",
              "      <th>2</th>\n",
              "      <td>what did just say vote for modi  welcome bjp t...</td>\n",
              "      <td>1.0</td>\n",
              "    </tr>\n",
              "    <tr>\n",
              "      <th>3</th>\n",
              "      <td>asking his supporters prefix chowkidar their n...</td>\n",
              "      <td>1.0</td>\n",
              "    </tr>\n",
              "    <tr>\n",
              "      <th>4</th>\n",
              "      <td>answer who among these the most powerful world...</td>\n",
              "      <td>1.0</td>\n",
              "    </tr>\n",
              "  </tbody>\n",
              "</table>\n",
              "</div>\n",
              "    <div class=\"colab-df-buttons\">\n",
              "\n",
              "  <div class=\"colab-df-container\">\n",
              "    <button class=\"colab-df-convert\" onclick=\"convertToInteractive('df-52964d1c-9deb-4a37-94c0-21ef89b794d4')\"\n",
              "            title=\"Convert this dataframe to an interactive table.\"\n",
              "            style=\"display:none;\">\n",
              "\n",
              "  <svg xmlns=\"http://www.w3.org/2000/svg\" height=\"24px\" viewBox=\"0 -960 960 960\">\n",
              "    <path d=\"M120-120v-720h720v720H120Zm60-500h600v-160H180v160Zm220 220h160v-160H400v160Zm0 220h160v-160H400v160ZM180-400h160v-160H180v160Zm440 0h160v-160H620v160ZM180-180h160v-160H180v160Zm440 0h160v-160H620v160Z\"/>\n",
              "  </svg>\n",
              "    </button>\n",
              "\n",
              "  <style>\n",
              "    .colab-df-container {\n",
              "      display:flex;\n",
              "      gap: 12px;\n",
              "    }\n",
              "\n",
              "    .colab-df-convert {\n",
              "      background-color: #E8F0FE;\n",
              "      border: none;\n",
              "      border-radius: 50%;\n",
              "      cursor: pointer;\n",
              "      display: none;\n",
              "      fill: #1967D2;\n",
              "      height: 32px;\n",
              "      padding: 0 0 0 0;\n",
              "      width: 32px;\n",
              "    }\n",
              "\n",
              "    .colab-df-convert:hover {\n",
              "      background-color: #E2EBFA;\n",
              "      box-shadow: 0px 1px 2px rgba(60, 64, 67, 0.3), 0px 1px 3px 1px rgba(60, 64, 67, 0.15);\n",
              "      fill: #174EA6;\n",
              "    }\n",
              "\n",
              "    .colab-df-buttons div {\n",
              "      margin-bottom: 4px;\n",
              "    }\n",
              "\n",
              "    [theme=dark] .colab-df-convert {\n",
              "      background-color: #3B4455;\n",
              "      fill: #D2E3FC;\n",
              "    }\n",
              "\n",
              "    [theme=dark] .colab-df-convert:hover {\n",
              "      background-color: #434B5C;\n",
              "      box-shadow: 0px 1px 3px 1px rgba(0, 0, 0, 0.15);\n",
              "      filter: drop-shadow(0px 1px 2px rgba(0, 0, 0, 0.3));\n",
              "      fill: #FFFFFF;\n",
              "    }\n",
              "  </style>\n",
              "\n",
              "    <script>\n",
              "      const buttonEl =\n",
              "        document.querySelector('#df-52964d1c-9deb-4a37-94c0-21ef89b794d4 button.colab-df-convert');\n",
              "      buttonEl.style.display =\n",
              "        google.colab.kernel.accessAllowed ? 'block' : 'none';\n",
              "\n",
              "      async function convertToInteractive(key) {\n",
              "        const element = document.querySelector('#df-52964d1c-9deb-4a37-94c0-21ef89b794d4');\n",
              "        const dataTable =\n",
              "          await google.colab.kernel.invokeFunction('convertToInteractive',\n",
              "                                                    [key], {});\n",
              "        if (!dataTable) return;\n",
              "\n",
              "        const docLinkHtml = 'Like what you see? Visit the ' +\n",
              "          '<a target=\"_blank\" href=https://colab.research.google.com/notebooks/data_table.ipynb>data table notebook</a>'\n",
              "          + ' to learn more about interactive tables.';\n",
              "        element.innerHTML = '';\n",
              "        dataTable['output_type'] = 'display_data';\n",
              "        await google.colab.output.renderOutput(dataTable, element);\n",
              "        const docLink = document.createElement('div');\n",
              "        docLink.innerHTML = docLinkHtml;\n",
              "        element.appendChild(docLink);\n",
              "      }\n",
              "    </script>\n",
              "  </div>\n",
              "\n",
              "\n",
              "<div id=\"df-03d491dd-5354-4663-bdae-a446e3d010b8\">\n",
              "  <button class=\"colab-df-quickchart\" onclick=\"quickchart('df-03d491dd-5354-4663-bdae-a446e3d010b8')\"\n",
              "            title=\"Suggest charts\"\n",
              "            style=\"display:none;\">\n",
              "\n",
              "<svg xmlns=\"http://www.w3.org/2000/svg\" height=\"24px\"viewBox=\"0 0 24 24\"\n",
              "     width=\"24px\">\n",
              "    <g>\n",
              "        <path d=\"M19 3H5c-1.1 0-2 .9-2 2v14c0 1.1.9 2 2 2h14c1.1 0 2-.9 2-2V5c0-1.1-.9-2-2-2zM9 17H7v-7h2v7zm4 0h-2V7h2v10zm4 0h-2v-4h2v4z\"/>\n",
              "    </g>\n",
              "</svg>\n",
              "  </button>\n",
              "\n",
              "<style>\n",
              "  .colab-df-quickchart {\n",
              "      --bg-color: #E8F0FE;\n",
              "      --fill-color: #1967D2;\n",
              "      --hover-bg-color: #E2EBFA;\n",
              "      --hover-fill-color: #174EA6;\n",
              "      --disabled-fill-color: #AAA;\n",
              "      --disabled-bg-color: #DDD;\n",
              "  }\n",
              "\n",
              "  [theme=dark] .colab-df-quickchart {\n",
              "      --bg-color: #3B4455;\n",
              "      --fill-color: #D2E3FC;\n",
              "      --hover-bg-color: #434B5C;\n",
              "      --hover-fill-color: #FFFFFF;\n",
              "      --disabled-bg-color: #3B4455;\n",
              "      --disabled-fill-color: #666;\n",
              "  }\n",
              "\n",
              "  .colab-df-quickchart {\n",
              "    background-color: var(--bg-color);\n",
              "    border: none;\n",
              "    border-radius: 50%;\n",
              "    cursor: pointer;\n",
              "    display: none;\n",
              "    fill: var(--fill-color);\n",
              "    height: 32px;\n",
              "    padding: 0;\n",
              "    width: 32px;\n",
              "  }\n",
              "\n",
              "  .colab-df-quickchart:hover {\n",
              "    background-color: var(--hover-bg-color);\n",
              "    box-shadow: 0 1px 2px rgba(60, 64, 67, 0.3), 0 1px 3px 1px rgba(60, 64, 67, 0.15);\n",
              "    fill: var(--button-hover-fill-color);\n",
              "  }\n",
              "\n",
              "  .colab-df-quickchart-complete:disabled,\n",
              "  .colab-df-quickchart-complete:disabled:hover {\n",
              "    background-color: var(--disabled-bg-color);\n",
              "    fill: var(--disabled-fill-color);\n",
              "    box-shadow: none;\n",
              "  }\n",
              "\n",
              "  .colab-df-spinner {\n",
              "    border: 2px solid var(--fill-color);\n",
              "    border-color: transparent;\n",
              "    border-bottom-color: var(--fill-color);\n",
              "    animation:\n",
              "      spin 1s steps(1) infinite;\n",
              "  }\n",
              "\n",
              "  @keyframes spin {\n",
              "    0% {\n",
              "      border-color: transparent;\n",
              "      border-bottom-color: var(--fill-color);\n",
              "      border-left-color: var(--fill-color);\n",
              "    }\n",
              "    20% {\n",
              "      border-color: transparent;\n",
              "      border-left-color: var(--fill-color);\n",
              "      border-top-color: var(--fill-color);\n",
              "    }\n",
              "    30% {\n",
              "      border-color: transparent;\n",
              "      border-left-color: var(--fill-color);\n",
              "      border-top-color: var(--fill-color);\n",
              "      border-right-color: var(--fill-color);\n",
              "    }\n",
              "    40% {\n",
              "      border-color: transparent;\n",
              "      border-right-color: var(--fill-color);\n",
              "      border-top-color: var(--fill-color);\n",
              "    }\n",
              "    60% {\n",
              "      border-color: transparent;\n",
              "      border-right-color: var(--fill-color);\n",
              "    }\n",
              "    80% {\n",
              "      border-color: transparent;\n",
              "      border-right-color: var(--fill-color);\n",
              "      border-bottom-color: var(--fill-color);\n",
              "    }\n",
              "    90% {\n",
              "      border-color: transparent;\n",
              "      border-bottom-color: var(--fill-color);\n",
              "    }\n",
              "  }\n",
              "</style>\n",
              "\n",
              "  <script>\n",
              "    async function quickchart(key) {\n",
              "      const quickchartButtonEl =\n",
              "        document.querySelector('#' + key + ' button');\n",
              "      quickchartButtonEl.disabled = true;  // To prevent multiple clicks.\n",
              "      quickchartButtonEl.classList.add('colab-df-spinner');\n",
              "      try {\n",
              "        const charts = await google.colab.kernel.invokeFunction(\n",
              "            'suggestCharts', [key], {});\n",
              "      } catch (error) {\n",
              "        console.error('Error during call to suggestCharts:', error);\n",
              "      }\n",
              "      quickchartButtonEl.classList.remove('colab-df-spinner');\n",
              "      quickchartButtonEl.classList.add('colab-df-quickchart-complete');\n",
              "    }\n",
              "    (() => {\n",
              "      let quickchartButtonEl =\n",
              "        document.querySelector('#df-03d491dd-5354-4663-bdae-a446e3d010b8 button');\n",
              "      quickchartButtonEl.style.display =\n",
              "        google.colab.kernel.accessAllowed ? 'block' : 'none';\n",
              "    })();\n",
              "  </script>\n",
              "</div>\n",
              "\n",
              "    </div>\n",
              "  </div>\n"
            ],
            "application/vnd.google.colaboratory.intrinsic+json": {
              "type": "dataframe",
              "variable_name": "df"
            }
          },
          "metadata": {},
          "execution_count": 3
        }
      ]
    },
    {
      "cell_type": "markdown",
      "source": [
        "## Delete missing data"
      ],
      "metadata": {
        "id": "Hx6OD2K_eNJ5"
      }
    },
    {
      "cell_type": "code",
      "source": [
        "df = df.dropna()"
      ],
      "metadata": {
        "id": "trtVpu-rePpy"
      },
      "execution_count": 4,
      "outputs": []
    },
    {
      "cell_type": "markdown",
      "source": [
        "## Preprocessing dataset"
      ],
      "metadata": {
        "id": "nQ_0boL5eTOR"
      }
    },
    {
      "cell_type": "code",
      "source": [
        "def text_normalize(text):\n",
        "  # Lowercasing\n",
        "  text = text.lower\n",
        "\n",
        "  # Retweet old acronym \"RT\" removal\n",
        "  text = re.sub(r'^RT[\\s]+', '', text)\n",
        "\n",
        "  # Hyperlinks removal\n",
        "  text = re.sub(r'https?:\\/\\/.*[\\r\\n]*', '', text)\n",
        "\n",
        "  # Punctuation removal\n",
        "  text = re.sub(r'[^\\w\\s]', '', text)\n",
        "\n",
        "  # Remove stopwords\n",
        "  stop_words = set(stopwords.words('english'))\n",
        "  words = text.split()\n",
        "  words = [word for word in words if word not in stop_words]\n",
        "  text = ' '.join(words)\n",
        "\n",
        "  # Stemming\n",
        "  stemmer = SnowballStemmer('english')\n",
        "  words = text.split()\n",
        "  words = [stemmer.stem(word) for word in words]\n",
        "  text = ' '.join(words)\n",
        "\n",
        "  return text"
      ],
      "metadata": {
        "id": "Puuo9bhPeV25"
      },
      "execution_count": 5,
      "outputs": []
    },
    {
      "cell_type": "code",
      "source": [
        "vectorizer = TfidfVectorizer(max_features=2000)\n",
        "X = vectorizer.fit_transform(df['clean_text']).toarray()"
      ],
      "metadata": {
        "id": "2ohQcTZXgt66"
      },
      "execution_count": 6,
      "outputs": []
    },
    {
      "cell_type": "code",
      "source": [
        "intercept = np.ones((X.shape[0], 1))\n",
        "\n",
        "X_b = np.concatenate((intercept, X), axis=1)"
      ],
      "metadata": {
        "id": "zt3DSFQch18K"
      },
      "execution_count": 7,
      "outputs": []
    },
    {
      "cell_type": "markdown",
      "source": [
        "## One-hot encoding label"
      ],
      "metadata": {
        "id": "bfbNZZcdiPzz"
      }
    },
    {
      "cell_type": "code",
      "source": [
        "n_classes = df['category'].nunique()\n",
        "n_samples = df['category'].size\n",
        "\n",
        "y = df['category'].to_numpy() + 1\n",
        "y = y.astype(np.uint8)\n",
        "y_encoded = np.array([np.zeros(n_classes) for _ in range(n_samples)])\n",
        "y_encoded[np.arange(n_samples), y] = 1"
      ],
      "metadata": {
        "id": "GCW23JCpiSq3"
      },
      "execution_count": 8,
      "outputs": []
    },
    {
      "cell_type": "markdown",
      "source": [
        "## Split to train, val, test"
      ],
      "metadata": {
        "id": "E61tJYrTi4kJ"
      }
    },
    {
      "cell_type": "code",
      "source": [
        "val_size = 0.2\n",
        "test_size = 0.125\n",
        "random_state = 2\n",
        "is_shuffle = True\n",
        "\n",
        "X_train, X_val, y_train, y_val = train_test_split(\n",
        "    X_b, y_encoded,\n",
        "    test_size = val_size,\n",
        "    random_state = random_state,\n",
        "    shuffle = is_shuffle\n",
        ")\n",
        "\n",
        "X_train, X_test, y_train, y_test = train_test_split(\n",
        "    X_train, y_train,\n",
        "    test_size = test_size,\n",
        "    random_state = random_state,\n",
        "    shuffle = is_shuffle\n",
        ")"
      ],
      "metadata": {
        "id": "wemHIbz_i69E"
      },
      "execution_count": 9,
      "outputs": []
    },
    {
      "cell_type": "markdown",
      "source": [
        "## Define functions"
      ],
      "metadata": {
        "id": "JNY92Sg_jGRd"
      }
    },
    {
      "cell_type": "code",
      "source": [
        "def softmax(z):\n",
        "  exp_z = np.exp(z)\n",
        "\n",
        "  return exp_z / exp_z.sum(axis=1)[:, None]\n",
        "\n",
        "\n",
        "def predict(X, theta):\n",
        "  z = np.dot(X, theta)\n",
        "  y_hat = softmax(z)\n",
        "\n",
        "  return y_hat\n",
        "\n",
        "\n",
        "def compute_loss(y_hat, y):\n",
        "  n = y.size\n",
        "\n",
        "  return (-1/n) * np.sum(y * np.log(y_hat))\n",
        "\n",
        "\n",
        "def compute_gradient(X, y, y_hat):\n",
        "  n = y.size\n",
        "\n",
        "  return np.dot(X.T, (y_hat - y)) / n\n",
        "\n",
        "\n",
        "def update_theta(theta, gradient, lr):\n",
        "  return theta - lr * gradient\n",
        "\n",
        "\n",
        "def compute_accuracy(X, y, theta):\n",
        "  y_hat = predict(X, theta)\n",
        "\n",
        "  acc = (np.argmax(y_hat, axis=1) == np.argmax(y, axis=1)).mean()\n",
        "\n",
        "  return acc"
      ],
      "metadata": {
        "id": "KRF2_6FFjRYK"
      },
      "execution_count": 10,
      "outputs": []
    },
    {
      "cell_type": "markdown",
      "source": [
        "## Declare hyperparameters and initializer weights"
      ],
      "metadata": {
        "id": "kBe0kiwYjTvU"
      }
    },
    {
      "cell_type": "code",
      "source": [
        "lr = 0.01\n",
        "epochs = 30\n",
        "batch_size = 1024\n",
        "n_features = X_train.shape[1]\n",
        "\n",
        "np.random.seed(random_state)\n",
        "theta = np.random.uniform(size=(n_features, n_classes))"
      ],
      "metadata": {
        "id": "wudwYsDTjZpP"
      },
      "execution_count": 11,
      "outputs": []
    },
    {
      "cell_type": "markdown",
      "source": [
        "## Train model"
      ],
      "metadata": {
        "id": "e4oIKVM6jcwz"
      }
    },
    {
      "cell_type": "code",
      "source": [
        "train_accs = []\n",
        "train_losses = []\n",
        "val_accs = []\n",
        "val_losses = []\n",
        "\n",
        "for epoch in range(epochs):\n",
        "  train_batch_accs = []\n",
        "  train_batch_losses = []\n",
        "  val_batch_accs = []\n",
        "  val_batch_losses = []\n",
        "\n",
        "  for i in range(0, X_train.shape[0], batch_size):\n",
        "    X_i = X_train[i:i+batch_size]\n",
        "    y_i = y_train[i:i+batch_size]\n",
        "\n",
        "    y_hat = predict(X_i, theta)\n",
        "\n",
        "    train_loss = compute_loss(y_hat, y_i)\n",
        "    train_batch_losses.append(train_loss)\n",
        "\n",
        "    gradient = compute_gradient(X_i, y_i, y_hat)\n",
        "\n",
        "    theta = update_theta(theta, gradient, lr)\n",
        "\n",
        "    train_acc = compute_accuracy(X_train, y_train, theta)\n",
        "    train_batch_accs.append(train_acc)\n",
        "\n",
        "    y_val_hat = predict(X_val, theta)\n",
        "    val_loss = compute_loss(y_val_hat, y_val)\n",
        "    val_batch_losses.append(val_loss)\n",
        "\n",
        "    val_acc = compute_accuracy(X_val, y_val, theta)\n",
        "    val_batch_accs.append(val_acc)\n",
        "\n",
        "  train_batch_loss = sum(train_batch_losses) / len(train_batch_losses)\n",
        "  val_batch_loss = sum(val_batch_losses) / len(val_batch_losses)\n",
        "  train_batch_acc = sum(train_batch_accs) / len(train_batch_accs)\n",
        "  val_batch_acc = sum(val_batch_accs) / len(val_batch_accs)\n",
        "\n",
        "  train_losses.append(train_batch_loss)\n",
        "  val_losses.append(val_batch_loss)\n",
        "  train_accs.append(train_batch_acc)\n",
        "  val_accs.append(val_batch_acc)\n",
        "\n",
        "  print (f'\\nEPOCH {epoch + 1}:\\tTraining loss: {train_batch_loss:.3f}\\tValidation loss: {val_batch_loss:.3f}')"
      ],
      "metadata": {
        "colab": {
          "base_uri": "https://localhost:8080/",
          "height": 624
        },
        "id": "V_5gikGjjeMf",
        "outputId": "38dee79e-95b9-4da4-9819-f5f62d7cfb21"
      },
      "execution_count": 12,
      "outputs": [
        {
          "output_type": "stream",
          "name": "stdout",
          "text": [
            "\n",
            "EPOCH 1:\tTraining loss: 0.377\tValidation loss: 0.377\n",
            "\n",
            "EPOCH 2:\tTraining loss: 0.374\tValidation loss: 0.373\n",
            "\n",
            "EPOCH 3:\tTraining loss: 0.371\tValidation loss: 0.371\n",
            "\n",
            "EPOCH 4:\tTraining loss: 0.369\tValidation loss: 0.369\n",
            "\n",
            "EPOCH 5:\tTraining loss: 0.368\tValidation loss: 0.367\n",
            "\n",
            "EPOCH 6:\tTraining loss: 0.366\tValidation loss: 0.366\n",
            "\n",
            "EPOCH 7:\tTraining loss: 0.365\tValidation loss: 0.364\n"
          ]
        },
        {
          "output_type": "error",
          "ename": "KeyboardInterrupt",
          "evalue": "",
          "traceback": [
            "\u001b[0;31m---------------------------------------------------------------------------\u001b[0m",
            "\u001b[0;31mKeyboardInterrupt\u001b[0m                         Traceback (most recent call last)",
            "\u001b[0;32m<ipython-input-12-6f7c57ebc059>\u001b[0m in \u001b[0;36m<cell line: 0>\u001b[0;34m()\u001b[0m\n\u001b[1;32m     30\u001b[0m     \u001b[0mval_batch_losses\u001b[0m\u001b[0;34m.\u001b[0m\u001b[0mappend\u001b[0m\u001b[0;34m(\u001b[0m\u001b[0mval_loss\u001b[0m\u001b[0;34m)\u001b[0m\u001b[0;34m\u001b[0m\u001b[0;34m\u001b[0m\u001b[0m\n\u001b[1;32m     31\u001b[0m \u001b[0;34m\u001b[0m\u001b[0m\n\u001b[0;32m---> 32\u001b[0;31m     \u001b[0mval_acc\u001b[0m \u001b[0;34m=\u001b[0m \u001b[0mcompute_accuracy\u001b[0m\u001b[0;34m(\u001b[0m\u001b[0mX_val\u001b[0m\u001b[0;34m,\u001b[0m \u001b[0my_val\u001b[0m\u001b[0;34m,\u001b[0m \u001b[0mtheta\u001b[0m\u001b[0;34m)\u001b[0m\u001b[0;34m\u001b[0m\u001b[0;34m\u001b[0m\u001b[0m\n\u001b[0m\u001b[1;32m     33\u001b[0m     \u001b[0mval_batch_accs\u001b[0m\u001b[0;34m.\u001b[0m\u001b[0mappend\u001b[0m\u001b[0;34m(\u001b[0m\u001b[0mval_acc\u001b[0m\u001b[0;34m)\u001b[0m\u001b[0;34m\u001b[0m\u001b[0;34m\u001b[0m\u001b[0m\n\u001b[1;32m     34\u001b[0m \u001b[0;34m\u001b[0m\u001b[0m\n",
            "\u001b[0;32m<ipython-input-10-003be449e370>\u001b[0m in \u001b[0;36mcompute_accuracy\u001b[0;34m(X, y, theta)\u001b[0m\n\u001b[1;32m     29\u001b[0m \u001b[0;34m\u001b[0m\u001b[0m\n\u001b[1;32m     30\u001b[0m \u001b[0;32mdef\u001b[0m \u001b[0mcompute_accuracy\u001b[0m\u001b[0;34m(\u001b[0m\u001b[0mX\u001b[0m\u001b[0;34m,\u001b[0m \u001b[0my\u001b[0m\u001b[0;34m,\u001b[0m \u001b[0mtheta\u001b[0m\u001b[0;34m)\u001b[0m\u001b[0;34m:\u001b[0m\u001b[0;34m\u001b[0m\u001b[0;34m\u001b[0m\u001b[0m\n\u001b[0;32m---> 31\u001b[0;31m   \u001b[0my_hat\u001b[0m \u001b[0;34m=\u001b[0m \u001b[0mpredict\u001b[0m\u001b[0;34m(\u001b[0m\u001b[0mX\u001b[0m\u001b[0;34m,\u001b[0m \u001b[0mtheta\u001b[0m\u001b[0;34m)\u001b[0m\u001b[0;34m\u001b[0m\u001b[0;34m\u001b[0m\u001b[0m\n\u001b[0m\u001b[1;32m     32\u001b[0m \u001b[0;34m\u001b[0m\u001b[0m\n\u001b[1;32m     33\u001b[0m   \u001b[0macc\u001b[0m \u001b[0;34m=\u001b[0m \u001b[0;34m(\u001b[0m\u001b[0mnp\u001b[0m\u001b[0;34m.\u001b[0m\u001b[0margmax\u001b[0m\u001b[0;34m(\u001b[0m\u001b[0my_hat\u001b[0m\u001b[0;34m,\u001b[0m \u001b[0maxis\u001b[0m\u001b[0;34m=\u001b[0m\u001b[0;36m1\u001b[0m\u001b[0;34m)\u001b[0m \u001b[0;34m==\u001b[0m \u001b[0mnp\u001b[0m\u001b[0;34m.\u001b[0m\u001b[0margmax\u001b[0m\u001b[0;34m(\u001b[0m\u001b[0my\u001b[0m\u001b[0;34m,\u001b[0m \u001b[0maxis\u001b[0m\u001b[0;34m=\u001b[0m\u001b[0;36m1\u001b[0m\u001b[0;34m)\u001b[0m\u001b[0;34m)\u001b[0m\u001b[0;34m.\u001b[0m\u001b[0mmean\u001b[0m\u001b[0;34m(\u001b[0m\u001b[0;34m)\u001b[0m\u001b[0;34m\u001b[0m\u001b[0;34m\u001b[0m\u001b[0m\n",
            "\u001b[0;32m<ipython-input-10-003be449e370>\u001b[0m in \u001b[0;36mpredict\u001b[0;34m(X, theta)\u001b[0m\n\u001b[1;32m      6\u001b[0m \u001b[0;34m\u001b[0m\u001b[0m\n\u001b[1;32m      7\u001b[0m \u001b[0;32mdef\u001b[0m \u001b[0mpredict\u001b[0m\u001b[0;34m(\u001b[0m\u001b[0mX\u001b[0m\u001b[0;34m,\u001b[0m \u001b[0mtheta\u001b[0m\u001b[0;34m)\u001b[0m\u001b[0;34m:\u001b[0m\u001b[0;34m\u001b[0m\u001b[0;34m\u001b[0m\u001b[0m\n\u001b[0;32m----> 8\u001b[0;31m   \u001b[0mz\u001b[0m \u001b[0;34m=\u001b[0m \u001b[0mnp\u001b[0m\u001b[0;34m.\u001b[0m\u001b[0mdot\u001b[0m\u001b[0;34m(\u001b[0m\u001b[0mX\u001b[0m\u001b[0;34m,\u001b[0m \u001b[0mtheta\u001b[0m\u001b[0;34m)\u001b[0m\u001b[0;34m\u001b[0m\u001b[0;34m\u001b[0m\u001b[0m\n\u001b[0m\u001b[1;32m      9\u001b[0m   \u001b[0my_hat\u001b[0m \u001b[0;34m=\u001b[0m \u001b[0msoftmax\u001b[0m\u001b[0;34m(\u001b[0m\u001b[0mz\u001b[0m\u001b[0;34m)\u001b[0m\u001b[0;34m\u001b[0m\u001b[0;34m\u001b[0m\u001b[0m\n\u001b[1;32m     10\u001b[0m \u001b[0;34m\u001b[0m\u001b[0m\n",
            "\u001b[0;31mKeyboardInterrupt\u001b[0m: "
          ]
        }
      ]
    },
    {
      "cell_type": "code",
      "source": [
        "fig, ax = plt.subplots(2, 2, figsize=(12, 10))\n",
        "\n",
        "ax[0, 0].plot(train_losses)\n",
        "ax[0, 0].set(xlabel='Epoch', ylabel='Loss')\n",
        "ax[0, 0].set_title('Training Loss')\n",
        "\n",
        "ax[0, 1].plot(val_losses, 'orange')\n",
        "ax[0, 1].set(xlabel='Epoch', ylabel='Loss')\n",
        "ax[0, 1].set_title('Validation Loss')\n",
        "\n",
        "ax[1, 0].plot(train_accs)\n",
        "ax[1, 0].set(xlabel='Epoch', ylabel='Accuracy')\n",
        "ax[1, 0].set_title('Training Accuracy')\n",
        "\n",
        "ax[1, 1].plot(val_accs, 'orange')\n",
        "ax[1, 1].set(xlabel='Epoch', ylabel='Accuracy')\n",
        "ax[1, 1].set_title('Validation Accuracy')\n",
        "\n",
        "plt.show()"
      ],
      "metadata": {
        "colab": {
          "base_uri": "https://localhost:8080/",
          "height": 872
        },
        "id": "pwjl4SVUjjJt",
        "outputId": "35c07abe-5063-473e-fed7-88f74d0f0729"
      },
      "execution_count": 13,
      "outputs": [
        {
          "output_type": "display_data",
          "data": {
            "text/plain": [
              "<Figure size 1200x1000 with 4 Axes>"
            ],
            "image/png": "[encoded data removed]"
          },
          "metadata": {}
        }
      ]
    },
    {
      "cell_type": "markdown",
      "source": [
        "## Validate model"
      ],
      "metadata": {
        "id": "z8-QYtPYjlhV"
      }
    },
    {
      "cell_type": "code",
      "source": [
        "val_set_acc = compute_accuracy(X_val, y_val, theta)\n",
        "test_set_acc = compute_accuracy(X_test, y_test, theta)\n",
        "print('Evaluation on validation and test set :')\n",
        "print(f'Accuracy: {val_set_acc}')\n",
        "print(f'Accuracy: {test_set_acc}')"
      ],
      "metadata": {
        "colab": {
          "base_uri": "https://localhost:8080/"
        },
        "id": "vo9CIiugjmi_",
        "outputId": "1b3276a0-3cfc-46cd-d5ec-3a449bfcb59f"
      },
      "execution_count": 14,
      "outputs": [
        {
          "output_type": "stream",
          "name": "stdout",
          "text": [
            "Evaluation on validation and test set :\n",
            "Accuracy: 0.41611953120206174\n",
            "Accuracy: 0.40897097625329815\n"
          ]
        }
      ]
    }
  ]
}